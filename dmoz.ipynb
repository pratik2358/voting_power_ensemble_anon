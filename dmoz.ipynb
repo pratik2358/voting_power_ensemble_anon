{
 "cells": [
  {
   "cell_type": "code",
   "execution_count": 1,
   "metadata": {},
   "outputs": [],
   "source": [
    "import numpy as np # linear algebra\n",
    "import pandas as pd # data processing, CSV file I/O (e.g. pd.read_csv)\n",
    "import re\n",
    "\n",
    "import sklearn\n",
    "from sklearn.base import BaseEstimator, ClassifierMixin\n",
    "from sklearn.model_selection import train_test_split, cross_val_score\n",
    "from sklearn.metrics import f1_score, classification_report\n",
    "from sklearn.feature_extraction.text import CountVectorizer, TfidfVectorizer\n",
    "from sklearn.pipeline import Pipeline\n",
    "from sklearn.linear_model import LogisticRegression\n",
    "from sklearn.naive_bayes import MultinomialNB\n",
    "\n",
    "# scipy sparse matrix\n",
    "import scipy\n",
    "from scipy.sparse import hstack\n",
    "\n",
    "import seaborn as sns\n",
    "import matplotlib.pyplot as plt\n",
    "from voting_utils import WeightFinding_sklearn\n",
    "from nltk.stem.snowball import SnowballStemmer\n",
    "wnl = SnowballStemmer('english')\n",
    "from scipy.sparse import vstack\n",
    "from tqdm import tqdm\n",
    "from voting_utils import voting\n",
    "import os\n",
    "# for dirname, _, filenames in os.walk('/kaggle/input'):\n",
    "#     for filename in filenames:\n",
    "#         print(os.path.join(dirname, filename))"
   ]
  },
  {
   "cell_type": "code",
   "execution_count": 2,
   "metadata": {},
   "outputs": [],
   "source": [
    "# Data Preprocessing & Data Cleaning\n",
    "def url_parser(url):\n",
    "    try:\n",
    "        pattern = re.compile(r'^(?P<protocal>.*?)://(?P<domainname>.*?)(/(?P<uri>.*?))?$')\n",
    "        groups = re.match(pattern, url).groupdict()\n",
    "    except Exception as e:\n",
    "        groups = {'protocal': ' ', 'domainname': ' ', 'uri': ' '}\n",
    "    return groups\n",
    "\n",
    "\n",
    "def tokenize_and_lemmatize(s):\n",
    "    s = s if s else ''\n",
    "    try:\n",
    "        tokens = filter(lambda x: x != '', re.split(r'\\W', s))\n",
    "        # http//www.hundreddogs-cats.com\n",
    "        # www, hundreddogs, cats, com\n",
    "        tokens = map(lambda t: wnl.stem(t), tokens)\n",
    "        tokens = list(tokens)\n",
    "    except Exception as e:\n",
    "        tokens = []\n",
    "        \n",
    "    return ' '.join(tokens)\n",
    "\n",
    "\n",
    "def parse_dataset(df):\n",
    "    url_groups = list(map(url_parser, df['url']))\n",
    "    df = pd.concat([df, pd.DataFrame.from_dict(url_groups)], axis=1)\n",
    "    \n",
    "    df['domainname'] = list(map(tokenize_and_lemmatize, df['domainname']))\n",
    "    df['uri'] = list(map(tokenize_and_lemmatize, df['uri']))\n",
    "    \n",
    "    return df"
   ]
  },
  {
   "cell_type": "markdown",
   "metadata": {},
   "source": [
    "## MNB model"
   ]
  },
  {
   "cell_type": "code",
   "execution_count": 3,
   "metadata": {},
   "outputs": [
    {
     "data": {
      "text/html": [
       "<div>\n",
       "<style scoped>\n",
       "    .dataframe tbody tr th:only-of-type {\n",
       "        vertical-align: middle;\n",
       "    }\n",
       "\n",
       "    .dataframe tbody tr th {\n",
       "        vertical-align: top;\n",
       "    }\n",
       "\n",
       "    .dataframe thead th {\n",
       "        text-align: right;\n",
       "    }\n",
       "</style>\n",
       "<table border=\"1\" class=\"dataframe\">\n",
       "  <thead>\n",
       "    <tr style=\"text-align: right;\">\n",
       "      <th></th>\n",
       "      <th>index</th>\n",
       "      <th>url</th>\n",
       "      <th>label</th>\n",
       "    </tr>\n",
       "  </thead>\n",
       "  <tbody>\n",
       "    <tr>\n",
       "      <th>0</th>\n",
       "      <td>1</td>\n",
       "      <td>http://www.liquidgeneration.com/</td>\n",
       "      <td>Adult</td>\n",
       "    </tr>\n",
       "    <tr>\n",
       "      <th>1</th>\n",
       "      <td>2</td>\n",
       "      <td>http://www.onlineanime.org/</td>\n",
       "      <td>Adult</td>\n",
       "    </tr>\n",
       "    <tr>\n",
       "      <th>2</th>\n",
       "      <td>3</td>\n",
       "      <td>http://www.ceres.dti.ne.jp/~nekoi/senno/senfir...</td>\n",
       "      <td>Adult</td>\n",
       "    </tr>\n",
       "    <tr>\n",
       "      <th>3</th>\n",
       "      <td>4</td>\n",
       "      <td>http://www.galeon.com/kmh/</td>\n",
       "      <td>Adult</td>\n",
       "    </tr>\n",
       "    <tr>\n",
       "      <th>4</th>\n",
       "      <td>5</td>\n",
       "      <td>http://www.fanworkrecs.com/</td>\n",
       "      <td>Adult</td>\n",
       "    </tr>\n",
       "    <tr>\n",
       "      <th>...</th>\n",
       "      <td>...</td>\n",
       "      <td>...</td>\n",
       "      <td>...</td>\n",
       "    </tr>\n",
       "    <tr>\n",
       "      <th>1562973</th>\n",
       "      <td>1562974</td>\n",
       "      <td>http://www.maxpreps.com/</td>\n",
       "      <td>Sports</td>\n",
       "    </tr>\n",
       "    <tr>\n",
       "      <th>1562974</th>\n",
       "      <td>1562975</td>\n",
       "      <td>http://www.myscore.com/</td>\n",
       "      <td>Sports</td>\n",
       "    </tr>\n",
       "    <tr>\n",
       "      <th>1562975</th>\n",
       "      <td>1562976</td>\n",
       "      <td>http://sportsillustrated.cnn.com/highschool</td>\n",
       "      <td>Sports</td>\n",
       "    </tr>\n",
       "    <tr>\n",
       "      <th>1562976</th>\n",
       "      <td>1562977</td>\n",
       "      <td>http://rss.cnn.com/rss/si_highschool?format=xml</td>\n",
       "      <td>Sports</td>\n",
       "    </tr>\n",
       "    <tr>\n",
       "      <th>1562977</th>\n",
       "      <td>1562978</td>\n",
       "      <td>http://www.usatoday.com/sports/preps/</td>\n",
       "      <td>Sports</td>\n",
       "    </tr>\n",
       "  </tbody>\n",
       "</table>\n",
       "<p>1562978 rows × 3 columns</p>\n",
       "</div>"
      ],
      "text/plain": [
       "           index                                                url   label\n",
       "0              1                   http://www.liquidgeneration.com/   Adult\n",
       "1              2                        http://www.onlineanime.org/   Adult\n",
       "2              3  http://www.ceres.dti.ne.jp/~nekoi/senno/senfir...   Adult\n",
       "3              4                         http://www.galeon.com/kmh/   Adult\n",
       "4              5                        http://www.fanworkrecs.com/   Adult\n",
       "...          ...                                                ...     ...\n",
       "1562973  1562974                           http://www.maxpreps.com/  Sports\n",
       "1562974  1562975                            http://www.myscore.com/  Sports\n",
       "1562975  1562976        http://sportsillustrated.cnn.com/highschool  Sports\n",
       "1562976  1562977    http://rss.cnn.com/rss/si_highschool?format=xml  Sports\n",
       "1562977  1562978              http://www.usatoday.com/sports/preps/  Sports\n",
       "\n",
       "[1562978 rows x 3 columns]"
      ]
     },
     "execution_count": 3,
     "metadata": {},
     "output_type": "execute_result"
    }
   ],
   "source": [
    "df = pd.read_csv('dmoz.csv', header=None)\n",
    "df.columns = [\"index\", \"url\", \"label\"]\n",
    "df"
   ]
  },
  {
   "cell_type": "code",
   "execution_count": 4,
   "metadata": {},
   "outputs": [
    {
     "data": {
      "text/plain": [
       "Text(0.5, 0, 'labels')"
      ]
     },
     "execution_count": 4,
     "metadata": {},
     "output_type": "execute_result"
    },
    {
     "data": {
      "image/png": "[encoded data removed]",
      "text/plain": [
       "<Figure size 1200x500 with 1 Axes>"
      ]
     },
     "metadata": {},
     "output_type": "display_data"
    }
   ],
   "source": [
    "df['label'].value_counts().plot(figsize=(12,5),kind='bar',color='green');\n",
    "plt.xlabel('labels')"
   ]
  },
  {
   "cell_type": "code",
   "execution_count": 5,
   "metadata": {},
   "outputs": [],
   "source": [
    "num_samples = len(df)\n",
    "df = df[0:num_samples]"
   ]
  },
  {
   "cell_type": "code",
   "execution_count": 6,
   "metadata": {},
   "outputs": [
    {
     "name": "stdout",
     "output_type": "stream",
     "text": [
      "Parsing 1562978 rows dataset...\n",
      "Done\n"
     ]
    }
   ],
   "source": [
    "print(f\"Parsing {len(df)} rows dataset...\")\n",
    "df = parse_dataset(df)\n",
    "\n",
    "print(\"Done\")"
   ]
  },
  {
   "cell_type": "code",
   "execution_count": 7,
   "metadata": {},
   "outputs": [],
   "source": [
    "unique_labels = set(df['label'])\n",
    "label2idx = {k: i for i, k in enumerate(unique_labels)}\n",
    "idx2label = {i: k for i, k in enumerate(unique_labels)}"
   ]
  },
  {
   "cell_type": "code",
   "execution_count": 8,
   "metadata": {},
   "outputs": [],
   "source": [
    "df['label'] = df['label'].map(label2idx)"
   ]
  },
  {
   "cell_type": "code",
   "execution_count": 9,
   "metadata": {},
   "outputs": [
    {
     "name": "stdout",
     "output_type": "stream",
     "text": [
      "Training domainname vectorizer\n",
      "Training uri vectorizer\n"
     ]
    }
   ],
   "source": [
    "print(\"Training domainname vectorizer\")\n",
    "domainname_tfidf_vectorizer = TfidfVectorizer(analyzer='word', ngram_range=(1, 1)).fit(df['domainname'])\n",
    "\n",
    "print(\"Training uri vectorizer\")\n",
    "uri_tfidf_vectorizer = TfidfVectorizer(analyzer='word', ngram_range=(1, 3)).fit(df['uri'])"
   ]
  },
  {
   "cell_type": "code",
   "execution_count": 10,
   "metadata": {},
   "outputs": [
    {
     "data": {
      "text/plain": [
       "((1562978, 2770911), (1562978,))"
      ]
     },
     "execution_count": 10,
     "metadata": {},
     "output_type": "execute_result"
    }
   ],
   "source": [
    "X = hstack((\n",
    "    domainname_tfidf_vectorizer.transform(df['domainname']), \n",
    "    uri_tfidf_vectorizer.transform(df['uri'])\n",
    "))\n",
    "\n",
    "y = df['label'].values\n",
    "\n",
    "X.shape, y.shape"
   ]
  },
  {
   "cell_type": "code",
   "execution_count": 11,
   "metadata": {},
   "outputs": [],
   "source": [
    "def stratified_train_test_split(X, y, test_size=0.2, random_state=42):\n",
    "    X_train_list = []\n",
    "    X_test_list = []\n",
    "    y_train_list = []\n",
    "    y_test_list = []\n",
    "\n",
    "    for class_label in np.unique(y):\n",
    "        X_class = X[y == class_label]\n",
    "        y_class = y[y == class_label]\n",
    "        \n",
    "        X_class_train, X_class_test, y_class_train, y_class_test = train_test_split(\n",
    "            X_class, y_class, test_size=test_size, random_state=random_state\n",
    "        )\n",
    "        \n",
    "        X_train_list.append(X_class_train)\n",
    "        X_test_list.append(X_class_test)\n",
    "        y_train_list.append(y_class_train)\n",
    "        y_test_list.append(y_class_test)\n",
    "    \n",
    "    X_train = vstack(X_train_list)\n",
    "    X_test = vstack(X_test_list)\n",
    "    \n",
    "    y_train = np.hstack(y_train_list)\n",
    "    y_test = np.hstack(y_test_list)\n",
    "    \n",
    "    return X_train, X_test, y_train, y_test"
   ]
  },
  {
   "cell_type": "code",
   "execution_count": 13,
   "metadata": {},
   "outputs": [],
   "source": [
    "X_train, X_test, y_train, y_test = stratified_train_test_split(X, y, test_size=0.3)\n",
    "X_test, X_val, y_test, y_val = train_test_split(X_test, y_test, test_size=0.5)\n",
    "\n",
    "def train_noisy_MNB(n_models, X_train, y_train, unique_labels):\n",
    "    clfs = []\n",
    "    p = 1/n_models - 0.02\n",
    "    for i in range(n_models):\n",
    "        clf = sklearn.naive_bayes.MultinomialNB()\n",
    "        X_train_part, X_test_part, y_train_part, y_test_part = stratified_train_test_split(X_train, y_train, test_size=0.2)\n",
    "        flip_indices = np.random.choice(range(len(y_train_part)), int(i * p * len(y_train_part)), replace=False)\n",
    "        y_train_part[flip_indices] = len(unique_labels) - 1 - y_train_part[flip_indices]\n",
    "        clf.fit(X_train_part, y_train_part)\n",
    "        clfs.append(clf)\n",
    "    return clfs"
   ]
  },
  {
   "cell_type": "code",
   "execution_count": 15,
   "metadata": {},
   "outputs": [],
   "source": [
    "def experiment(divs, n):\n",
    "    accuracy_dict = {}\n",
    "    accuracy_dict['accuracy'] = {}\n",
    "    accuracy_dict['shapley'] = {}\n",
    "    accuracy_dict['loo'] = {}\n",
    "    accuracy_dict['entropy'] = {}\n",
    "    accuracy_dict['crh'] = {}\n",
    "    accuracy_dict['regression'] = {}\n",
    "    accuracy_dict['unweighted'] = {}\n",
    "\n",
    "    for key in accuracy_dict.keys():\n",
    "        accuracy_dict[key]['borda'] = []\n",
    "        accuracy_dict[key]['plurality'] = []\n",
    "\n",
    "    for i in tqdm(range(n)):\n",
    "        X_train, X_test, y_train, y_test = stratified_train_test_split(X, y, test_size=0.3)\n",
    "        X_test, X_val, y_test, y_val = train_test_split(X_test, y_test, test_size=0.5)\n",
    "        clfs = train_noisy_MNB(divs, X_train, y_train, unique_labels)\n",
    "        wf = WeightFinding_sklearn(clfs, [X_val, y_val], 'cpu')\n",
    "        wf_test = WeightFinding_sklearn(clfs, [X_test, y_test], 'cpu')\n",
    "        loo_weights = wf.loo()\n",
    "        shapley_weights = wf.shapley()\n",
    "        crh_weights = wf.crh()\n",
    "        regression_weights = wf.regression()\n",
    "        acc_weights = wf.accuracy_weights()\n",
    "        entropy_weights = wf.entropy_weights()\n",
    "        \n",
    "        accuracy_dict['accuracy']['borda'].append(voting(wf_test.y_preds, wf_test.labels, acc_weights, method='borda'))\n",
    "        accuracy_dict['accuracy']['plurality'].append(voting(wf_test.y_preds, wf_test.labels, acc_weights, method='plurality'))\n",
    "        accuracy_dict['shapley']['borda'].append(voting(wf_test.y_preds, wf_test.labels, shapley_weights, method='borda'))\n",
    "        accuracy_dict['shapley']['plurality'].append(voting(wf_test.y_preds, wf_test.labels, shapley_weights, method='plurality'))\n",
    "        accuracy_dict['loo']['borda'].append(voting(wf_test.y_preds, wf_test.labels, loo_weights, method='borda'))\n",
    "        accuracy_dict['loo']['plurality'].append(voting(wf_test.y_preds, wf_test.labels, loo_weights, method='plurality'))\n",
    "        accuracy_dict['entropy']['borda'].append(voting(wf_test.y_preds, wf_test.labels, entropy_weights, method='borda'))\n",
    "        accuracy_dict['entropy']['plurality'].append(voting(wf_test.y_preds, wf_test.labels, entropy_weights, method='plurality'))\n",
    "        accuracy_dict['crh']['borda'].append(voting(wf_test.y_preds, wf_test.labels, crh_weights, method='borda'))\n",
    "        accuracy_dict['crh']['plurality'].append(voting(wf_test.y_preds, wf_test.labels, crh_weights, method='plurality'))\n",
    "        accuracy_dict['regression']['borda'].append(voting(wf_test.y_preds, wf_test.labels, regression_weights, method='borda'))\n",
    "        accuracy_dict['regression']['plurality'].append(voting(wf_test.y_preds, wf_test.labels, regression_weights, method='plurality'))\n",
    "        accuracy_dict['unweighted']['borda'].append(voting(wf_test.y_preds, wf_test.labels, weights = None, method='borda'))\n",
    "        accuracy_dict['unweighted']['plurality'].append(voting(wf_test.y_preds, wf_test.labels, weights = None, method='plurality'))\n",
    "    return accuracy_dict"
   ]
  },
  {
   "cell_type": "code",
   "execution_count": 16,
   "metadata": {},
   "outputs": [
    {
     "name": "stderr",
     "output_type": "stream",
     "text": [
      "100%|██████████| 3/3 [00:00<00:00,  7.05it/s]\n",
      "100%|██████████| 3/3 [00:00<00:00,  7.09it/s]\n"
     ]
    },
    {
     "name": "stdout",
     "output_type": "stream",
     "text": [
      "Calculating LOO values for 3 models\n",
      "Calculating Shapley values for 3 models\n"
     ]
    },
    {
     "name": "stderr",
     "output_type": "stream",
     "text": [
      "/home/pratik/miniconda3/lib/python3.12/site-packages/numpy/core/fromnumeric.py:3504: RuntimeWarning: Mean of empty slice.\n",
      "  return _methods._mean(a, axis=axis, dtype=dtype,\n",
      "/home/pratik/miniconda3/lib/python3.12/site-packages/numpy/core/_methods.py:121: RuntimeWarning: invalid value encountered in divide\n",
      "  ret = um.true_divide(\n",
      "100%|██████████| 4/4 [00:00<00:00, 24.13it/s]\n",
      "100%|██████████| 3/3 [00:00<00:00, 39077.37it/s]\n"
     ]
    },
    {
     "name": "stdout",
     "output_type": "stream",
     "text": [
      "Calculating CRH values for 3 models\n",
      "Calculating Regression weights for 3 models\n"
     ]
    },
    {
     "name": "stderr",
     "output_type": "stream",
     "text": [
      "100%|██████████| 1000/1000 [00:32<00:00, 30.53it/s]\n"
     ]
    },
    {
     "name": "stdout",
     "output_type": "stream",
     "text": [
      "Calculating Accuracy weights for 3 models\n",
      "Calculating Entropy weights for 3 models\n"
     ]
    },
    {
     "name": "stderr",
     "output_type": "stream",
     "text": [
      "100%|██████████| 3/3 [00:00<00:00,  7.18it/s]]\n",
      "100%|██████████| 3/3 [00:00<00:00,  7.20it/s]\n"
     ]
    },
    {
     "name": "stdout",
     "output_type": "stream",
     "text": [
      "Calculating LOO values for 3 models\n",
      "Calculating Shapley values for 3 models\n"
     ]
    },
    {
     "name": "stderr",
     "output_type": "stream",
     "text": [
      "/home/pratik/miniconda3/lib/python3.12/site-packages/numpy/core/fromnumeric.py:3504: RuntimeWarning: Mean of empty slice.\n",
      "  return _methods._mean(a, axis=axis, dtype=dtype,\n",
      "/home/pratik/miniconda3/lib/python3.12/site-packages/numpy/core/_methods.py:121: RuntimeWarning: invalid value encountered in divide\n",
      "  ret = um.true_divide(\n",
      "100%|██████████| 4/4 [00:00<00:00, 22.19it/s]\n",
      "100%|██████████| 3/3 [00:00<00:00, 49539.02it/s]\n"
     ]
    },
    {
     "name": "stdout",
     "output_type": "stream",
     "text": [
      "Calculating CRH values for 3 models\n",
      "Calculating Regression weights for 3 models\n"
     ]
    },
    {
     "name": "stderr",
     "output_type": "stream",
     "text": [
      "100%|██████████| 1000/1000 [00:25<00:00, 38.52it/s]\n"
     ]
    },
    {
     "name": "stdout",
     "output_type": "stream",
     "text": [
      "Calculating Accuracy weights for 3 models\n",
      "Calculating Entropy weights for 3 models\n"
     ]
    },
    {
     "name": "stderr",
     "output_type": "stream",
     "text": [
      "100%|██████████| 3/3 [00:00<00:00,  7.18it/s]]\n",
      "100%|██████████| 3/3 [00:00<00:00,  7.20it/s]\n"
     ]
    },
    {
     "name": "stdout",
     "output_type": "stream",
     "text": [
      "Calculating LOO values for 3 models\n",
      "Calculating Shapley values for 3 models\n"
     ]
    },
    {
     "name": "stderr",
     "output_type": "stream",
     "text": [
      "/home/pratik/miniconda3/lib/python3.12/site-packages/numpy/core/fromnumeric.py:3504: RuntimeWarning: Mean of empty slice.\n",
      "  return _methods._mean(a, axis=axis, dtype=dtype,\n",
      "/home/pratik/miniconda3/lib/python3.12/site-packages/numpy/core/_methods.py:121: RuntimeWarning: invalid value encountered in divide\n",
      "  ret = um.true_divide(\n",
      "100%|██████████| 4/4 [00:00<00:00, 26.57it/s]\n",
      "100%|██████████| 3/3 [00:00<00:00, 54471.48it/s]\n"
     ]
    },
    {
     "name": "stdout",
     "output_type": "stream",
     "text": [
      "Calculating CRH values for 3 models\n",
      "Calculating Regression weights for 3 models\n"
     ]
    },
    {
     "name": "stderr",
     "output_type": "stream",
     "text": [
      "100%|██████████| 1000/1000 [00:24<00:00, 41.01it/s]\n"
     ]
    },
    {
     "name": "stdout",
     "output_type": "stream",
     "text": [
      "Calculating Accuracy weights for 3 models\n",
      "Calculating Entropy weights for 3 models\n"
     ]
    },
    {
     "name": "stderr",
     "output_type": "stream",
     "text": [
      "100%|██████████| 3/3 [00:00<00:00,  7.36it/s]]\n",
      "100%|██████████| 3/3 [00:00<00:00,  7.41it/s]\n"
     ]
    },
    {
     "name": "stdout",
     "output_type": "stream",
     "text": [
      "Calculating LOO values for 3 models\n",
      "Calculating Shapley values for 3 models\n"
     ]
    },
    {
     "name": "stderr",
     "output_type": "stream",
     "text": [
      "/home/pratik/miniconda3/lib/python3.12/site-packages/numpy/core/fromnumeric.py:3504: RuntimeWarning: Mean of empty slice.\n",
      "  return _methods._mean(a, axis=axis, dtype=dtype,\n",
      "/home/pratik/miniconda3/lib/python3.12/site-packages/numpy/core/_methods.py:121: RuntimeWarning: invalid value encountered in divide\n",
      "  ret = um.true_divide(\n",
      "100%|██████████| 4/4 [00:00<00:00, 27.17it/s]\n",
      "100%|██████████| 3/3 [00:00<00:00, 59353.36it/s]\n"
     ]
    },
    {
     "name": "stdout",
     "output_type": "stream",
     "text": [
      "Calculating CRH values for 3 models\n",
      "Calculating Regression weights for 3 models\n"
     ]
    },
    {
     "name": "stderr",
     "output_type": "stream",
     "text": [
      "100%|██████████| 1000/1000 [00:24<00:00, 40.61it/s]\n"
     ]
    },
    {
     "name": "stdout",
     "output_type": "stream",
     "text": [
      "Calculating Accuracy weights for 3 models\n",
      "Calculating Entropy weights for 3 models\n"
     ]
    },
    {
     "name": "stderr",
     "output_type": "stream",
     "text": [
      "100%|██████████| 3/3 [00:00<00:00,  7.28it/s]]\n",
      "100%|██████████| 3/3 [00:00<00:00,  7.28it/s]\n"
     ]
    },
    {
     "name": "stdout",
     "output_type": "stream",
     "text": [
      "Calculating LOO values for 3 models\n",
      "Calculating Shapley values for 3 models\n"
     ]
    },
    {
     "name": "stderr",
     "output_type": "stream",
     "text": [
      "/home/pratik/miniconda3/lib/python3.12/site-packages/numpy/core/fromnumeric.py:3504: RuntimeWarning: Mean of empty slice.\n",
      "  return _methods._mean(a, axis=axis, dtype=dtype,\n",
      "/home/pratik/miniconda3/lib/python3.12/site-packages/numpy/core/_methods.py:121: RuntimeWarning: invalid value encountered in divide\n",
      "  ret = um.true_divide(\n",
      "100%|██████████| 4/4 [00:00<00:00, 23.84it/s]\n",
      "100%|██████████| 3/3 [00:00<00:00, 48210.39it/s]\n"
     ]
    },
    {
     "name": "stdout",
     "output_type": "stream",
     "text": [
      "Calculating CRH values for 3 models\n",
      "Calculating Regression weights for 3 models\n"
     ]
    },
    {
     "name": "stderr",
     "output_type": "stream",
     "text": [
      "100%|██████████| 1000/1000 [00:24<00:00, 40.35it/s]\n"
     ]
    },
    {
     "name": "stdout",
     "output_type": "stream",
     "text": [
      "Calculating Accuracy weights for 3 models\n",
      "Calculating Entropy weights for 3 models\n"
     ]
    },
    {
     "name": "stderr",
     "output_type": "stream",
     "text": [
      "100%|██████████| 3/3 [00:00<00:00,  7.23it/s]]\n",
      "100%|██████████| 3/3 [00:00<00:00,  7.26it/s]\n"
     ]
    },
    {
     "name": "stdout",
     "output_type": "stream",
     "text": [
      "Calculating LOO values for 3 models\n",
      "Calculating Shapley values for 3 models\n"
     ]
    },
    {
     "name": "stderr",
     "output_type": "stream",
     "text": [
      "/home/pratik/miniconda3/lib/python3.12/site-packages/numpy/core/fromnumeric.py:3504: RuntimeWarning: Mean of empty slice.\n",
      "  return _methods._mean(a, axis=axis, dtype=dtype,\n",
      "/home/pratik/miniconda3/lib/python3.12/site-packages/numpy/core/_methods.py:121: RuntimeWarning: invalid value encountered in divide\n",
      "  ret = um.true_divide(\n",
      "100%|██████████| 4/4 [00:00<00:00, 26.91it/s]\n",
      "100%|██████████| 3/3 [00:00<00:00, 55924.05it/s]\n"
     ]
    },
    {
     "name": "stdout",
     "output_type": "stream",
     "text": [
      "Calculating CRH values for 3 models\n",
      "Calculating Regression weights for 3 models\n"
     ]
    },
    {
     "name": "stderr",
     "output_type": "stream",
     "text": [
      "100%|██████████| 1000/1000 [00:25<00:00, 38.82it/s]\n"
     ]
    },
    {
     "name": "stdout",
     "output_type": "stream",
     "text": [
      "Calculating Accuracy weights for 3 models\n",
      "Calculating Entropy weights for 3 models\n"
     ]
    },
    {
     "name": "stderr",
     "output_type": "stream",
     "text": [
      "100%|██████████| 3/3 [00:00<00:00,  7.37it/s]]\n",
      "100%|██████████| 3/3 [00:00<00:00,  7.34it/s]\n"
     ]
    },
    {
     "name": "stdout",
     "output_type": "stream",
     "text": [
      "Calculating LOO values for 3 models\n",
      "Calculating Shapley values for 3 models\n"
     ]
    },
    {
     "name": "stderr",
     "output_type": "stream",
     "text": [
      "/home/pratik/miniconda3/lib/python3.12/site-packages/numpy/core/fromnumeric.py:3504: RuntimeWarning: Mean of empty slice.\n",
      "  return _methods._mean(a, axis=axis, dtype=dtype,\n",
      "/home/pratik/miniconda3/lib/python3.12/site-packages/numpy/core/_methods.py:121: RuntimeWarning: invalid value encountered in divide\n",
      "  ret = um.true_divide(\n",
      "100%|██████████| 4/4 [00:00<00:00, 26.11it/s]\n",
      "100%|██████████| 3/3 [00:00<00:00, 53773.13it/s]\n"
     ]
    },
    {
     "name": "stdout",
     "output_type": "stream",
     "text": [
      "Calculating CRH values for 3 models\n",
      "Calculating Regression weights for 3 models\n"
     ]
    },
    {
     "name": "stderr",
     "output_type": "stream",
     "text": [
      "100%|██████████| 1000/1000 [00:23<00:00, 42.72it/s]\n"
     ]
    },
    {
     "name": "stdout",
     "output_type": "stream",
     "text": [
      "Calculating Accuracy weights for 3 models\n",
      "Calculating Entropy weights for 3 models\n"
     ]
    },
    {
     "name": "stderr",
     "output_type": "stream",
     "text": [
      "100%|██████████| 3/3 [00:00<00:00,  7.29it/s]]\n",
      "100%|██████████| 3/3 [00:00<00:00,  7.39it/s]\n"
     ]
    },
    {
     "name": "stdout",
     "output_type": "stream",
     "text": [
      "Calculating LOO values for 3 models\n",
      "Calculating Shapley values for 3 models\n"
     ]
    },
    {
     "name": "stderr",
     "output_type": "stream",
     "text": [
      "/home/pratik/miniconda3/lib/python3.12/site-packages/numpy/core/fromnumeric.py:3504: RuntimeWarning: Mean of empty slice.\n",
      "  return _methods._mean(a, axis=axis, dtype=dtype,\n",
      "/home/pratik/miniconda3/lib/python3.12/site-packages/numpy/core/_methods.py:121: RuntimeWarning: invalid value encountered in divide\n",
      "  ret = um.true_divide(\n",
      "100%|██████████| 4/4 [00:00<00:00, 24.13it/s]\n",
      "100%|██████████| 3/3 [00:00<00:00, 48026.38it/s]\n"
     ]
    },
    {
     "name": "stdout",
     "output_type": "stream",
     "text": [
      "Calculating CRH values for 3 models\n",
      "Calculating Regression weights for 3 models\n"
     ]
    },
    {
     "name": "stderr",
     "output_type": "stream",
     "text": [
      "100%|██████████| 1000/1000 [00:24<00:00, 40.58it/s]\n"
     ]
    },
    {
     "name": "stdout",
     "output_type": "stream",
     "text": [
      "Calculating Accuracy weights for 3 models\n",
      "Calculating Entropy weights for 3 models\n"
     ]
    },
    {
     "name": "stderr",
     "output_type": "stream",
     "text": [
      "100%|██████████| 3/3 [00:00<00:00,  7.23it/s]]\n",
      "100%|██████████| 3/3 [00:00<00:00,  7.23it/s]\n"
     ]
    },
    {
     "name": "stdout",
     "output_type": "stream",
     "text": [
      "Calculating LOO values for 3 models\n",
      "Calculating Shapley values for 3 models\n"
     ]
    },
    {
     "name": "stderr",
     "output_type": "stream",
     "text": [
      "/home/pratik/miniconda3/lib/python3.12/site-packages/numpy/core/fromnumeric.py:3504: RuntimeWarning: Mean of empty slice.\n",
      "  return _methods._mean(a, axis=axis, dtype=dtype,\n",
      "/home/pratik/miniconda3/lib/python3.12/site-packages/numpy/core/_methods.py:121: RuntimeWarning: invalid value encountered in divide\n",
      "  ret = um.true_divide(\n",
      "100%|██████████| 4/4 [00:00<00:00, 25.11it/s]\n",
      "100%|██████████| 3/3 [00:00<00:00, 50737.55it/s]\n"
     ]
    },
    {
     "name": "stdout",
     "output_type": "stream",
     "text": [
      "Calculating CRH values for 3 models\n",
      "Calculating Regression weights for 3 models\n"
     ]
    },
    {
     "name": "stderr",
     "output_type": "stream",
     "text": [
      "100%|██████████| 1000/1000 [00:24<00:00, 40.86it/s]\n"
     ]
    },
    {
     "name": "stdout",
     "output_type": "stream",
     "text": [
      "Calculating Accuracy weights for 3 models\n",
      "Calculating Entropy weights for 3 models\n"
     ]
    },
    {
     "name": "stderr",
     "output_type": "stream",
     "text": [
      "100%|██████████| 3/3 [00:00<00:00,  7.23it/s]]\n",
      "100%|██████████| 3/3 [00:00<00:00,  7.32it/s]\n"
     ]
    },
    {
     "name": "stdout",
     "output_type": "stream",
     "text": [
      "Calculating LOO values for 3 models\n",
      "Calculating Shapley values for 3 models\n"
     ]
    },
    {
     "name": "stderr",
     "output_type": "stream",
     "text": [
      "/home/pratik/miniconda3/lib/python3.12/site-packages/numpy/core/fromnumeric.py:3504: RuntimeWarning: Mean of empty slice.\n",
      "  return _methods._mean(a, axis=axis, dtype=dtype,\n",
      "/home/pratik/miniconda3/lib/python3.12/site-packages/numpy/core/_methods.py:121: RuntimeWarning: invalid value encountered in divide\n",
      "  ret = um.true_divide(\n",
      "100%|██████████| 4/4 [00:00<00:00, 26.90it/s]\n",
      "100%|██████████| 3/3 [00:00<00:00, 3390.71it/s]\n"
     ]
    },
    {
     "name": "stdout",
     "output_type": "stream",
     "text": [
      "Calculating CRH values for 3 models\n",
      "Calculating Regression weights for 3 models\n"
     ]
    },
    {
     "name": "stderr",
     "output_type": "stream",
     "text": [
      "100%|██████████| 1000/1000 [00:23<00:00, 41.90it/s]\n"
     ]
    },
    {
     "name": "stdout",
     "output_type": "stream",
     "text": [
      "Calculating Accuracy weights for 3 models\n",
      "Calculating Entropy weights for 3 models\n"
     ]
    },
    {
     "name": "stderr",
     "output_type": "stream",
     "text": [
      "100%|██████████| 10/10 [07:34<00:00, 45.50s/it]\n",
      "100%|██████████| 5/5 [00:00<00:00,  7.35it/s]\n",
      "100%|██████████| 5/5 [00:00<00:00,  7.35it/s]\n"
     ]
    },
    {
     "name": "stdout",
     "output_type": "stream",
     "text": [
      "Calculating LOO values for 5 models\n",
      "Calculating Shapley values for 5 models\n"
     ]
    },
    {
     "name": "stderr",
     "output_type": "stream",
     "text": [
      "/home/pratik/miniconda3/lib/python3.12/site-packages/numpy/core/fromnumeric.py:3504: RuntimeWarning: Mean of empty slice.\n",
      "  return _methods._mean(a, axis=axis, dtype=dtype,\n",
      "/home/pratik/miniconda3/lib/python3.12/site-packages/numpy/core/_methods.py:121: RuntimeWarning: invalid value encountered in divide\n",
      "  ret = um.true_divide(\n",
      "100%|██████████| 6/6 [00:00<00:00,  7.51it/s]\n",
      "100%|██████████| 5/5 [00:00<00:00, 40329.85it/s]\n"
     ]
    },
    {
     "name": "stdout",
     "output_type": "stream",
     "text": [
      "Calculating CRH values for 5 models\n",
      "Calculating Regression weights for 5 models\n"
     ]
    },
    {
     "name": "stderr",
     "output_type": "stream",
     "text": [
      "100%|██████████| 1000/1000 [00:36<00:00, 27.15it/s]\n"
     ]
    },
    {
     "name": "stdout",
     "output_type": "stream",
     "text": [
      "Calculating Accuracy weights for 5 models\n",
      "Calculating Entropy weights for 5 models\n"
     ]
    },
    {
     "name": "stderr",
     "output_type": "stream",
     "text": [
      "100%|██████████| 5/5 [00:00<00:00,  7.29it/s]]\n",
      "100%|██████████| 5/5 [00:00<00:00,  7.36it/s]\n"
     ]
    },
    {
     "name": "stdout",
     "output_type": "stream",
     "text": [
      "Calculating LOO values for 5 models\n",
      "Calculating Shapley values for 5 models\n"
     ]
    },
    {
     "name": "stderr",
     "output_type": "stream",
     "text": [
      "/home/pratik/miniconda3/lib/python3.12/site-packages/numpy/core/fromnumeric.py:3504: RuntimeWarning: Mean of empty slice.\n",
      "  return _methods._mean(a, axis=axis, dtype=dtype,\n",
      "/home/pratik/miniconda3/lib/python3.12/site-packages/numpy/core/_methods.py:121: RuntimeWarning: invalid value encountered in divide\n",
      "  ret = um.true_divide(\n",
      "100%|██████████| 6/6 [00:00<00:00,  8.71it/s]\n",
      "100%|██████████| 5/5 [00:00<00:00, 40252.44it/s]\n"
     ]
    },
    {
     "name": "stdout",
     "output_type": "stream",
     "text": [
      "Calculating CRH values for 5 models\n",
      "Calculating Regression weights for 5 models\n"
     ]
    },
    {
     "name": "stderr",
     "output_type": "stream",
     "text": [
      "100%|██████████| 1000/1000 [00:36<00:00, 27.34it/s]\n"
     ]
    },
    {
     "name": "stdout",
     "output_type": "stream",
     "text": [
      "Calculating Accuracy weights for 5 models\n",
      "Calculating Entropy weights for 5 models\n"
     ]
    },
    {
     "name": "stderr",
     "output_type": "stream",
     "text": [
      "100%|██████████| 5/5 [00:00<00:00,  7.32it/s]]\n",
      "100%|██████████| 5/5 [00:00<00:00,  7.23it/s]\n"
     ]
    },
    {
     "name": "stdout",
     "output_type": "stream",
     "text": [
      "Calculating LOO values for 5 models\n",
      "Calculating Shapley values for 5 models\n"
     ]
    },
    {
     "name": "stderr",
     "output_type": "stream",
     "text": [
      "/home/pratik/miniconda3/lib/python3.12/site-packages/numpy/core/fromnumeric.py:3504: RuntimeWarning: Mean of empty slice.\n",
      "  return _methods._mean(a, axis=axis, dtype=dtype,\n",
      "/home/pratik/miniconda3/lib/python3.12/site-packages/numpy/core/_methods.py:121: RuntimeWarning: invalid value encountered in divide\n",
      "  ret = um.true_divide(\n",
      "100%|██████████| 6/6 [00:00<00:00,  7.46it/s]\n",
      "100%|██████████| 5/5 [00:00<00:00, 48321.47it/s]\n"
     ]
    },
    {
     "name": "stdout",
     "output_type": "stream",
     "text": [
      "Calculating CRH values for 5 models\n",
      "Calculating Regression weights for 5 models\n"
     ]
    },
    {
     "name": "stderr",
     "output_type": "stream",
     "text": [
      "100%|██████████| 1000/1000 [00:37<00:00, 26.42it/s]\n"
     ]
    },
    {
     "name": "stdout",
     "output_type": "stream",
     "text": [
      "Calculating Accuracy weights for 5 models\n",
      "Calculating Entropy weights for 5 models\n"
     ]
    },
    {
     "name": "stderr",
     "output_type": "stream",
     "text": [
      "100%|██████████| 5/5 [00:00<00:00,  7.25it/s]]\n",
      "100%|██████████| 5/5 [00:00<00:00,  7.39it/s]\n"
     ]
    },
    {
     "name": "stdout",
     "output_type": "stream",
     "text": [
      "Calculating LOO values for 5 models\n",
      "Calculating Shapley values for 5 models\n"
     ]
    },
    {
     "name": "stderr",
     "output_type": "stream",
     "text": [
      "/home/pratik/miniconda3/lib/python3.12/site-packages/numpy/core/fromnumeric.py:3504: RuntimeWarning: Mean of empty slice.\n",
      "  return _methods._mean(a, axis=axis, dtype=dtype,\n",
      "/home/pratik/miniconda3/lib/python3.12/site-packages/numpy/core/_methods.py:121: RuntimeWarning: invalid value encountered in divide\n",
      "  ret = um.true_divide(\n",
      "100%|██████████| 6/6 [00:00<00:00,  8.62it/s]\n",
      "100%|██████████| 5/5 [00:00<00:00, 43965.45it/s]\n"
     ]
    },
    {
     "name": "stdout",
     "output_type": "stream",
     "text": [
      "Calculating CRH values for 5 models\n",
      "Calculating Regression weights for 5 models\n"
     ]
    },
    {
     "name": "stderr",
     "output_type": "stream",
     "text": [
      "100%|██████████| 1000/1000 [00:38<00:00, 26.30it/s]\n"
     ]
    },
    {
     "name": "stdout",
     "output_type": "stream",
     "text": [
      "Calculating Accuracy weights for 5 models\n",
      "Calculating Entropy weights for 5 models\n"
     ]
    },
    {
     "name": "stderr",
     "output_type": "stream",
     "text": [
      "100%|██████████| 5/5 [00:00<00:00,  7.36it/s]]\n",
      "100%|██████████| 5/5 [00:00<00:00,  7.39it/s]\n"
     ]
    },
    {
     "name": "stdout",
     "output_type": "stream",
     "text": [
      "Calculating LOO values for 5 models\n",
      "Calculating Shapley values for 5 models\n"
     ]
    },
    {
     "name": "stderr",
     "output_type": "stream",
     "text": [
      "/home/pratik/miniconda3/lib/python3.12/site-packages/numpy/core/fromnumeric.py:3504: RuntimeWarning: Mean of empty slice.\n",
      "  return _methods._mean(a, axis=axis, dtype=dtype,\n",
      "/home/pratik/miniconda3/lib/python3.12/site-packages/numpy/core/_methods.py:121: RuntimeWarning: invalid value encountered in divide\n",
      "  ret = um.true_divide(\n",
      "100%|██████████| 6/6 [00:00<00:00,  8.05it/s]\n",
      "100%|██████████| 5/5 [00:00<00:00, 47554.47it/s]\n"
     ]
    },
    {
     "name": "stdout",
     "output_type": "stream",
     "text": [
      "Calculating CRH values for 5 models\n",
      "Calculating Regression weights for 5 models\n"
     ]
    },
    {
     "name": "stderr",
     "output_type": "stream",
     "text": [
      "100%|██████████| 1000/1000 [00:36<00:00, 27.31it/s]\n"
     ]
    },
    {
     "name": "stdout",
     "output_type": "stream",
     "text": [
      "Calculating Accuracy weights for 5 models\n",
      "Calculating Entropy weights for 5 models\n"
     ]
    },
    {
     "name": "stderr",
     "output_type": "stream",
     "text": [
      "100%|██████████| 5/5 [00:00<00:00,  7.34it/s]]\n",
      "100%|██████████| 5/5 [00:00<00:00,  7.40it/s]\n"
     ]
    },
    {
     "name": "stdout",
     "output_type": "stream",
     "text": [
      "Calculating LOO values for 5 models\n",
      "Calculating Shapley values for 5 models\n"
     ]
    },
    {
     "name": "stderr",
     "output_type": "stream",
     "text": [
      "/home/pratik/miniconda3/lib/python3.12/site-packages/numpy/core/fromnumeric.py:3504: RuntimeWarning: Mean of empty slice.\n",
      "  return _methods._mean(a, axis=axis, dtype=dtype,\n",
      "/home/pratik/miniconda3/lib/python3.12/site-packages/numpy/core/_methods.py:121: RuntimeWarning: invalid value encountered in divide\n",
      "  ret = um.true_divide(\n",
      "100%|██████████| 6/6 [00:00<00:00,  7.60it/s]\n",
      "100%|██████████| 5/5 [00:00<00:00, 44431.19it/s]\n"
     ]
    },
    {
     "name": "stdout",
     "output_type": "stream",
     "text": [
      "Calculating CRH values for 5 models\n",
      "Calculating Regression weights for 5 models\n"
     ]
    },
    {
     "name": "stderr",
     "output_type": "stream",
     "text": [
      "100%|██████████| 1000/1000 [00:36<00:00, 27.04it/s]\n"
     ]
    },
    {
     "name": "stdout",
     "output_type": "stream",
     "text": [
      "Calculating Accuracy weights for 5 models\n",
      "Calculating Entropy weights for 5 models\n"
     ]
    },
    {
     "name": "stderr",
     "output_type": "stream",
     "text": [
      "100%|██████████| 5/5 [00:00<00:00,  7.27it/s]]\n",
      "100%|██████████| 5/5 [00:00<00:00,  7.33it/s]\n"
     ]
    },
    {
     "name": "stdout",
     "output_type": "stream",
     "text": [
      "Calculating LOO values for 5 models\n",
      "Calculating Shapley values for 5 models\n"
     ]
    },
    {
     "name": "stderr",
     "output_type": "stream",
     "text": [
      "/home/pratik/miniconda3/lib/python3.12/site-packages/numpy/core/fromnumeric.py:3504: RuntimeWarning: Mean of empty slice.\n",
      "  return _methods._mean(a, axis=axis, dtype=dtype,\n",
      "/home/pratik/miniconda3/lib/python3.12/site-packages/numpy/core/_methods.py:121: RuntimeWarning: invalid value encountered in divide\n",
      "  ret = um.true_divide(\n",
      "100%|██████████| 6/6 [00:00<00:00,  8.16it/s]\n",
      "100%|██████████| 5/5 [00:00<00:00, 41445.69it/s]\n"
     ]
    },
    {
     "name": "stdout",
     "output_type": "stream",
     "text": [
      "Calculating CRH values for 5 models\n",
      "Calculating Regression weights for 5 models\n"
     ]
    },
    {
     "name": "stderr",
     "output_type": "stream",
     "text": [
      "100%|██████████| 1000/1000 [00:35<00:00, 28.13it/s]\n"
     ]
    },
    {
     "name": "stdout",
     "output_type": "stream",
     "text": [
      "Calculating Accuracy weights for 5 models\n",
      "Calculating Entropy weights for 5 models\n"
     ]
    },
    {
     "name": "stderr",
     "output_type": "stream",
     "text": [
      "100%|██████████| 5/5 [00:00<00:00,  7.29it/s]]\n",
      "100%|██████████| 5/5 [00:00<00:00,  7.28it/s]\n"
     ]
    },
    {
     "name": "stdout",
     "output_type": "stream",
     "text": [
      "Calculating LOO values for 5 models\n",
      "Calculating Shapley values for 5 models\n"
     ]
    },
    {
     "name": "stderr",
     "output_type": "stream",
     "text": [
      "/home/pratik/miniconda3/lib/python3.12/site-packages/numpy/core/fromnumeric.py:3504: RuntimeWarning: Mean of empty slice.\n",
      "  return _methods._mean(a, axis=axis, dtype=dtype,\n",
      "/home/pratik/miniconda3/lib/python3.12/site-packages/numpy/core/_methods.py:121: RuntimeWarning: invalid value encountered in divide\n",
      "  ret = um.true_divide(\n",
      "100%|██████████| 6/6 [00:00<00:00,  7.40it/s]\n",
      "100%|██████████| 5/5 [00:00<00:00, 44150.57it/s]\n"
     ]
    },
    {
     "name": "stdout",
     "output_type": "stream",
     "text": [
      "Calculating CRH values for 5 models\n",
      "Calculating Regression weights for 5 models\n"
     ]
    },
    {
     "name": "stderr",
     "output_type": "stream",
     "text": [
      "100%|██████████| 1000/1000 [00:36<00:00, 27.03it/s]\n"
     ]
    },
    {
     "name": "stdout",
     "output_type": "stream",
     "text": [
      "Calculating Accuracy weights for 5 models\n",
      "Calculating Entropy weights for 5 models\n"
     ]
    },
    {
     "name": "stderr",
     "output_type": "stream",
     "text": [
      "100%|██████████| 5/5 [00:00<00:00,  7.29it/s]]\n",
      "100%|██████████| 5/5 [00:00<00:00,  7.25it/s]\n"
     ]
    },
    {
     "name": "stdout",
     "output_type": "stream",
     "text": [
      "Calculating LOO values for 5 models\n",
      "Calculating Shapley values for 5 models\n"
     ]
    },
    {
     "name": "stderr",
     "output_type": "stream",
     "text": [
      "/home/pratik/miniconda3/lib/python3.12/site-packages/numpy/core/fromnumeric.py:3504: RuntimeWarning: Mean of empty slice.\n",
      "  return _methods._mean(a, axis=axis, dtype=dtype,\n",
      "/home/pratik/miniconda3/lib/python3.12/site-packages/numpy/core/_methods.py:121: RuntimeWarning: invalid value encountered in divide\n",
      "  ret = um.true_divide(\n",
      "100%|██████████| 6/6 [00:00<00:00,  8.60it/s]\n",
      "100%|██████████| 5/5 [00:00<00:00, 47127.01it/s]\n"
     ]
    },
    {
     "name": "stdout",
     "output_type": "stream",
     "text": [
      "Calculating CRH values for 5 models\n",
      "Calculating Regression weights for 5 models\n"
     ]
    },
    {
     "name": "stderr",
     "output_type": "stream",
     "text": [
      "100%|██████████| 1000/1000 [00:36<00:00, 27.25it/s]\n"
     ]
    },
    {
     "name": "stdout",
     "output_type": "stream",
     "text": [
      "Calculating Accuracy weights for 5 models\n",
      "Calculating Entropy weights for 5 models\n"
     ]
    },
    {
     "name": "stderr",
     "output_type": "stream",
     "text": [
      "100%|██████████| 5/5 [00:00<00:00,  7.26it/s]]\n",
      "100%|██████████| 5/5 [00:00<00:00,  7.07it/s]\n"
     ]
    },
    {
     "name": "stdout",
     "output_type": "stream",
     "text": [
      "Calculating LOO values for 5 models\n",
      "Calculating Shapley values for 5 models\n"
     ]
    },
    {
     "name": "stderr",
     "output_type": "stream",
     "text": [
      "/home/pratik/miniconda3/lib/python3.12/site-packages/numpy/core/fromnumeric.py:3504: RuntimeWarning: Mean of empty slice.\n",
      "  return _methods._mean(a, axis=axis, dtype=dtype,\n",
      "/home/pratik/miniconda3/lib/python3.12/site-packages/numpy/core/_methods.py:121: RuntimeWarning: invalid value encountered in divide\n",
      "  ret = um.true_divide(\n",
      "100%|██████████| 6/6 [00:00<00:00,  7.39it/s]\n",
      "100%|██████████| 5/5 [00:00<00:00, 39794.16it/s]\n"
     ]
    },
    {
     "name": "stdout",
     "output_type": "stream",
     "text": [
      "Calculating CRH values for 5 models\n",
      "Calculating Regression weights for 5 models\n"
     ]
    },
    {
     "name": "stderr",
     "output_type": "stream",
     "text": [
      "100%|██████████| 1000/1000 [00:37<00:00, 26.97it/s]\n"
     ]
    },
    {
     "name": "stdout",
     "output_type": "stream",
     "text": [
      "Calculating Accuracy weights for 5 models\n",
      "Calculating Entropy weights for 5 models\n"
     ]
    },
    {
     "name": "stderr",
     "output_type": "stream",
     "text": [
      "100%|██████████| 10/10 [10:53<00:00, 65.35s/it]\n",
      "100%|██████████| 7/7 [00:00<00:00,  8.03it/s]\n",
      "100%|██████████| 7/7 [00:00<00:00,  7.92it/s]\n"
     ]
    },
    {
     "name": "stdout",
     "output_type": "stream",
     "text": [
      "Calculating LOO values for 7 models\n",
      "Calculating Shapley values for 7 models\n"
     ]
    },
    {
     "name": "stderr",
     "output_type": "stream",
     "text": [
      "/home/pratik/miniconda3/lib/python3.12/site-packages/numpy/core/fromnumeric.py:3504: RuntimeWarning: Mean of empty slice.\n",
      "  return _methods._mean(a, axis=axis, dtype=dtype,\n",
      "/home/pratik/miniconda3/lib/python3.12/site-packages/numpy/core/_methods.py:121: RuntimeWarning: invalid value encountered in divide\n",
      "  ret = um.true_divide(\n",
      "100%|██████████| 8/8 [00:03<00:00,  2.53it/s]\n",
      "100%|██████████| 7/7 [00:00<00:00, 19797.79it/s]\n"
     ]
    },
    {
     "name": "stdout",
     "output_type": "stream",
     "text": [
      "Calculating CRH values for 7 models\n",
      "Calculating Regression weights for 7 models\n"
     ]
    },
    {
     "name": "stderr",
     "output_type": "stream",
     "text": [
      "100%|██████████| 1000/1000 [00:48<00:00, 20.46it/s]\n"
     ]
    },
    {
     "name": "stdout",
     "output_type": "stream",
     "text": [
      "Calculating Accuracy weights for 7 models\n",
      "Calculating Entropy weights for 7 models\n"
     ]
    },
    {
     "name": "stderr",
     "output_type": "stream",
     "text": [
      "100%|██████████| 7/7 [00:00<00:00,  7.26it/s]]\n",
      "100%|██████████| 7/7 [00:00<00:00,  7.28it/s]\n"
     ]
    },
    {
     "name": "stdout",
     "output_type": "stream",
     "text": [
      "Calculating LOO values for 7 models\n",
      "Calculating Shapley values for 7 models\n"
     ]
    },
    {
     "name": "stderr",
     "output_type": "stream",
     "text": [
      "/home/pratik/miniconda3/lib/python3.12/site-packages/numpy/core/fromnumeric.py:3504: RuntimeWarning: Mean of empty slice.\n",
      "  return _methods._mean(a, axis=axis, dtype=dtype,\n",
      "/home/pratik/miniconda3/lib/python3.12/site-packages/numpy/core/_methods.py:121: RuntimeWarning: invalid value encountered in divide\n",
      "  ret = um.true_divide(\n",
      "100%|██████████| 8/8 [00:03<00:00,  2.56it/s]\n",
      "100%|██████████| 7/7 [00:00<00:00, 19534.35it/s]\n"
     ]
    },
    {
     "name": "stdout",
     "output_type": "stream",
     "text": [
      "Calculating CRH values for 7 models\n",
      "Calculating Regression weights for 7 models\n"
     ]
    },
    {
     "name": "stderr",
     "output_type": "stream",
     "text": [
      "100%|██████████| 1000/1000 [00:48<00:00, 20.41it/s]\n"
     ]
    },
    {
     "name": "stdout",
     "output_type": "stream",
     "text": [
      "Calculating Accuracy weights for 7 models\n",
      "Calculating Entropy weights for 7 models\n"
     ]
    },
    {
     "name": "stderr",
     "output_type": "stream",
     "text": [
      "100%|██████████| 7/7 [00:00<00:00,  7.36it/s]]\n",
      "100%|██████████| 7/7 [00:00<00:00,  7.39it/s]\n"
     ]
    },
    {
     "name": "stdout",
     "output_type": "stream",
     "text": [
      "Calculating LOO values for 7 models\n",
      "Calculating Shapley values for 7 models\n"
     ]
    },
    {
     "name": "stderr",
     "output_type": "stream",
     "text": [
      "/home/pratik/miniconda3/lib/python3.12/site-packages/numpy/core/fromnumeric.py:3504: RuntimeWarning: Mean of empty slice.\n",
      "  return _methods._mean(a, axis=axis, dtype=dtype,\n",
      "/home/pratik/miniconda3/lib/python3.12/site-packages/numpy/core/_methods.py:121: RuntimeWarning: invalid value encountered in divide\n",
      "  ret = um.true_divide(\n",
      "100%|██████████| 8/8 [00:03<00:00,  2.51it/s]\n",
      "100%|██████████| 7/7 [00:00<00:00, 16540.92it/s]\n"
     ]
    },
    {
     "name": "stdout",
     "output_type": "stream",
     "text": [
      "Calculating CRH values for 7 models\n",
      "Calculating Regression weights for 7 models\n"
     ]
    },
    {
     "name": "stderr",
     "output_type": "stream",
     "text": [
      "100%|██████████| 1000/1000 [00:49<00:00, 20.29it/s]\n"
     ]
    },
    {
     "name": "stdout",
     "output_type": "stream",
     "text": [
      "Calculating Accuracy weights for 7 models\n",
      "Calculating Entropy weights for 7 models\n"
     ]
    },
    {
     "name": "stderr",
     "output_type": "stream",
     "text": [
      "100%|██████████| 7/7 [00:00<00:00,  7.32it/s]]\n",
      "100%|██████████| 7/7 [00:00<00:00,  7.33it/s]\n"
     ]
    },
    {
     "name": "stdout",
     "output_type": "stream",
     "text": [
      "Calculating LOO values for 7 models\n",
      "Calculating Shapley values for 7 models\n"
     ]
    },
    {
     "name": "stderr",
     "output_type": "stream",
     "text": [
      "/home/pratik/miniconda3/lib/python3.12/site-packages/numpy/core/fromnumeric.py:3504: RuntimeWarning: Mean of empty slice.\n",
      "  return _methods._mean(a, axis=axis, dtype=dtype,\n",
      "/home/pratik/miniconda3/lib/python3.12/site-packages/numpy/core/_methods.py:121: RuntimeWarning: invalid value encountered in divide\n",
      "  ret = um.true_divide(\n",
      "100%|██████████| 8/8 [00:03<00:00,  2.52it/s]\n",
      "100%|██████████| 7/7 [00:00<00:00, 18617.71it/s]\n"
     ]
    },
    {
     "name": "stdout",
     "output_type": "stream",
     "text": [
      "Calculating CRH values for 7 models\n",
      "Calculating Regression weights for 7 models\n"
     ]
    },
    {
     "name": "stderr",
     "output_type": "stream",
     "text": [
      "100%|██████████| 1000/1000 [00:49<00:00, 20.35it/s]\n"
     ]
    },
    {
     "name": "stdout",
     "output_type": "stream",
     "text": [
      "Calculating Accuracy weights for 7 models\n",
      "Calculating Entropy weights for 7 models\n"
     ]
    },
    {
     "name": "stderr",
     "output_type": "stream",
     "text": [
      "100%|██████████| 7/7 [00:00<00:00,  7.33it/s]]\n",
      "100%|██████████| 7/7 [00:00<00:00,  7.31it/s]\n"
     ]
    },
    {
     "name": "stdout",
     "output_type": "stream",
     "text": [
      "Calculating LOO values for 7 models\n",
      "Calculating Shapley values for 7 models\n"
     ]
    },
    {
     "name": "stderr",
     "output_type": "stream",
     "text": [
      "/home/pratik/miniconda3/lib/python3.12/site-packages/numpy/core/fromnumeric.py:3504: RuntimeWarning: Mean of empty slice.\n",
      "  return _methods._mean(a, axis=axis, dtype=dtype,\n",
      "/home/pratik/miniconda3/lib/python3.12/site-packages/numpy/core/_methods.py:121: RuntimeWarning: invalid value encountered in divide\n",
      "  ret = um.true_divide(\n",
      "100%|██████████| 8/8 [00:03<00:00,  2.61it/s]\n",
      "100%|██████████| 7/7 [00:00<00:00, 19625.75it/s]\n"
     ]
    },
    {
     "name": "stdout",
     "output_type": "stream",
     "text": [
      "Calculating CRH values for 7 models\n",
      "Calculating Regression weights for 7 models\n"
     ]
    },
    {
     "name": "stderr",
     "output_type": "stream",
     "text": [
      "100%|██████████| 1000/1000 [00:49<00:00, 20.35it/s]\n"
     ]
    },
    {
     "name": "stdout",
     "output_type": "stream",
     "text": [
      "Calculating Accuracy weights for 7 models\n",
      "Calculating Entropy weights for 7 models\n"
     ]
    },
    {
     "name": "stderr",
     "output_type": "stream",
     "text": [
      "100%|██████████| 7/7 [00:00<00:00,  7.34it/s]]\n",
      "100%|██████████| 7/7 [00:00<00:00,  7.42it/s]\n"
     ]
    },
    {
     "name": "stdout",
     "output_type": "stream",
     "text": [
      "Calculating LOO values for 7 models\n",
      "Calculating Shapley values for 7 models\n"
     ]
    },
    {
     "name": "stderr",
     "output_type": "stream",
     "text": [
      "/home/pratik/miniconda3/lib/python3.12/site-packages/numpy/core/fromnumeric.py:3504: RuntimeWarning: Mean of empty slice.\n",
      "  return _methods._mean(a, axis=axis, dtype=dtype,\n",
      "/home/pratik/miniconda3/lib/python3.12/site-packages/numpy/core/_methods.py:121: RuntimeWarning: invalid value encountered in divide\n",
      "  ret = um.true_divide(\n",
      "100%|██████████| 8/8 [00:03<00:00,  2.17it/s]\n",
      "100%|██████████| 7/7 [00:00<00:00, 19638.88it/s]\n"
     ]
    },
    {
     "name": "stdout",
     "output_type": "stream",
     "text": [
      "Calculating CRH values for 7 models\n",
      "Calculating Regression weights for 7 models\n"
     ]
    },
    {
     "name": "stderr",
     "output_type": "stream",
     "text": [
      "100%|██████████| 1000/1000 [00:49<00:00, 20.29it/s]\n"
     ]
    },
    {
     "name": "stdout",
     "output_type": "stream",
     "text": [
      "Calculating Accuracy weights for 7 models\n",
      "Calculating Entropy weights for 7 models\n"
     ]
    },
    {
     "name": "stderr",
     "output_type": "stream",
     "text": [
      "100%|██████████| 7/7 [00:00<00:00,  7.32it/s]]\n",
      "100%|██████████| 7/7 [00:00<00:00,  7.37it/s]\n"
     ]
    },
    {
     "name": "stdout",
     "output_type": "stream",
     "text": [
      "Calculating LOO values for 7 models\n",
      "Calculating Shapley values for 7 models\n"
     ]
    },
    {
     "name": "stderr",
     "output_type": "stream",
     "text": [
      "/home/pratik/miniconda3/lib/python3.12/site-packages/numpy/core/fromnumeric.py:3504: RuntimeWarning: Mean of empty slice.\n",
      "  return _methods._mean(a, axis=axis, dtype=dtype,\n",
      "/home/pratik/miniconda3/lib/python3.12/site-packages/numpy/core/_methods.py:121: RuntimeWarning: invalid value encountered in divide\n",
      "  ret = um.true_divide(\n",
      "100%|██████████| 8/8 [00:03<00:00,  2.06it/s]\n",
      "100%|██████████| 7/7 [00:00<00:00, 18724.57it/s]\n"
     ]
    },
    {
     "name": "stdout",
     "output_type": "stream",
     "text": [
      "Calculating CRH values for 7 models\n",
      "Calculating Regression weights for 7 models\n"
     ]
    },
    {
     "name": "stderr",
     "output_type": "stream",
     "text": [
      "100%|██████████| 1000/1000 [00:49<00:00, 20.39it/s]\n"
     ]
    },
    {
     "name": "stdout",
     "output_type": "stream",
     "text": [
      "Calculating Accuracy weights for 7 models\n",
      "Calculating Entropy weights for 7 models\n"
     ]
    },
    {
     "name": "stderr",
     "output_type": "stream",
     "text": [
      "100%|██████████| 7/7 [00:00<00:00,  7.21it/s]]\n",
      "100%|██████████| 7/7 [00:00<00:00,  7.22it/s]\n"
     ]
    },
    {
     "name": "stdout",
     "output_type": "stream",
     "text": [
      "Calculating LOO values for 7 models\n",
      "Calculating Shapley values for 7 models\n"
     ]
    },
    {
     "name": "stderr",
     "output_type": "stream",
     "text": [
      "/home/pratik/miniconda3/lib/python3.12/site-packages/numpy/core/fromnumeric.py:3504: RuntimeWarning: Mean of empty slice.\n",
      "  return _methods._mean(a, axis=axis, dtype=dtype,\n",
      "/home/pratik/miniconda3/lib/python3.12/site-packages/numpy/core/_methods.py:121: RuntimeWarning: invalid value encountered in divide\n",
      "  ret = um.true_divide(\n",
      "100%|██████████| 8/8 [00:03<00:00,  2.61it/s]\n",
      "100%|██████████| 7/7 [00:00<00:00, 19214.74it/s]\n"
     ]
    },
    {
     "name": "stdout",
     "output_type": "stream",
     "text": [
      "Calculating CRH values for 7 models\n",
      "Calculating Regression weights for 7 models\n"
     ]
    },
    {
     "name": "stderr",
     "output_type": "stream",
     "text": [
      "100%|██████████| 1000/1000 [00:48<00:00, 20.51it/s]\n"
     ]
    },
    {
     "name": "stdout",
     "output_type": "stream",
     "text": [
      "Calculating Accuracy weights for 7 models\n",
      "Calculating Entropy weights for 7 models\n"
     ]
    },
    {
     "name": "stderr",
     "output_type": "stream",
     "text": [
      "100%|██████████| 7/7 [00:00<00:00,  7.37it/s]]\n",
      "100%|██████████| 7/7 [00:00<00:00,  7.35it/s]\n"
     ]
    },
    {
     "name": "stdout",
     "output_type": "stream",
     "text": [
      "Calculating LOO values for 7 models\n",
      "Calculating Shapley values for 7 models\n"
     ]
    },
    {
     "name": "stderr",
     "output_type": "stream",
     "text": [
      "/home/pratik/miniconda3/lib/python3.12/site-packages/numpy/core/fromnumeric.py:3504: RuntimeWarning: Mean of empty slice.\n",
      "  return _methods._mean(a, axis=axis, dtype=dtype,\n",
      "/home/pratik/miniconda3/lib/python3.12/site-packages/numpy/core/_methods.py:121: RuntimeWarning: invalid value encountered in divide\n",
      "  ret = um.true_divide(\n",
      "100%|██████████| 8/8 [00:03<00:00,  2.07it/s]\n",
      "100%|██████████| 7/7 [00:00<00:00, 19757.83it/s]\n"
     ]
    },
    {
     "name": "stdout",
     "output_type": "stream",
     "text": [
      "Calculating CRH values for 7 models\n",
      "Calculating Regression weights for 7 models\n"
     ]
    },
    {
     "name": "stderr",
     "output_type": "stream",
     "text": [
      "100%|██████████| 1000/1000 [00:49<00:00, 20.09it/s]\n"
     ]
    },
    {
     "name": "stdout",
     "output_type": "stream",
     "text": [
      "Calculating Accuracy weights for 7 models\n",
      "Calculating Entropy weights for 7 models\n"
     ]
    },
    {
     "name": "stderr",
     "output_type": "stream",
     "text": [
      "100%|██████████| 7/7 [00:00<00:00,  7.32it/s]]\n",
      "100%|██████████| 7/7 [00:00<00:00,  7.24it/s]\n"
     ]
    },
    {
     "name": "stdout",
     "output_type": "stream",
     "text": [
      "Calculating LOO values for 7 models\n",
      "Calculating Shapley values for 7 models\n"
     ]
    },
    {
     "name": "stderr",
     "output_type": "stream",
     "text": [
      "/home/pratik/miniconda3/lib/python3.12/site-packages/numpy/core/fromnumeric.py:3504: RuntimeWarning: Mean of empty slice.\n",
      "  return _methods._mean(a, axis=axis, dtype=dtype,\n",
      "/home/pratik/miniconda3/lib/python3.12/site-packages/numpy/core/_methods.py:121: RuntimeWarning: invalid value encountered in divide\n",
      "  ret = um.true_divide(\n",
      "100%|██████████| 8/8 [00:03<00:00,  2.32it/s]\n",
      "100%|██████████| 7/7 [00:00<00:00, 19986.47it/s]\n"
     ]
    },
    {
     "name": "stdout",
     "output_type": "stream",
     "text": [
      "Calculating CRH values for 7 models\n",
      "Calculating Regression weights for 7 models\n"
     ]
    },
    {
     "name": "stderr",
     "output_type": "stream",
     "text": [
      "100%|██████████| 1000/1000 [00:49<00:00, 20.38it/s]\n"
     ]
    },
    {
     "name": "stdout",
     "output_type": "stream",
     "text": [
      "Calculating Accuracy weights for 7 models\n",
      "Calculating Entropy weights for 7 models\n"
     ]
    },
    {
     "name": "stderr",
     "output_type": "stream",
     "text": [
      "100%|██████████| 10/10 [14:40<00:00, 88.07s/it]\n",
      "100%|██████████| 10/10 [00:01<00:00,  7.37it/s]\n",
      "100%|██████████| 10/10 [00:01<00:00,  7.39it/s]\n"
     ]
    },
    {
     "name": "stdout",
     "output_type": "stream",
     "text": [
      "Calculating LOO values for 10 models\n",
      "Calculating Shapley values for 10 models\n"
     ]
    },
    {
     "name": "stderr",
     "output_type": "stream",
     "text": [
      "/home/pratik/miniconda3/lib/python3.12/site-packages/numpy/core/fromnumeric.py:3504: RuntimeWarning: Mean of empty slice.\n",
      "  return _methods._mean(a, axis=axis, dtype=dtype,\n",
      "/home/pratik/miniconda3/lib/python3.12/site-packages/numpy/core/_methods.py:121: RuntimeWarning: invalid value encountered in divide\n",
      "  ret = um.true_divide(\n",
      "100%|██████████| 11/11 [00:28<00:00,  2.61s/it]\n",
      "100%|██████████| 10/10 [00:00<00:00, 2916.76it/s]\n"
     ]
    },
    {
     "name": "stdout",
     "output_type": "stream",
     "text": [
      "Calculating CRH values for 10 models\n",
      "Calculating Regression weights for 10 models\n"
     ]
    },
    {
     "name": "stderr",
     "output_type": "stream",
     "text": [
      "100%|██████████| 1000/1000 [00:52<00:00, 19.12it/s]\n"
     ]
    },
    {
     "name": "stdout",
     "output_type": "stream",
     "text": [
      "Calculating Accuracy weights for 10 models\n",
      "Calculating Entropy weights for 10 models\n"
     ]
    },
    {
     "name": "stderr",
     "output_type": "stream",
     "text": [
      "100%|██████████| 10/10 [00:01<00:00,  7.34it/s]\n",
      "100%|██████████| 10/10 [00:01<00:00,  7.38it/s]\n"
     ]
    },
    {
     "name": "stdout",
     "output_type": "stream",
     "text": [
      "Calculating LOO values for 10 models\n",
      "Calculating Shapley values for 10 models\n"
     ]
    },
    {
     "name": "stderr",
     "output_type": "stream",
     "text": [
      "/home/pratik/miniconda3/lib/python3.12/site-packages/numpy/core/fromnumeric.py:3504: RuntimeWarning: Mean of empty slice.\n",
      "  return _methods._mean(a, axis=axis, dtype=dtype,\n",
      "/home/pratik/miniconda3/lib/python3.12/site-packages/numpy/core/_methods.py:121: RuntimeWarning: invalid value encountered in divide\n",
      "  ret = um.true_divide(\n",
      "100%|██████████| 11/11 [00:28<00:00,  2.57s/it]\n",
      "100%|██████████| 10/10 [00:00<00:00, 2858.13it/s]\n"
     ]
    },
    {
     "name": "stdout",
     "output_type": "stream",
     "text": [
      "Calculating CRH values for 10 models\n",
      "Calculating Regression weights for 10 models\n"
     ]
    },
    {
     "name": "stderr",
     "output_type": "stream",
     "text": [
      "100%|██████████| 1000/1000 [01:08<00:00, 14.59it/s]\n"
     ]
    },
    {
     "name": "stdout",
     "output_type": "stream",
     "text": [
      "Calculating Accuracy weights for 10 models\n",
      "Calculating Entropy weights for 10 models\n"
     ]
    },
    {
     "name": "stderr",
     "output_type": "stream",
     "text": [
      "100%|██████████| 10/10 [00:01<00:00,  7.35it/s]\n",
      "100%|██████████| 10/10 [00:01<00:00,  7.29it/s]\n"
     ]
    },
    {
     "name": "stdout",
     "output_type": "stream",
     "text": [
      "Calculating LOO values for 10 models\n",
      "Calculating Shapley values for 10 models\n"
     ]
    },
    {
     "name": "stderr",
     "output_type": "stream",
     "text": [
      "/home/pratik/miniconda3/lib/python3.12/site-packages/numpy/core/fromnumeric.py:3504: RuntimeWarning: Mean of empty slice.\n",
      "  return _methods._mean(a, axis=axis, dtype=dtype,\n",
      "/home/pratik/miniconda3/lib/python3.12/site-packages/numpy/core/_methods.py:121: RuntimeWarning: invalid value encountered in divide\n",
      "  ret = um.true_divide(\n",
      "100%|██████████| 11/11 [00:37<00:00,  3.43s/it]\n",
      "100%|██████████| 10/10 [00:00<00:00, 2925.10it/s]\n"
     ]
    },
    {
     "name": "stdout",
     "output_type": "stream",
     "text": [
      "Calculating CRH values for 10 models\n",
      "Calculating Regression weights for 10 models\n"
     ]
    },
    {
     "name": "stderr",
     "output_type": "stream",
     "text": [
      "100%|██████████| 1000/1000 [01:08<00:00, 14.54it/s]\n"
     ]
    },
    {
     "name": "stdout",
     "output_type": "stream",
     "text": [
      "Calculating Accuracy weights for 10 models\n",
      "Calculating Entropy weights for 10 models\n"
     ]
    },
    {
     "name": "stderr",
     "output_type": "stream",
     "text": [
      "100%|██████████| 10/10 [00:01<00:00,  7.34it/s]\n",
      "100%|██████████| 10/10 [00:01<00:00,  7.33it/s]\n"
     ]
    },
    {
     "name": "stdout",
     "output_type": "stream",
     "text": [
      "Calculating LOO values for 10 models\n",
      "Calculating Shapley values for 10 models\n"
     ]
    },
    {
     "name": "stderr",
     "output_type": "stream",
     "text": [
      "/home/pratik/miniconda3/lib/python3.12/site-packages/numpy/core/fromnumeric.py:3504: RuntimeWarning: Mean of empty slice.\n",
      "  return _methods._mean(a, axis=axis, dtype=dtype,\n",
      "/home/pratik/miniconda3/lib/python3.12/site-packages/numpy/core/_methods.py:121: RuntimeWarning: invalid value encountered in divide\n",
      "  ret = um.true_divide(\n",
      "100%|██████████| 11/11 [00:28<00:00,  2.56s/it]\n",
      "100%|██████████| 10/10 [00:00<00:00, 2898.62it/s]\n"
     ]
    },
    {
     "name": "stdout",
     "output_type": "stream",
     "text": [
      "Calculating CRH values for 10 models\n",
      "Calculating Regression weights for 10 models\n"
     ]
    },
    {
     "name": "stderr",
     "output_type": "stream",
     "text": [
      "100%|██████████| 1000/1000 [01:08<00:00, 14.66it/s]\n"
     ]
    },
    {
     "name": "stdout",
     "output_type": "stream",
     "text": [
      "Calculating Accuracy weights for 10 models\n",
      "Calculating Entropy weights for 10 models\n"
     ]
    },
    {
     "name": "stderr",
     "output_type": "stream",
     "text": [
      "100%|██████████| 10/10 [00:01<00:00,  7.40it/s]\n",
      "100%|██████████| 10/10 [00:01<00:00,  7.34it/s]\n"
     ]
    },
    {
     "name": "stdout",
     "output_type": "stream",
     "text": [
      "Calculating LOO values for 10 models\n",
      "Calculating Shapley values for 10 models\n"
     ]
    },
    {
     "name": "stderr",
     "output_type": "stream",
     "text": [
      "/home/pratik/miniconda3/lib/python3.12/site-packages/numpy/core/fromnumeric.py:3504: RuntimeWarning: Mean of empty slice.\n",
      "  return _methods._mean(a, axis=axis, dtype=dtype,\n",
      "/home/pratik/miniconda3/lib/python3.12/site-packages/numpy/core/_methods.py:121: RuntimeWarning: invalid value encountered in divide\n",
      "  ret = um.true_divide(\n",
      "100%|██████████| 11/11 [00:38<00:00,  3.48s/it]\n",
      "100%|██████████| 10/10 [00:00<00:00, 2952.90it/s]\n"
     ]
    },
    {
     "name": "stdout",
     "output_type": "stream",
     "text": [
      "Calculating CRH values for 10 models\n",
      "Calculating Regression weights for 10 models\n"
     ]
    },
    {
     "name": "stderr",
     "output_type": "stream",
     "text": [
      "100%|██████████| 1000/1000 [01:08<00:00, 14.64it/s]\n"
     ]
    },
    {
     "name": "stdout",
     "output_type": "stream",
     "text": [
      "Calculating Accuracy weights for 10 models\n",
      "Calculating Entropy weights for 10 models\n"
     ]
    },
    {
     "name": "stderr",
     "output_type": "stream",
     "text": [
      "100%|██████████| 10/10 [00:01<00:00,  7.31it/s]\n",
      "100%|██████████| 10/10 [00:01<00:00,  8.07it/s]\n"
     ]
    },
    {
     "name": "stdout",
     "output_type": "stream",
     "text": [
      "Calculating LOO values for 10 models\n",
      "Calculating Shapley values for 10 models\n"
     ]
    },
    {
     "name": "stderr",
     "output_type": "stream",
     "text": [
      "/home/pratik/miniconda3/lib/python3.12/site-packages/numpy/core/fromnumeric.py:3504: RuntimeWarning: Mean of empty slice.\n",
      "  return _methods._mean(a, axis=axis, dtype=dtype,\n",
      "/home/pratik/miniconda3/lib/python3.12/site-packages/numpy/core/_methods.py:121: RuntimeWarning: invalid value encountered in divide\n",
      "  ret = um.true_divide(\n",
      "100%|██████████| 11/11 [00:36<00:00,  3.36s/it]\n",
      "100%|██████████| 10/10 [00:00<00:00, 2922.25it/s]\n"
     ]
    },
    {
     "name": "stdout",
     "output_type": "stream",
     "text": [
      "Calculating CRH values for 10 models\n",
      "Calculating Regression weights for 10 models\n"
     ]
    },
    {
     "name": "stderr",
     "output_type": "stream",
     "text": [
      "100%|██████████| 1000/1000 [01:09<00:00, 14.46it/s]\n"
     ]
    },
    {
     "name": "stdout",
     "output_type": "stream",
     "text": [
      "Calculating Accuracy weights for 10 models\n",
      "Calculating Entropy weights for 10 models\n"
     ]
    },
    {
     "name": "stderr",
     "output_type": "stream",
     "text": [
      "100%|██████████| 10/10 [00:01<00:00,  7.31it/s]\n",
      "100%|██████████| 10/10 [00:01<00:00,  7.35it/s]\n"
     ]
    },
    {
     "name": "stdout",
     "output_type": "stream",
     "text": [
      "Calculating LOO values for 10 models\n",
      "Calculating Shapley values for 10 models\n"
     ]
    },
    {
     "name": "stderr",
     "output_type": "stream",
     "text": [
      "/home/pratik/miniconda3/lib/python3.12/site-packages/numpy/core/fromnumeric.py:3504: RuntimeWarning: Mean of empty slice.\n",
      "  return _methods._mean(a, axis=axis, dtype=dtype,\n",
      "/home/pratik/miniconda3/lib/python3.12/site-packages/numpy/core/_methods.py:121: RuntimeWarning: invalid value encountered in divide\n",
      "  ret = um.true_divide(\n",
      "100%|██████████| 11/11 [00:37<00:00,  3.45s/it]\n",
      "100%|██████████| 10/10 [00:00<00:00, 2907.06it/s]\n"
     ]
    },
    {
     "name": "stdout",
     "output_type": "stream",
     "text": [
      "Calculating CRH values for 10 models\n",
      "Calculating Regression weights for 10 models\n"
     ]
    },
    {
     "name": "stderr",
     "output_type": "stream",
     "text": [
      "100%|██████████| 1000/1000 [01:09<00:00, 14.43it/s]\n"
     ]
    },
    {
     "name": "stdout",
     "output_type": "stream",
     "text": [
      "Calculating Accuracy weights for 10 models\n",
      "Calculating Entropy weights for 10 models\n"
     ]
    },
    {
     "name": "stderr",
     "output_type": "stream",
     "text": [
      "100%|██████████| 10/10 [00:01<00:00,  7.70it/s]\n",
      "100%|██████████| 10/10 [00:01<00:00,  7.37it/s]\n"
     ]
    },
    {
     "name": "stdout",
     "output_type": "stream",
     "text": [
      "Calculating LOO values for 10 models\n",
      "Calculating Shapley values for 10 models\n"
     ]
    },
    {
     "name": "stderr",
     "output_type": "stream",
     "text": [
      "/home/pratik/miniconda3/lib/python3.12/site-packages/numpy/core/fromnumeric.py:3504: RuntimeWarning: Mean of empty slice.\n",
      "  return _methods._mean(a, axis=axis, dtype=dtype,\n",
      "/home/pratik/miniconda3/lib/python3.12/site-packages/numpy/core/_methods.py:121: RuntimeWarning: invalid value encountered in divide\n",
      "  ret = um.true_divide(\n",
      "100%|██████████| 11/11 [00:37<00:00,  3.39s/it]\n",
      "100%|██████████| 10/10 [00:00<00:00, 2908.87it/s]\n"
     ]
    },
    {
     "name": "stdout",
     "output_type": "stream",
     "text": [
      "Calculating CRH values for 10 models\n",
      "Calculating Regression weights for 10 models\n"
     ]
    },
    {
     "name": "stderr",
     "output_type": "stream",
     "text": [
      "100%|██████████| 1000/1000 [01:09<00:00, 14.42it/s]\n"
     ]
    },
    {
     "name": "stdout",
     "output_type": "stream",
     "text": [
      "Calculating Accuracy weights for 10 models\n",
      "Calculating Entropy weights for 10 models\n"
     ]
    },
    {
     "name": "stderr",
     "output_type": "stream",
     "text": [
      "100%|██████████| 10/10 [00:01<00:00,  7.24it/s]\n",
      "100%|██████████| 10/10 [00:01<00:00,  7.34it/s]\n"
     ]
    },
    {
     "name": "stdout",
     "output_type": "stream",
     "text": [
      "Calculating LOO values for 10 models\n",
      "Calculating Shapley values for 10 models\n"
     ]
    },
    {
     "name": "stderr",
     "output_type": "stream",
     "text": [
      "/home/pratik/miniconda3/lib/python3.12/site-packages/numpy/core/fromnumeric.py:3504: RuntimeWarning: Mean of empty slice.\n",
      "  return _methods._mean(a, axis=axis, dtype=dtype,\n",
      "/home/pratik/miniconda3/lib/python3.12/site-packages/numpy/core/_methods.py:121: RuntimeWarning: invalid value encountered in divide\n",
      "  ret = um.true_divide(\n",
      "100%|██████████| 11/11 [00:37<00:00,  3.45s/it]\n",
      "100%|██████████| 10/10 [00:00<00:00, 2893.42it/s]\n"
     ]
    },
    {
     "name": "stdout",
     "output_type": "stream",
     "text": [
      "Calculating CRH values for 10 models\n",
      "Calculating Regression weights for 10 models\n"
     ]
    },
    {
     "name": "stderr",
     "output_type": "stream",
     "text": [
      "100%|██████████| 1000/1000 [01:08<00:00, 14.50it/s]\n"
     ]
    },
    {
     "name": "stdout",
     "output_type": "stream",
     "text": [
      "Calculating Accuracy weights for 10 models\n",
      "Calculating Entropy weights for 10 models\n"
     ]
    },
    {
     "name": "stderr",
     "output_type": "stream",
     "text": [
      "100%|██████████| 10/10 [00:01<00:00,  7.32it/s]\n",
      "100%|██████████| 10/10 [00:01<00:00,  7.32it/s]\n"
     ]
    },
    {
     "name": "stdout",
     "output_type": "stream",
     "text": [
      "Calculating LOO values for 10 models\n",
      "Calculating Shapley values for 10 models\n"
     ]
    },
    {
     "name": "stderr",
     "output_type": "stream",
     "text": [
      "/home/pratik/miniconda3/lib/python3.12/site-packages/numpy/core/fromnumeric.py:3504: RuntimeWarning: Mean of empty slice.\n",
      "  return _methods._mean(a, axis=axis, dtype=dtype,\n",
      "/home/pratik/miniconda3/lib/python3.12/site-packages/numpy/core/_methods.py:121: RuntimeWarning: invalid value encountered in divide\n",
      "  ret = um.true_divide(\n",
      "100%|██████████| 11/11 [00:37<00:00,  3.44s/it]\n",
      "100%|██████████| 10/10 [00:00<00:00, 2873.80it/s]\n"
     ]
    },
    {
     "name": "stdout",
     "output_type": "stream",
     "text": [
      "Calculating CRH values for 10 models\n",
      "Calculating Regression weights for 10 models\n"
     ]
    },
    {
     "name": "stderr",
     "output_type": "stream",
     "text": [
      "100%|██████████| 1000/1000 [01:09<00:00, 14.48it/s]\n"
     ]
    },
    {
     "name": "stdout",
     "output_type": "stream",
     "text": [
      "Calculating Accuracy weights for 10 models\n",
      "Calculating Entropy weights for 10 models\n"
     ]
    },
    {
     "name": "stderr",
     "output_type": "stream",
     "text": [
      "100%|██████████| 10/10 [24:58<00:00, 149.86s/it]\n"
     ]
    }
   ],
   "source": [
    "accuracy_dict_3 = experiment(3, 10)\n",
    "accuracy_dict_5 = experiment(5, 10)\n",
    "accuracy_dict_7 = experiment(7, 10)\n",
    "accuracy_dict_10 = experiment(10, 10)"
   ]
  },
  {
   "cell_type": "code",
   "execution_count": 17,
   "metadata": {},
   "outputs": [],
   "source": [
    "# Save the dictionaries in a pickle file in destination folder dmoz_exps/ create the folder if it does not exist\n",
    "import pickle\n",
    "import os\n",
    "if not os.path.exists('dmoz_exps'):\n",
    "    os.makedirs('dmoz_exps')\n",
    "with open('dmoz_exps/accuracy_dict_3.pkl', 'wb') as f:\n",
    "    pickle.dump(accuracy_dict_3, f)\n",
    "with open('dmoz_exps/accuracy_dict_5.pkl', 'wb') as f:\n",
    "    pickle.dump(accuracy_dict_5, f)\n",
    "with open('dmoz_exps/accuracy_dict_7.pkl', 'wb') as f:\n",
    "    pickle.dump(accuracy_dict_7, f)\n",
    "with open('dmoz_exps/accuracy_dict_10.pkl', 'wb') as f:\n",
    "    pickle.dump(accuracy_dict_10, f)\n",
    "\n",
    "# Load the dictionaries from the pickle file\n",
    "with open('dmoz_exps/accuracy_dict_3.pkl', 'rb') as f:\n",
    "    accuracy_dict_3 = pickle.load(f)\n",
    "with open('dmoz_exps/accuracy_dict_5.pkl', 'rb') as f:\n",
    "    accuracy_dict_5 = pickle.load(f)\n",
    "with open('dmoz_exps/accuracy_dict_7.pkl', 'rb') as f:\n",
    "    accuracy_dict_7 = pickle.load(f)\n",
    "with open('dmoz_exps/accuracy_dict_10.pkl', 'rb') as f:\n",
    "    accuracy_dict_10 = pickle.load(f)"
   ]
  },
  {
   "cell_type": "code",
   "execution_count": 18,
   "metadata": {},
   "outputs": [],
   "source": [
    "accuracy_bordas_3 = {key:accuracy_dict_3[key]['borda'] for key in accuracy_dict_3.keys()}\n",
    "accuracy_plurality_3 = {key:accuracy_dict_3[key]['plurality'] for key in accuracy_dict_3.keys()}\n",
    "\n",
    "accuracy_bordas_3_df = pd.DataFrame(accuracy_bordas_3)\n",
    "accuracy_plurality_3_df = pd.DataFrame(accuracy_plurality_3)\n",
    "\n",
    "# Assuming the data is stored in a DataFrame named accuracy_bordas_3_df\n",
    "# Melt the DataFrame to a long format suitable for seaborn\n",
    "accuracy_bordas_3_df_melted = accuracy_bordas_3_df.melt(var_name='Method', value_name='Value')\n",
    "accuracy_plurality_3_df_melted = accuracy_plurality_3_df.melt(var_name='Method', value_name='Value')\n",
    "\n",
    "# Define a custom color palette\n",
    "palette = {\n",
    "    'loo': '#1f77b4',        # Blue\n",
    "    'crh': '#ff7f0e',        # Orange\n",
    "    'entropy': '#2ca02c',    # Green\n",
    "    'accuracy': '#d62728',   # Red\n",
    "    'shapley': '#9467bd',    # Purple\n",
    "    'regression': '#8c564b',  # Brown\n",
    "    'unweighted': '#e377c2'  # Pink\n",
    "}"
   ]
  },
  {
   "cell_type": "code",
   "execution_count": 19,
   "metadata": {},
   "outputs": [
    {
     "name": "stderr",
     "output_type": "stream",
     "text": [
      "/tmp/ipykernel_451125/4069103855.py:2: FutureWarning: \n",
      "\n",
      "Passing `palette` without assigning `hue` is deprecated and will be removed in v0.14.0. Assign the `x` variable to `hue` and set `legend=False` for the same effect.\n",
      "\n",
      "  sns.boxplot(x='Method', y='Value', data=accuracy_bordas_3_df_melted, palette=palette)\n"
     ]
    },
    {
     "data": {
      "image/png": "[encoded data removed]",
      "text/plain": [
       "<Figure size 1200x600 with 1 Axes>"
      ]
     },
     "metadata": {},
     "output_type": "display_data"
    }
   ],
   "source": [
    "plt.figure(figsize=(12, 6))\n",
    "sns.boxplot(x='Method', y='Value', data=accuracy_bordas_3_df_melted, palette=palette)\n",
    "plt.title('Box Plot of Different Methods (Borda)')\n",
    "plt.ylabel('Value')\n",
    "plt.xlabel('Method')\n",
    "plt.show()"
   ]
  },
  {
   "cell_type": "code",
   "execution_count": 20,
   "metadata": {},
   "outputs": [
    {
     "name": "stderr",
     "output_type": "stream",
     "text": [
      "/tmp/ipykernel_451125/1544515573.py:2: FutureWarning: \n",
      "\n",
      "Passing `palette` without assigning `hue` is deprecated and will be removed in v0.14.0. Assign the `x` variable to `hue` and set `legend=False` for the same effect.\n",
      "\n",
      "  sns.boxplot(x='Method', y='Value', data=accuracy_plurality_3_df_melted, palette=palette)\n"
     ]
    },
    {
     "data": {
      "image/png": "[encoded data removed]",
      "text/plain": [
       "<Figure size 1200x600 with 1 Axes>"
      ]
     },
     "metadata": {},
     "output_type": "display_data"
    }
   ],
   "source": [
    "plt.figure(figsize=(12, 6))\n",
    "sns.boxplot(x='Method', y='Value', data=accuracy_plurality_3_df_melted, palette=palette)\n",
    "plt.title('Box Plot of Different Methods (Plurality)')\n",
    "plt.ylabel('Value')\n",
    "plt.xlabel('Method')\n",
    "plt.show()"
   ]
  },
  {
   "cell_type": "code",
   "execution_count": 21,
   "metadata": {},
   "outputs": [],
   "source": [
    "accuracy_bordas_5 = {key:accuracy_dict_5[key]['borda'] for key in accuracy_dict_5.keys()}\n",
    "accuracy_plurality_5 = {key:accuracy_dict_5[key]['plurality'] for key in accuracy_dict_5.keys()}\n",
    "\n",
    "accuracy_bordas_5_df = pd.DataFrame(accuracy_bordas_5)\n",
    "accuracy_plurality_5_df = pd.DataFrame(accuracy_plurality_5)\n",
    "\n",
    "# Assuming the data is stored in a DataFrame named accuracy_bordas_5_df\n",
    "# Melt the DataFrame to a long format suitable for seaborn\n",
    "accuracy_bordas_5_df_melted = accuracy_bordas_5_df.melt(var_name='Method', value_name='Value')\n",
    "accuracy_plurality_5_df_melted = accuracy_plurality_5_df.melt(var_name='Method', value_name='Value')\n",
    "\n",
    "# Define a custom color palette\n",
    "palette = {\n",
    "    'loo': '#1f77b4',        # Blue\n",
    "    'crh': '#ff7f0e',        # Orange\n",
    "    'entropy': '#2ca02c',    # Green\n",
    "    'accuracy': '#d62728',   # Red\n",
    "    'shapley': '#9467bd',    # Purple\n",
    "    'regression': '#8c564b',  # Brown\n",
    "    'unweighted': '#e377c2'  # Pink\n",
    "}"
   ]
  },
  {
   "cell_type": "code",
   "execution_count": 22,
   "metadata": {},
   "outputs": [
    {
     "name": "stderr",
     "output_type": "stream",
     "text": [
      "/tmp/ipykernel_451125/866127261.py:3: FutureWarning: \n",
      "\n",
      "Passing `palette` without assigning `hue` is deprecated and will be removed in v0.14.0. Assign the `x` variable to `hue` and set `legend=False` for the same effect.\n",
      "\n",
      "  sns.boxplot(x='Method', y='Value', data=accuracy_plurality_5_df_melted, palette=palette)\n"
     ]
    },
    {
     "data": {
      "image/png": "[encoded data removed]",
      "text/plain": [
       "<Figure size 1200x600 with 1 Axes>"
      ]
     },
     "metadata": {},
     "output_type": "display_data"
    }
   ],
   "source": [
    "# Create a box plot with the custom palette\n",
    "plt.figure(figsize=(12, 6))\n",
    "sns.boxplot(x='Method', y='Value', data=accuracy_plurality_5_df_melted, palette=palette)\n",
    "plt.title('Box Plot of Different Methods (Plurality)')\n",
    "plt.ylabel('Value')\n",
    "plt.xlabel('Method')\n",
    "plt.show()"
   ]
  },
  {
   "cell_type": "code",
   "execution_count": 23,
   "metadata": {},
   "outputs": [
    {
     "name": "stderr",
     "output_type": "stream",
     "text": [
      "/tmp/ipykernel_451125/2006337391.py:25: FutureWarning: \n",
      "\n",
      "Passing `palette` without assigning `hue` is deprecated and will be removed in v0.14.0. Assign the `x` variable to `hue` and set `legend=False` for the same effect.\n",
      "\n",
      "  sns.boxplot(x='Method', y='Value', data=accuracy_bordas_10_df_melted, palette=palette)\n"
     ]
    },
    {
     "data": {
      "image/png": "[encoded data removed]",
      "text/plain": [
       "<Figure size 1200x600 with 1 Axes>"
      ]
     },
     "metadata": {},
     "output_type": "display_data"
    }
   ],
   "source": [
    "accuracy_bordas_10 = {key:accuracy_dict_10[key]['borda'] for key in accuracy_dict_10.keys()}\n",
    "accuracy_plurality_10 = {key:accuracy_dict_10[key]['plurality'] for key in accuracy_dict_10.keys()}\n",
    "\n",
    "accuracy_bordas_10_df = pd.DataFrame(accuracy_bordas_10)\n",
    "accuracy_plurality_10_df = pd.DataFrame(accuracy_plurality_10)\n",
    "\n",
    "# Assuming the data is stored in a DataFrame named accuracy_bordas_10_df\n",
    "# Melt the DataFrame to a long format suitable for seaborn\n",
    "accuracy_bordas_10_df_melted = accuracy_bordas_10_df.melt(var_name='Method', value_name='Value')\n",
    "accuracy_plurality_10_df_melted = accuracy_plurality_10_df.melt(var_name='Method', value_name='Value')\n",
    "\n",
    "# Define a custom color palette\n",
    "palette = {\n",
    "    'loo': '#1f77b4',        # Blue\n",
    "    'crh': '#ff7f0e',        # Orange\n",
    "    'entropy': '#2ca02c',    # Green\n",
    "    'accuracy': '#d62728',   # Red\n",
    "    'shapley': '#9467bd',    # Purple\n",
    "    'regression': '#8c564b',  # Brown\n",
    "    'unweighted': '#e377c2'  # Pink\n",
    "}\n",
    "\n",
    "# Create a box plot with the custom palette\n",
    "plt.figure(figsize=(12, 6))\n",
    "sns.boxplot(x='Method', y='Value', data=accuracy_bordas_10_df_melted, palette=palette)\n",
    "plt.title('Box Plot of Different Methods (Borda)')\n",
    "plt.ylabel('Value')\n",
    "plt.xlabel('Method')\n",
    "plt.show()"
   ]
  },
  {
   "cell_type": "code",
   "execution_count": 24,
   "metadata": {},
   "outputs": [
    {
     "name": "stderr",
     "output_type": "stream",
     "text": [
      "/tmp/ipykernel_451125/935400198.py:3: FutureWarning: \n",
      "\n",
      "Passing `palette` without assigning `hue` is deprecated and will be removed in v0.14.0. Assign the `x` variable to `hue` and set `legend=False` for the same effect.\n",
      "\n",
      "  sns.boxplot(x='Method', y='Value', data=accuracy_plurality_10_df_melted, palette=palette)\n"
     ]
    },
    {
     "data": {
      "image/png": "[encoded data removed]",
      "text/plain": [
       "<Figure size 1200x600 with 1 Axes>"
      ]
     },
     "metadata": {},
     "output_type": "display_data"
    }
   ],
   "source": [
    "# Create a box plot with the custom palette\n",
    "plt.figure(figsize=(12, 6))\n",
    "sns.boxplot(x='Method', y='Value', data=accuracy_plurality_10_df_melted, palette=palette)\n",
    "plt.title('Box Plot of Different Methods (Plurality)')\n",
    "plt.ylabel('Value')\n",
    "plt.xlabel('Method')\n",
    "plt.show()"
   ]
  },
  {
   "cell_type": "code",
   "execution_count": null,
   "metadata": {},
   "outputs": [],
   "source": [
    "# Save the dictionaries in a pickle file in destination folder dmoz_exps/ create the folder if it does not exist\n",
    "import pickle\n",
    "import os\n",
    "if not os.path.exists('dmoz_exps'):\n",
    "    os.makedirs('dmoz_exps')\n",
    "with open('dmoz_exps/accuracy_dict_3.pkl', 'wb') as f:\n",
    "    pickle.dump(accuracy_dict_3, f)\n",
    "with open('dmoz_exps/accuracy_dict_5.pkl', 'wb') as f:\n",
    "    pickle.dump(accuracy_dict_5, f)\n",
    "with open('dmoz_exps/accuracy_dict_7.pkl', 'wb') as f:\n",
    "    pickle.dump(accuracy_dict_7, f)\n",
    "with open('dmoz_exps/accuracy_dict_10.pkl', 'wb') as f:\n",
    "    pickle.dump(accuracy_dict_10, f)\n",
    "\n",
    "# Load the dictionaries from the pickle file\n",
    "with open('dmoz_exps/accuracy_dict_3.pkl', 'rb') as f:\n",
    "    accuracy_dict_3 = pickle.load(f)\n",
    "with open('dmoz_exps/accuracy_dict_5.pkl', 'rb') as f:\n",
    "    accuracy_dict_5 = pickle.load(f)\n",
    "with open('dmoz_exps/accuracy_dict_7.pkl', 'rb') as f:\n",
    "    accuracy_dict_7 = pickle.load(f)\n",
    "with open('dmoz_exps/accuracy_dict_10.pkl', 'rb') as f:\n",
    "    accuracy_dict_10 = pickle.load(f)"
   ]
  },
  {
   "cell_type": "markdown",
   "metadata": {},
   "source": [
    "### Test"
   ]
  },
  {
   "cell_type": "code",
   "execution_count": 25,
   "metadata": {},
   "outputs": [
    {
     "name": "stderr",
     "output_type": "stream",
     "text": [
      "100%|██████████| 5/5 [00:00<00:00,  7.42it/s]\n",
      "100%|██████████| 5/5 [00:00<00:00,  7.35it/s]\n"
     ]
    }
   ],
   "source": [
    "divs = 5\n",
    "\n",
    "X_train, X_test, y_train, y_test = stratified_train_test_split(X, y, test_size=0.3)\n",
    "X_test, X_val, y_test, y_val = train_test_split(X_test, y_test, test_size=0.5)\n",
    "clfs = train_noisy_MNB(divs, X_train, y_train, unique_labels)\n",
    "wf = WeightFinding_sklearn(clfs, [X_val, y_val], 'cpu')\n",
    "wf_test = WeightFinding_sklearn(clfs, [X_test, y_test], 'cpu')"
   ]
  },
  {
   "cell_type": "code",
   "execution_count": 26,
   "metadata": {},
   "outputs": [
    {
     "name": "stdout",
     "output_type": "stream",
     "text": [
      "Calculating LOO values for 5 models\n",
      "Calculating Shapley values for 5 models\n"
     ]
    },
    {
     "name": "stderr",
     "output_type": "stream",
     "text": [
      "  0%|          | 0/6 [00:00<?, ?it/s]/home/pratik/miniconda3/lib/python3.12/site-packages/numpy/core/fromnumeric.py:3504: RuntimeWarning: Mean of empty slice.\n",
      "  return _methods._mean(a, axis=axis, dtype=dtype,\n",
      "/home/pratik/miniconda3/lib/python3.12/site-packages/numpy/core/_methods.py:121: RuntimeWarning: invalid value encountered in divide\n",
      "  ret = um.true_divide(\n",
      "100%|██████████| 6/6 [00:00<00:00,  8.55it/s]\n",
      "100%|██████████| 5/5 [00:00<00:00, 40485.56it/s]\n"
     ]
    },
    {
     "name": "stdout",
     "output_type": "stream",
     "text": [
      "Calculating CRH values for 5 models\n",
      "Calculating Regression weights for 5 models\n"
     ]
    },
    {
     "name": "stderr",
     "output_type": "stream",
     "text": [
      "100%|██████████| 1000/1000 [00:36<00:00, 27.61it/s]\n"
     ]
    },
    {
     "name": "stdout",
     "output_type": "stream",
     "text": [
      "Calculating Accuracy weights for 5 models\n",
      "Calculating Entropy weights for 5 models\n"
     ]
    }
   ],
   "source": [
    "loo_weights = wf.loo()\n",
    "shapley_weights = wf.shapley()\n",
    "crh_weights = wf.crh()\n",
    "regression_weights = wf.regression()\n",
    "acc_weights = wf.accuracy_weights()\n",
    "entropy_weights = wf.entropy_weights()"
   ]
  },
  {
   "cell_type": "code",
   "execution_count": 27,
   "metadata": {},
   "outputs": [
    {
     "name": "stdout",
     "output_type": "stream",
     "text": [
      "38.18170185540627\n",
      "38.13222435487311\n",
      "38.11772232885476\n",
      "38.070804009383664\n",
      "38.08701215611004\n",
      "37.99957346982299\n",
      "38.12667946257198\n",
      "37.483471955640866\n",
      "38.178716144167204\n",
      "38.11345702708467\n",
      "38.16805288974195\n",
      "37.46854339944551\n",
      "38.12667946257198\n",
      "37.27703134996801\n"
     ]
    }
   ],
   "source": [
    "print(voting(wf_test.y_preds, wf_test.labels, acc_weights, method='borda'))\n",
    "print(voting(wf_test.y_preds, wf_test.labels, acc_weights, method='plurality'))\n",
    "print(voting(wf_test.y_preds, wf_test.labels, shapley_weights, method='borda'))\n",
    "print(voting(wf_test.y_preds, wf_test.labels, shapley_weights, method='plurality'))\n",
    "print(voting(wf_test.y_preds, wf_test.labels, loo_weights, method='borda'))\n",
    "print(voting(wf_test.y_preds, wf_test.labels, loo_weights, method='plurality'))\n",
    "print(voting(wf_test.y_preds, wf_test.labels, entropy_weights, method='borda'))\n",
    "print(voting(wf_test.y_preds, wf_test.labels, entropy_weights, method='plurality'))\n",
    "print(voting(wf_test.y_preds, wf_test.labels, crh_weights, method='borda'))\n",
    "print(voting(wf_test.y_preds, wf_test.labels, crh_weights, method='plurality'))\n",
    "print(voting(wf_test.y_preds, wf_test.labels, regression_weights, method='borda'))\n",
    "print(voting(wf_test.y_preds, wf_test.labels, regression_weights, method='plurality'))\n",
    "print(voting(wf_test.y_preds, wf_test.labels, weights = None, method='borda'))\n",
    "print(voting(wf_test.y_preds, wf_test.labels, weights = None, method='plurality'))"
   ]
  },
  {
   "cell_type": "code",
   "execution_count": 37,
   "metadata": {},
   "outputs": [
    {
     "data": {
      "text/plain": [
       "0.3816805288974195"
      ]
     },
     "execution_count": 37,
     "metadata": {},
     "output_type": "execute_result"
    }
   ],
   "source": [
    "np.mean(np.argmax(np.average(wf_test.y_preds, axis = 0, weights = regression_weights), axis = 1) == wf_test.labels)"
   ]
  },
  {
   "cell_type": "code",
   "execution_count": 38,
   "metadata": {},
   "outputs": [
    {
     "data": {
      "text/plain": [
       "array([0.3802218 , 0.37876733, 0.36776285, 0.12501599, 0.06939646])"
      ]
     },
     "execution_count": 38,
     "metadata": {},
     "output_type": "execute_result"
    }
   ],
   "source": [
    "acc_weights"
   ]
  },
  {
   "cell_type": "code",
   "execution_count": null,
   "metadata": {},
   "outputs": [],
   "source": []
  }
 ],
 "metadata": {
  "kernelspec": {
   "display_name": "base",
   "language": "python",
   "name": "python3"
  },
  "language_info": {
   "codemirror_mode": {
    "name": "ipython",
    "version": 3
   },
   "file_extension": ".py",
   "mimetype": "text/x-python",
   "name": "python",
   "nbconvert_exporter": "python",
   "pygments_lexer": "ipython3",
   "version": "3.12.2"
  }
 },
 "nbformat": 4,
 "nbformat_minor": 2
}

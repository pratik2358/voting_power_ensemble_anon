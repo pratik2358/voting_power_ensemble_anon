{
 "cells": [
  {
   "cell_type": "code",
   "execution_count": null,
   "metadata": {},
   "outputs": [],
   "source": [
    "import os\n",
    "import torch\n",
    "import torch.nn as nn\n",
    "import torchvision\n",
    "import torchvision.transforms as transforms\n",
    "from tqdm import tqdm\n",
    "from models_used import CIFAR10_Net\n",
    "from torchvision import models\n",
    "import json\n",
    "from voting_utils import WeightFinding"
   ]
  },
  {
   "cell_type": "code",
   "execution_count": null,
   "metadata": {},
   "outputs": [
    {
     "name": "stdout",
     "output_type": "stream",
     "text": [
      "Using device: cuda\n"
     ]
    }
   ],
   "source": [
    "device = torch.device('cuda' if torch.cuda.is_available() else 'cpu')\n",
    "print(f'Using device: {device}')"
   ]
  },
  {
   "cell_type": "code",
   "execution_count": null,
   "metadata": {},
   "outputs": [],
   "source": [
    "# Define the directory containing the models\n",
    "model_directory = 'cinic_various_models_2/'\n",
    "\n",
    "# Function to load models with \"fl\" in their name\n",
    "def load_models(directory, noise_type = 'fl'):\n",
    "    models_loaded = []\n",
    "\n",
    "    # List all files in the directory\n",
    "    files = os.listdir(directory)\n",
    "    \n",
    "    for file in tqdm(files):\n",
    "        if noise_type in file:\n",
    "            # Load the model\n",
    "            if 'cifar10_net' in file:\n",
    "                model = CIFAR10_Net()\n",
    "            else:\n",
    "                model = models.vgg16(pretrained = True)\n",
    "                input_lastLayer = model.classifier[6].in_features\n",
    "                model.classifier[6] = nn.Linear(input_lastLayer,10)\n",
    "            model_path = os.path.join(directory, file)\n",
    "            model.load_state_dict(torch.load(model_path))\n",
    "            models_loaded.append((file, model))\n",
    "    \n",
    "    return models_loaded\n",
    "\n",
    "# Load the models\n",
    "fl_models = load_models(model_directory)\n",
    "\n",
    "# Example usage: Print the names of the loaded models\n",
    "for file_name, model in fl_models:\n",
    "    print(f\"Loaded model from file: {file_name}\")"
   ]
  },
  {
   "cell_type": "code",
   "execution_count": null,
   "metadata": {},
   "outputs": [],
   "source": [
    "di_models = load_models(model_directory, noise_type = 'di')\n",
    "\n",
    "# Example usage: Print the names of the loaded models\n",
    "for file_name, model in di_models:\n",
    "    print(f\"Loaded model from file: {file_name}\")\n",
    "    # You can also print the model structure if needed\n",
    "    # print(model)\n"
   ]
  },
  {
   "cell_type": "markdown",
   "metadata": {},
   "source": [
    "### Load validation dataloaders"
   ]
  },
  {
   "cell_type": "code",
   "execution_count": null,
   "metadata": {},
   "outputs": [],
   "source": [
    "cinic_directory = 'cinic_10_data'\n",
    "cinic_mean = [0.47889522, 0.47227842, 0.43047404]\n",
    "cinic_std = [0.24205776, 0.23828046, 0.25874835]\n",
    "\n",
    "cifar_valid = torch.utils.data.DataLoader(\n",
    "    torchvision.datasets.ImageFolder(cinic_directory + '/valid2/cifar',\n",
    "    \ttransform=transforms.Compose([transforms.ToTensor(),\n",
    "        transforms.Normalize(mean=cinic_mean,std=cinic_std)])),\n",
    "    batch_size=512, shuffle=False)\n",
    "\n",
    "imagenet_valid = torch.utils.data.DataLoader(\n",
    "    torchvision.datasets.ImageFolder(cinic_directory + '/valid2/imagenet',\n",
    "    \ttransform=transforms.Compose([transforms.ToTensor(),\n",
    "        transforms.Normalize(mean=cinic_mean,std=cinic_std)])),\n",
    "    batch_size=512, shuffle=False)"
   ]
  },
  {
   "cell_type": "markdown",
   "metadata": {},
   "source": [
    "### Create weight finder objects"
   ]
  },
  {
   "cell_type": "code",
   "execution_count": null,
   "metadata": {},
   "outputs": [],
   "source": [
    "fl_just_models = [model for file_name, model in fl_models]\n",
    "di_just_models = [model for file_name, model in di_models]\n",
    "\n",
    "fl_just_names = [file_name for file_name, model in fl_models]\n",
    "di_just_names = [file_name for file_name, model in di_models]"
   ]
  },
  {
   "cell_type": "code",
   "execution_count": null,
   "metadata": {},
   "outputs": [],
   "source": [
    "ci_loaders = [cifar_valid, imagenet_valid]\n",
    "# c_loader = [cifar_valid]\n",
    "# i_loader = [imagenet_valid]"
   ]
  },
  {
   "cell_type": "markdown",
   "metadata": {},
   "source": [
    "#### Uncomment the cell below only if you're computing the weight finder objects for the first time"
   ]
  },
  {
   "cell_type": "code",
   "execution_count": null,
   "metadata": {},
   "outputs": [],
   "source": [
    "wf_fl_ci = WeightFinding(fl_just_models, ci_loaders, device)\n",
    "wf_di_ci = WeightFinding(di_just_models, ci_loaders, device)\n",
    "\n",
    "# wf_fl_c = WeightFinding(fl_just_models, c_loader, device)\n",
    "# wf_di_c = WeightFinding(di_just_models, c_loader, device)\n",
    "\n",
    "# wf_fl_i = WeightFinding(fl_just_models, i_loader, device)\n",
    "# wf_di_i = WeightFinding(di_just_models, i_loader, device)\n",
    "\n",
    "# wf_fl_ci.models = []\n",
    "# wf_di_ci.models = []\n",
    "# wf_fl_c.models = []\n",
    "# wf_di_c.models = []\n",
    "# wf_fl_i.models = []\n",
    "# wf_di_i.models = []"
   ]
  },
  {
   "cell_type": "code",
   "execution_count": null,
   "metadata": {},
   "outputs": [],
   "source": [
    "# del fl_just_models\n",
    "# del di_just_models"
   ]
  },
  {
   "cell_type": "code",
   "execution_count": null,
   "metadata": {},
   "outputs": [],
   "source": [
    "# Save these objects\n",
    "wf_fl_ci.save('weight_finders_2/wf_fl_ci.pkl')\n",
    "wf_di_ci.save('weight_finders_2/wf_di_ci.pkl')\n",
    "# wf_fl_c.save('weight_finders_2/wf_fl_c.pkl')\n",
    "# wf_di_c.save('weight_finders_2/wf_di_c.pkl')\n",
    "# wf_fl_i.save('weight_finders_2/wf_fl_i.pkl')\n",
    "# wf_di_i.save('weight_finders_2/wf_di_i.pkl')\n",
    "\n",
    "# Load the objects\n",
    "wf_fl_ci = WeightFinding.load('weight_finders_2/wf_fl_ci.pkl')\n",
    "wf_di_ci = WeightFinding.load('weight_finders_2/wf_di_ci.pkl')\n",
    "# wf_fl_c = WeightFinding.load('weight_finders_2/wf_fl_c.pkl')\n",
    "# wf_di_c = WeightFinding.load('weight_finders_2/wf_di_c.pkl')\n",
    "# wf_fl_i = WeightFinding.load('weight_finders_2/wf_fl_i.pkl')\n",
    "# wf_di_i = WeightFinding.load('weight_finders_2/wf_di_i.pkl')"
   ]
  },
  {
   "cell_type": "markdown",
   "metadata": {},
   "source": [
    "### LOO Weights"
   ]
  },
  {
   "cell_type": "code",
   "execution_count": null,
   "metadata": {},
   "outputs": [
    {
     "name": "stdout",
     "output_type": "stream",
     "text": [
      "Calculating LOO values for 16 models\n",
      "Calculating LOO values for 16 models\n",
      "Calculating LOO values for 16 models\n",
      "Calculating LOO values for 16 models\n",
      "Calculating LOO values for 16 models\n",
      "Calculating LOO values for 16 models\n",
      "Calculating LOO values for 16 models\n",
      "Calculating LOO values for 16 models\n",
      "Calculating LOO values for 16 models\n",
      "Calculating LOO values for 16 models\n",
      "Calculating LOO values for 16 models\n",
      "Calculating LOO values for 16 models\n"
     ]
    }
   ],
   "source": [
    "fl_loo_weights_borda_ci = wf_fl_ci.loo_pytorch(method = 'borda')\n",
    "fl_loo_weights_borda_c = wf_fl_c.loo_pytorch(method = 'borda')\n",
    "fl_loo_weights_borda_i = wf_fl_i.loo_pytorch(method = 'borda')\n",
    "\n",
    "di_loo_weights_borda_ci = wf_di_ci.loo_pytorch(method = 'borda')\n",
    "di_loo_weights_borda_c = wf_di_c.loo_pytorch(method = 'borda')\n",
    "di_loo_weights_borda_i = wf_di_i.loo_pytorch(method = 'borda')\n",
    "\n",
    "fl_loo_weights_plurality_ci = wf_fl_ci.loo_pytorch(method = 'plurality')\n",
    "fl_loo_weights_plurality_c = wf_fl_c.loo_pytorch(method = 'plurality')\n",
    "fl_loo_weights_plurality_i = wf_fl_i.loo_pytorch(method = 'plurality')\n",
    "\n",
    "di_loo_weights_plurality_ci = wf_di_ci.loo_pytorch(method = 'plurality')\n",
    "di_loo_weights_plurality_c = wf_di_c.loo_pytorch(method = 'plurality')\n",
    "di_loo_weights_plurality_i = wf_di_i.loo_pytorch(method = 'plurality')"
   ]
  },
  {
   "cell_type": "code",
   "execution_count": null,
   "metadata": {},
   "outputs": [],
   "source": [
    "# make dictionary of the weights with model names\n",
    "fl_loo_weights_borda_ci_dict = dict(zip(fl_just_names, fl_loo_weights_borda_ci))\n",
    "fl_loo_weights_borda_c_dict = dict(zip(fl_just_names, fl_loo_weights_borda_c))\n",
    "fl_loo_weights_borda_i_dict = dict(zip(fl_just_names, fl_loo_weights_borda_i))\n",
    "di_loo_weights_borda_ci_dict = dict(zip(di_just_names, di_loo_weights_borda_ci))\n",
    "di_loo_weights_borda_c_dict = dict(zip(di_just_names, di_loo_weights_borda_c))\n",
    "di_loo_weights_borda_i_dict = dict(zip(di_just_names, di_loo_weights_borda_i))\n",
    "\n",
    "fl_loo_weights_plurality_ci_dict = dict(zip(fl_just_names, fl_loo_weights_plurality_ci))\n",
    "fl_loo_weights_plurality_c_dict = dict(zip(fl_just_names, fl_loo_weights_plurality_c))\n",
    "fl_loo_weights_plurality_i_dict = dict(zip(fl_just_names, fl_loo_weights_plurality_i))\n",
    "di_loo_weights_plurality_ci_dict = dict(zip(di_just_names, di_loo_weights_plurality_ci))\n",
    "di_loo_weights_plurality_c_dict = dict(zip(di_just_names, di_loo_weights_plurality_c))\n",
    "di_loo_weights_plurality_i_dict = dict(zip(di_just_names, di_loo_weights_plurality_i))"
   ]
  },
  {
   "cell_type": "code",
   "execution_count": null,
   "metadata": {},
   "outputs": [],
   "source": [
    "# Save the weights\n",
    "with open('weights_2/loo/fl_loo_weights_borda_ci.json', 'w') as f:\n",
    "    json.dump(fl_loo_weights_borda_ci_dict, f)\n",
    "\n",
    "with open('weights_2/loo/fl_loo_weights_borda_c.json', 'w') as f:\n",
    "    json.dump(fl_loo_weights_borda_c_dict, f)\n",
    "\n",
    "with open('weights_2/loo/fl_loo_weights_borda_i.json', 'w') as f:\n",
    "    json.dump(fl_loo_weights_borda_i_dict, f)\n",
    "\n",
    "with open('weights_2/loo/di_loo_weights_borda_ci.json', 'w') as f:\n",
    "    json.dump(di_loo_weights_borda_ci_dict, f)\n",
    "\n",
    "with open('weights_2/loo/di_loo_weights_borda_c.json', 'w') as f:\n",
    "    json.dump(di_loo_weights_borda_c_dict, f)\n",
    "\n",
    "with open('weights_2/loo/di_loo_weights_borda_i.json', 'w') as f:\n",
    "    json.dump(di_loo_weights_borda_i_dict, f)\n",
    "\n",
    "with open('weights_2/loo/fl_loo_weights_plurality_ci.json', 'w') as f:\n",
    "    json.dump(fl_loo_weights_plurality_ci_dict, f)\n",
    "\n",
    "with open('weights_2/loo/fl_loo_weights_plurality_c.json', 'w') as f:\n",
    "    json.dump(fl_loo_weights_plurality_c_dict, f)\n",
    "\n",
    "with open('weights_2/loo/fl_loo_weights_plurality_i.json', 'w') as f:\n",
    "    json.dump(fl_loo_weights_plurality_i_dict, f)\n",
    "\n",
    "with open('weights_2/loo/di_loo_weights_plurality_ci.json', 'w') as f:\n",
    "    json.dump(di_loo_weights_plurality_ci_dict, f)\n",
    "\n",
    "with open('weights_2/loo/di_loo_weights_plurality_c.json', 'w') as f:\n",
    "    json.dump(di_loo_weights_plurality_c_dict, f)\n",
    "\n",
    "with open('weights_2/loo/di_loo_weights_plurality_i.json', 'w') as f:\n",
    "    json.dump(di_loo_weights_plurality_i_dict, f)\n",
    "\n",
    "# Load the weights\n",
    "with open('weights_2/loo/fl_loo_weights_borda_ci.json', 'r') as f:\n",
    "    fl_loo_weights_borda_ci_dict = json.load(f)\n",
    "\n",
    "with open('weights_2/loo/fl_loo_weights_borda_c.json', 'r') as f:\n",
    "    fl_loo_weights_borda_c_dict = json.load(f)\n",
    "\n",
    "with open('weights_2/loo/fl_loo_weights_borda_i.json', 'r') as f:\n",
    "    fl_loo_weights_borda_i_dict = json.load(f)\n",
    "\n",
    "with open('weights_2/loo/di_loo_weights_borda_ci.json', 'r') as f:\n",
    "    di_loo_weights_borda_ci_dict = json.load(f)\n",
    "\n",
    "with open('weights_2/loo/di_loo_weights_borda_c.json', 'r') as f:\n",
    "    di_loo_weights_borda_c_dict = json.load(f)\n",
    "\n",
    "with open('weights_2/loo/di_loo_weights_borda_i.json', 'r') as f:\n",
    "    di_loo_weights_borda_i_dict = json.load(f)\n",
    "\n",
    "with open('weights_2/loo/fl_loo_weights_plurality_ci.json', 'r') as f:\n",
    "    fl_loo_weights_plurality_ci_dict = json.load(f)\n",
    "\n",
    "with open('weights_2/loo/fl_loo_weights_plurality_c.json', 'r') as f:\n",
    "    fl_loo_weights_plurality_c_dict = json.load(f)\n",
    "\n",
    "with open('weights_2/loo/fl_loo_weights_plurality_i.json', 'r') as f:\n",
    "    fl_loo_weights_plurality_i_dict = json.load(f)\n",
    "\n",
    "with open('weights_2/loo/di_loo_weights_plurality_ci.json', 'r') as f:\n",
    "    di_loo_weights_plurality_ci_dict = json.load(f)\n",
    "\n",
    "with open('weights_2/loo/di_loo_weights_plurality_c.json', 'r') as f:\n",
    "    di_loo_weights_plurality_c_dict = json.load(f)\n",
    "\n",
    "with open('weights_2/loo/di_loo_weights_plurality_i.json', 'r') as f:\n",
    "    di_loo_weights_plurality_i_dict = json.load(f)"
   ]
  },
  {
   "cell_type": "markdown",
   "metadata": {},
   "source": [
    "### CRH weights"
   ]
  },
  {
   "cell_type": "code",
   "execution_count": null,
   "metadata": {},
   "outputs": [],
   "source": [
    "fl_crh_weights_ci = wf_fl_ci.crh_pytorch()\n",
    "fl_crh_weights_c = wf_fl_c.crh_pytorch()\n",
    "fl_crh_weights_i = wf_fl_i.crh_pytorch()\n",
    "\n",
    "di_crh_weights_ci = wf_di_ci.crh_pytorch()\n",
    "di_crh_weights_c = wf_di_c.crh_pytorch()\n",
    "di_crh_weights_i = wf_di_i.crh_pytorch()"
   ]
  },
  {
   "cell_type": "code",
   "execution_count": null,
   "metadata": {},
   "outputs": [],
   "source": [
    "fl_crh_weights_ci_dict = dict(zip(fl_just_names, fl_crh_weights_ci))\n",
    "fl_crh_weights_c_dict = dict(zip(fl_just_names, fl_crh_weights_c))\n",
    "fl_crh_weights_i_dict = dict(zip(fl_just_names, fl_crh_weights_i))\n",
    "di_crh_weights_ci_dict = dict(zip(di_just_names, di_crh_weights_ci))\n",
    "di_crh_weights_c_dict = dict(zip(di_just_names, di_crh_weights_c))\n",
    "di_crh_weights_i_dict = dict(zip(di_just_names, di_crh_weights_i))"
   ]
  },
  {
   "cell_type": "code",
   "execution_count": null,
   "metadata": {},
   "outputs": [],
   "source": [
    "# Save the CRH weights\n",
    "with open('weights_2/crh/fl_crh_weights_ci.json', 'w') as f:\n",
    "    json.dump(fl_crh_weights_ci_dict, f)\n",
    "\n",
    "with open('weights_2/crh/fl_crh_weights_c.json', 'w') as f:\n",
    "    json.dump(fl_crh_weights_c_dict, f)\n",
    "\n",
    "with open('weights_2/crh/fl_crh_weights_i.json', 'w') as f:\n",
    "    json.dump(fl_crh_weights_i_dict, f)\n",
    "\n",
    "with open('weights_2/crh/di_crh_weights_ci.json', 'w') as f:\n",
    "    json.dump(di_crh_weights_ci_dict, f)\n",
    "\n",
    "with open('weights_2/crh/di_crh_weights_c.json', 'w') as f:\n",
    "    json.dump(di_crh_weights_c_dict, f)\n",
    "\n",
    "with open('weights_2/crh/di_crh_weights_i.json', 'w') as f:\n",
    "    json.dump(di_crh_weights_i_dict, f)\n",
    "\n",
    "# Load the CRH weights\n",
    "with open('weights_2/crh/fl_crh_weights_ci.json', 'r') as f:\n",
    "    fl_crh_weights_ci_dict = json.load(f)\n",
    "\n",
    "with open('weights_2/crh/fl_crh_weights_c.json', 'r') as f:\n",
    "    fl_crh_weights_c_dict = json.load(f)\n",
    "\n",
    "with open('weights_2/crh/fl_crh_weights_i.json', 'r') as f:\n",
    "    fl_crh_weights_i_dict = json.load(f)\n",
    "\n",
    "with open('weights_2/crh/di_crh_weights_ci.json', 'r') as f:\n",
    "    di_crh_weights_ci_dict = json.load(f)\n",
    "\n",
    "with open('weights_2/crh/di_crh_weights_c.json', 'r') as f:\n",
    "    di_crh_weights_c_dict = json.load(f)\n",
    "\n",
    "with open('weights_2/crh/di_crh_weights_i.json', 'r') as f:\n",
    "    di_crh_weights_i_dict = json.load(f)"
   ]
  },
  {
   "cell_type": "markdown",
   "metadata": {},
   "source": [
    "### Entropy weights"
   ]
  },
  {
   "cell_type": "code",
   "execution_count": null,
   "metadata": {},
   "outputs": [],
   "source": [
    "fl_entropy_weights_ci = wf_fl_ci.entropy_weights()\n",
    "fl_entropy_weights_c = wf_fl_c.entropy_weights()\n",
    "fl_entropy_weights_i = wf_fl_i.entropy_weights()\n",
    "\n",
    "di_entropy_weights_ci = wf_di_ci.entropy_weights()\n",
    "di_entropy_weights_c = wf_di_c.entropy_weights()\n",
    "di_entropy_weights_i = wf_di_i.entropy_weights()"
   ]
  },
  {
   "cell_type": "code",
   "execution_count": null,
   "metadata": {},
   "outputs": [],
   "source": [
    "fl_entropy_weights_ci_dict = dict(zip(fl_just_names, fl_entropy_weights_ci))\n",
    "fl_entropy_weights_c_dict = dict(zip(fl_just_names, fl_entropy_weights_c))\n",
    "fl_entropy_weights_i_dict = dict(zip(fl_just_names, fl_entropy_weights_i))\n",
    "di_entropy_weights_ci_dict = dict(zip(di_just_names, di_entropy_weights_ci))\n",
    "di_entropy_weights_c_dict = dict(zip(di_just_names, di_entropy_weights_c))\n",
    "di_entropy_weights_i_dict = dict(zip(di_just_names, di_entropy_weights_i))"
   ]
  },
  {
   "cell_type": "code",
   "execution_count": null,
   "metadata": {},
   "outputs": [],
   "source": [
    "# Save the Entropy weights\n",
    "with open('weights_2/entropy/fl_entropy_weights_ci.json', 'w') as f:\n",
    "    json.dump(fl_entropy_weights_ci_dict, f)\n",
    "\n",
    "with open('weights_2/entropy/fl_entropy_weights_c.json', 'w') as f:\n",
    "    json.dump(fl_entropy_weights_c_dict, f)\n",
    "\n",
    "with open('weights_2/entropy/fl_entropy_weights_i.json', 'w') as f:\n",
    "    json.dump(fl_entropy_weights_i_dict, f)\n",
    "\n",
    "with open('weights_2/entropy/di_entropy_weights_ci.json', 'w') as f:\n",
    "    json.dump(di_entropy_weights_ci_dict, f)\n",
    "\n",
    "with open('weights_2/entropy/di_entropy_weights_c.json', 'w') as f:\n",
    "    json.dump(di_entropy_weights_c_dict, f)\n",
    "\n",
    "with open('weights_2/entropy/di_entropy_weights_i.json', 'w') as f:\n",
    "    json.dump(di_entropy_weights_i_dict, f)\n",
    "\n",
    "# Load the entropy weights\n",
    "with open('weights_2/entropy/fl_entropy_weights_ci.json', 'r') as f:\n",
    "    fl_entropy_weights_ci_dict = json.load(f)\n",
    "\n",
    "with open('weights_2/entropy/fl_entropy_weights_c.json', 'r') as f:\n",
    "    fl_entropy_weights_c_dict = json.load(f)\n",
    "\n",
    "with open('weights_2/entropy/fl_entropy_weights_i.json', 'r') as f:\n",
    "    fl_entropy_weights_i_dict = json.load(f)\n",
    "\n",
    "with open('weights_2/entropy/di_entropy_weights_ci.json', 'r') as f:\n",
    "    di_entropy_weights_ci_dict = json.load(f)\n",
    "\n",
    "with open('weights_2/entropy/di_entropy_weights_c.json', 'r') as f:\n",
    "    di_entropy_weights_c_dict = json.load(f)\n",
    "\n",
    "with open('weights_2/entropy/di_entropy_weights_i.json', 'r') as f:\n",
    "    di_entropy_weights_i_dict = json.load(f)"
   ]
  },
  {
   "cell_type": "markdown",
   "metadata": {},
   "source": [
    "### Accuracy weights"
   ]
  },
  {
   "cell_type": "code",
   "execution_count": null,
   "metadata": {},
   "outputs": [],
   "source": [
    "fl_accuracy_weights_ci = wf_fl_ci.accuracy_weights()\n",
    "fl_accuracy_weights_c = wf_fl_c.accuracy_weights()\n",
    "fl_accuracy_weights_i = wf_fl_i.accuracy_weights()\n",
    "\n",
    "di_accuracy_weights_ci = wf_di_ci.accuracy_weights()\n",
    "di_accuracy_weights_c = wf_di_c.accuracy_weights()\n",
    "di_accuracy_weights_i = wf_di_i.accuracy_weights()"
   ]
  },
  {
   "cell_type": "code",
   "execution_count": null,
   "metadata": {},
   "outputs": [],
   "source": [
    "fl_accuracy_weights_ci_dict = dict(zip(fl_just_names, fl_accuracy_weights_ci))\n",
    "fl_accuracy_weights_c_dict = dict(zip(fl_just_names, fl_accuracy_weights_c))\n",
    "fl_accuracy_weights_i_dict = dict(zip(fl_just_names, fl_accuracy_weights_i))\n",
    "di_accuracy_weights_ci_dict = dict(zip(di_just_names, di_accuracy_weights_ci))\n",
    "di_accuracy_weights_c_dict = dict(zip(di_just_names, di_accuracy_weights_c))\n",
    "di_accuracy_weights_i_dict = dict(zip(di_just_names, di_accuracy_weights_i))"
   ]
  },
  {
   "cell_type": "code",
   "execution_count": null,
   "metadata": {},
   "outputs": [],
   "source": [
    "# Save the accuracy weights\n",
    "with open('weights_2/accuracy/fl_accuracy_weights_ci.json', 'w') as f:\n",
    "    json.dump(fl_accuracy_weights_ci_dict, f)\n",
    "\n",
    "with open('weights_2/accuracy/fl_accuracy_weights_c.json', 'w') as f:\n",
    "    json.dump(fl_accuracy_weights_c_dict, f)\n",
    "\n",
    "with open('weights_2/accuracy/fl_accuracy_weights_i.json', 'w') as f:\n",
    "    json.dump(fl_accuracy_weights_i_dict, f)\n",
    "\n",
    "with open('weights_2/accuracy/di_accuracy_weights_ci.json', 'w') as f:\n",
    "    json.dump(di_accuracy_weights_ci_dict, f)\n",
    "\n",
    "with open('weights_2/accuracy/di_accuracy_weights_c.json', 'w') as f:\n",
    "    json.dump(di_accuracy_weights_c_dict, f)\n",
    "\n",
    "with open('weights_2/accuracy/di_accuracy_weights_i.json', 'w') as f:\n",
    "    json.dump(di_accuracy_weights_i_dict, f)\n",
    "\n",
    "# Load the accuracy weights\n",
    "with open('weights_2/accuracy/fl_accuracy_weights_ci.json', 'r') as f:\n",
    "    fl_accuracy_weights_ci_dict = json.load(f)\n",
    "\n",
    "with open('weights_2/accuracy/fl_accuracy_weights_c.json', 'r') as f:\n",
    "    fl_accuracy_weights_c_dict = json.load(f)\n",
    "\n",
    "with open('weights_2/accuracy/fl_accuracy_weights_i.json', 'r') as f:\n",
    "    fl_accuracy_weights_i_dict = json.load(f)\n",
    "\n",
    "with open('weights_2/accuracy/di_accuracy_weights_ci.json', 'r') as f:\n",
    "    di_accuracy_weights_ci_dict = json.load(f)\n",
    "\n",
    "with open('weights_2/accuracy/di_accuracy_weights_c.json', 'r') as f:\n",
    "    di_accuracy_weights_c_dict = json.load(f)\n",
    "\n",
    "with open('weights_2/accuracy/di_accuracy_weights_i.json', 'r') as f:\n",
    "    di_accuracy_weights_i_dict = json.load(f)"
   ]
  },
  {
   "cell_type": "markdown",
   "metadata": {},
   "source": [
    "### Shapley weights"
   ]
  },
  {
   "cell_type": "code",
   "execution_count": null,
   "metadata": {},
   "outputs": [
    {
     "name": "stdout",
     "output_type": "stream",
     "text": [
      "Calculating Shapley values for 16 models\n"
     ]
    },
    {
     "name": "stderr",
     "output_type": "stream",
     "text": [
      "  0%|          | 0/17 [00:00<?, ?it/s]/home/pratik/miniconda3/lib/python3.12/site-packages/numpy/core/fromnumeric.py:3504: RuntimeWarning: Mean of empty slice.\n",
      "  return _methods._mean(a, axis=axis, dtype=dtype,\n",
      "/home/pratik/miniconda3/lib/python3.12/site-packages/numpy/core/_methods.py:121: RuntimeWarning: invalid value encountered in divide\n",
      "  ret = um.true_divide(\n",
      "100%|██████████| 17/17 [08:09<00:00, 28.79s/it]\n",
      "100%|██████████| 16/16 [00:00<00:00, 41.68it/s]\n"
     ]
    },
    {
     "name": "stdout",
     "output_type": "stream",
     "text": [
      "Calculating Shapley values for 16 models\n"
     ]
    },
    {
     "name": "stderr",
     "output_type": "stream",
     "text": [
      "  0%|          | 0/17 [00:00<?, ?it/s]/home/pratik/miniconda3/lib/python3.12/site-packages/numpy/core/fromnumeric.py:3504: RuntimeWarning: Mean of empty slice.\n",
      "  return _methods._mean(a, axis=axis, dtype=dtype,\n",
      "/home/pratik/miniconda3/lib/python3.12/site-packages/numpy/core/_methods.py:121: RuntimeWarning: invalid value encountered in divide\n",
      "  ret = um.true_divide(\n",
      "100%|██████████| 17/17 [07:45<00:00, 27.37s/it]\n",
      "100%|██████████| 16/16 [00:00<00:00, 39.48it/s]\n"
     ]
    }
   ],
   "source": [
    "fl_shapley_weights_borda_ci = wf_fl_ci.shapley_pytorch(method = 'borda')\n",
    "# fl_shapley_weights_borda_c = wf_fl_c.shapley_pytorch(method = 'borda')\n",
    "# fl_shapley_weights_borda_i = wf_fl_i.shapley_pytorch(method = 'borda')\n",
    "\n",
    "di_shapley_weights_borda_ci = wf_di_ci.shapley_pytorch(method = 'borda')\n",
    "# di_shapley_weights_borda_c = wf_di_c.shapley_pytorch(method = 'borda')\n",
    "# di_shapley_weights_borda_i = wf_di_i.shapley_pytorch(method = 'borda')\n",
    "\n",
    "# fl_shapley_weights_plurality_ci = wf_fl_ci.shapley_pytorch(method = 'plurality')\n",
    "# # fl_shapley_weights_plurality_c = wf_fl_c.shapley_pytorch(method = 'plurality')\n",
    "# # fl_shapley_weights_plurality_i = wf_fl_i.shapley_pytorch(method = 'plurality')\n",
    "\n",
    "# di_shapley_weights_plurality_ci = wf_di_ci.shapley_pytorch(method = 'plurality')\n",
    "# di_shapley_weights_plurality_c = wf_di_c.shapley_pytorch(method = 'plurality')\n",
    "# di_shapley_weights_plurality_i = wf_di_i.shapley_pytorch(method = 'plurality')"
   ]
  },
  {
   "cell_type": "code",
   "execution_count": null,
   "metadata": {},
   "outputs": [],
   "source": [
    "fl_shapley_weights_borda_ci_dict = dict(zip(fl_just_names, fl_shapley_weights_borda_ci))\n",
    "# fl_shapley_weights_borda_c_dict = dict(zip(fl_just_names, fl_shapley_weights_borda_c))\n",
    "# fl_shapley_weights_borda_i_dict = dict(zip(fl_just_names, fl_shapley_weights_borda_i))\n",
    "di_shapley_weights_borda_ci_dict = dict(zip(di_just_names, di_shapley_weights_borda_ci))\n",
    "# di_shapley_weights_borda_c_dict = dict(zip(di_just_names, di_shapley_weights_borda_c))\n",
    "# di_shapley_weights_borda_i_dict = dict(zip(di_just_names, di_shapley_weights_borda_i))\n",
    "\n",
    "# fl_shapley_weights_plurality_ci_dict = dict(zip(fl_just_names, fl_shapley_weights_plurality_ci))\n",
    "# # fl_shapley_weights_plurality_c_dict = dict(zip(fl_just_names, fl_shapley_weights_plurality_c))\n",
    "# # fl_shapley_weights_plurality_i_dict = dict(zip(fl_just_names, fl_shapley_weights_plurality_i))\n",
    "# di_shapley_weights_plurality_ci_dict = dict(zip(di_just_names, di_shapley_weights_plurality_ci))\n",
    "# di_shapley_weights_plurality_c_dict = dict(zip(di_just_names, di_shapley_weights_plurality_c))\n",
    "# di_shapley_weights_plurality_i_dict = dict(zip(di_just_names, di_shapley_weights_plurality_i))"
   ]
  },
  {
   "cell_type": "code",
   "execution_count": null,
   "metadata": {},
   "outputs": [
    {
     "data": {
      "text/plain": [
       "{'vgg_cifar_fl_1.pt': 0.0614745089786758,\n",
       " 'cifar10_net_imagenet_fl_2.pt': 0.024981681004180713,\n",
       " 'vgg_imagenet_fl_3.pt': -0.000702608564275225,\n",
       " 'cifar10_net_cifar_fl_3.pt': 0.007790011747511169,\n",
       " 'cifar10_net_imagenet_fl_3.pt': 0.010879832667332265,\n",
       " 'vgg_imagenet_fl_0.pt': 0.04769879845463185,\n",
       " 'vgg_cifar_fl_2.pt': 0.04459245085161717,\n",
       " 'cifar10_net_cifar_fl_1.pt': 0.018612813636979964,\n",
       " 'cifar10_net_imagenet_fl_0.pt': 0.0473282650065984,\n",
       " 'vgg_cifar_fl_3.pt': 0.02400564460231155,\n",
       " 'cifar10_net_cifar_fl_2.pt': 0.015703290320789827,\n",
       " 'cifar10_net_imagenet_fl_1.pt': 0.03425018308851678,\n",
       " 'vgg_cifar_fl_0.pt': 0.10451886086136009,\n",
       " 'vgg_imagenet_fl_2.pt': 0.012513210986544603,\n",
       " 'cifar10_net_cifar_fl_0.pt': 0.014331386113886221,\n",
       " 'vgg_imagenet_fl_1.pt': 0.029943892465559462}"
      ]
     },
     "metadata": {},
     "output_type": "display_data"
    }
   ],
   "source": [
    "fl_shapley_weights_borda_ci_dict"
   ]
  },
  {
   "cell_type": "code",
   "execution_count": null,
   "metadata": {},
   "outputs": [],
   "source": [
    "# Save the weights\n",
    "with open('weights_2/shapley/fl_shapley_weights_borda_ci.json', 'w') as f:\n",
    "    json.dump(fl_shapley_weights_borda_ci_dict, f)\n",
    "\n",
    "# with open('weights_2/shapley/fl_shapley_weights_borda_c.json', 'w') as f:\n",
    "#     json.dump(fl_shapley_weights_borda_c_dict, f)\n",
    "\n",
    "# with open('weights_2/shapley/fl_shapley_weights_borda_i.json', 'w') as f:\n",
    "#     json.dump(fl_shapley_weights_borda_i_dict, f)\n",
    "\n",
    "with open('weights_2/shapley/di_shapley_weights_borda_ci.json', 'w') as f:\n",
    "    json.dump(di_shapley_weights_borda_ci_dict, f)\n",
    "\n",
    "# with open('weights_2/shapley/di_shapley_weights_borda_c.json', 'w') as f:\n",
    "#     json.dump(di_shapley_weights_borda_c_dict, f)\n",
    "\n",
    "# with open('weights_2/shapley/di_shapley_weights_borda_i.json', 'w') as f:\n",
    "#     json.dump(di_shapley_weights_borda_i_dict, f)\n",
    "\n",
    "# with open('weights_2/shapley/fl_shapley_weights_plurality_ci.json', 'w') as f:\n",
    "#     json.dump(fl_shapley_weights_plurality_ci_dict, f)\n",
    "\n",
    "# # with open('weights_2/shapley/fl_shapley_weights_plurality_c.json', 'w') as f:\n",
    "# #     json.dump(fl_shapley_weights_plurality_c_dict, f)\n",
    "\n",
    "# # with open('weights_2/shapley/fl_shapley_weights_plurality_i.json', 'w') as f:\n",
    "# #     json.dump(fl_shapley_weights_plurality_i_dict, f)\n",
    "\n",
    "# with open('weights_2/shapley/di_shapley_weights_plurality_ci.json', 'w') as f:\n",
    "#     json.dump(di_shapley_weights_plurality_ci_dict, f)\n",
    "\n",
    "# with open('weights_2/shapley/di_shapley_weights_plurality_c.json', 'w') as f:\n",
    "#     json.dump(di_shapley_weights_plurality_c_dict, f)\n",
    "\n",
    "# with open('weights_2/shapley/di_shapley_weights_plurality_i.json', 'w') as f:\n",
    "#     json.dump(di_shapley_weights_plurality_i_dict, f)\n",
    "\n",
    "# Load the weights\n",
    "# with open('weights_2/shapley/fl_shapley_weights_borda_ci.json', 'r') as f:\n",
    "#     fl_shapley_weights_borda_ci_dict = json.load(f)\n",
    "\n",
    "# with open('weights_2/shapley/fl_shapley_weights_borda_c.json', 'r') as f:\n",
    "#     fl_shapley_weights_borda_c_dict = json.load(f)\n",
    "\n",
    "# with open('weights_2/shapley/fl_shapley_weights_borda_i.json', 'r') as f:\n",
    "#     fl_shapley_weights_borda_i_dict = json.load(f)\n",
    "\n",
    "# with open('weights_2/shapley/di_shapley_weights_borda_ci.json', 'r') as f:\n",
    "#     di_shapley_weights_borda_ci_dict = json.load(f)\n",
    "\n",
    "# with open('weights_2/shapley/di_shapley_weights_borda_c.json', 'r') as f:\n",
    "#     di_shapley_weights_borda_c_dict = json.load(f)\n",
    "\n",
    "# with open('weights_2/shapley/di_shapley_weights_borda_i.json', 'r') as f:\n",
    "#     di_shapley_weights_borda_i_dict = json.load(f)\n",
    "\n",
    "# with open('weights_2/shapley/fl_shapley_weights_plurality_ci.json', 'r') as f:\n",
    "#     fl_shapley_weights_plurality_ci_dict = json.load(f)\n",
    "\n",
    "# with open('weights_2/shapley/fl_shapley_weights_plurality_c.json', 'r') as f:\n",
    "#     fl_shapley_weights_plurality_c_dict = json.load(f)\n",
    "\n",
    "# with open('weights_2/shapley/fl_shapley_weights_plurality_i.json', 'r') as f:\n",
    "#     fl_shapley_weights_plurality_i_dict = json.load(f)\n",
    "\n",
    "# with open('weights_2/shapley/di_shapley_weights_plurality_ci.json', 'r') as f:\n",
    "#     di_shapley_weights_plurality_ci_dict = json.load(f)\n",
    "\n",
    "# with open('weights_2/shapley/di_shapley_weights_plurality_c.json', 'r') as f:\n",
    "#     di_shapley_weights_plurality_c_dict = json.load(f)\n",
    "\n",
    "# with open('weights_2/shapley/di_shapley_weights_plurality_i.json', 'r') as f:\n",
    "#     di_shapley_weights_plurality_i_dict = json.load(f)"
   ]
  },
  {
   "cell_type": "markdown",
   "metadata": {},
   "source": [
    "### Regression weights"
   ]
  },
  {
   "cell_type": "code",
   "execution_count": null,
   "metadata": {},
   "outputs": [
    {
     "name": "stdout",
     "output_type": "stream",
     "text": [
      "Calculating Regression weights for 16 models\n",
      "Calculating Regression weights for 16 models\n"
     ]
    }
   ],
   "source": [
    "fl_regression_weights_ci = wf_fl_ci.regression_pytorch()\n",
    "# fl_regression_weights_c = wf_fl_c.regression_pytorch()\n",
    "# fl_regression_weights_i = wf_fl_i.regression_pytorch()\n",
    "\n",
    "di_regression_weights_ci = wf_di_ci.regression_pytorch()\n",
    "# di_regression_weights_c = wf_di_c.regression_pytorch()\n",
    "# di_regression_weights_i = wf_di_i.regression_pytorch()"
   ]
  },
  {
   "cell_type": "code",
   "execution_count": null,
   "metadata": {},
   "outputs": [],
   "source": [
    "fl_regression_weights_ci_dict = dict(zip(fl_just_names, fl_regression_weights_ci))\n",
    "# fl_regression_weights_c_dict = dict(zip(fl_just_names, fl_regression_weights_c))\n",
    "# fl_regression_weights_i_dict = dict(zip(fl_just_names, fl_regression_weights_i))\n",
    "di_regression_weights_ci_dict = dict(zip(di_just_names, di_regression_weights_ci))\n",
    "# di_regression_weights_c_dict = dict(zip(di_just_names, di_regression_weights_c))\n",
    "# di_regression_weights_i_dict = dict(zip(di_just_names, di_regression_weights_i))"
   ]
  },
  {
   "cell_type": "code",
   "execution_count": null,
   "metadata": {},
   "outputs": [],
   "source": [
    "# Save the weights\n",
    "with open('weights_2/regression/fl_regression_weights_ci.json', 'w') as f:\n",
    "    json.dump(fl_regression_weights_ci_dict, f)\n",
    "\n",
    "# with open('weights_2/regression/fl_regression_weights_c.json', 'w') as f:\n",
    "#     json.dump(fl_regression_weights_c_dict, f)\n",
    "\n",
    "# with open('weights_2/regression/fl_regression_weights_i.json', 'w') as f:\n",
    "#     json.dump(fl_regression_weights_i_dict, f)\n",
    "\n",
    "with open('weights_2/regression/di_regression_weights_ci.json', 'w') as f:\n",
    "    json.dump(di_regression_weights_ci_dict, f)\n",
    "\n",
    "# with open('weights_2/regression/di_regression_weights_c.json', 'w') as f:\n",
    "#     json.dump(di_regression_weights_c_dict, f)\n",
    "\n",
    "# with open('weights_2/regression/di_regression_weights_i.json', 'w') as f:\n",
    "#     json.dump(di_regression_weights_i_dict, f)\n",
    "\n",
    "# Load the weights\n",
    "# with open('weights_2/regression/fl_regression_weights_ci.json', 'r') as f:\n",
    "#     fl_regression_weights_ci_dict = json.load(f)\n",
    "\n",
    "# with open('weights_2/regression/fl_regression_weights_c.json', 'r') as f:\n",
    "#     fl_regression_weights_c_dict = json.load(f)\n",
    "\n",
    "# with open('weights_2/regression/fl_regression_weights_i.json', 'r') as f:\n",
    "#     fl_regression_weights_i_dict = json.load(f)\n",
    "\n",
    "# with open('weights_2/regression/di_regression_weights_ci.json', 'r') as f:\n",
    "#     di_regression_weights_ci_dict = json.load(f)\n",
    "\n",
    "# with open('weights_2/regression/di_regression_weights_c.json', 'r') as f:\n",
    "#     di_regression_weights_c_dict = json.load(f)\n",
    "\n",
    "# with open('weights_2/regression/di_regression_weights_i.json', 'r') as f:\n",
    "#     di_regression_weights_i_dict = json.load(f)"
   ]
  },
  {
   "cell_type": "code",
   "execution_count": null,
   "metadata": {},
   "outputs": [],
   "source": []
  }
 ],
 "metadata": {
  "language_info": {
   "name": "python"
  }
 },
 "nbformat": 4,
 "nbformat_minor": 2
}

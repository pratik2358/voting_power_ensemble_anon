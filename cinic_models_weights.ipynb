{
 "cells": [
  {
   "cell_type": "code",
   "execution_count": 1,
   "metadata": {},
   "outputs": [],
   "source": [
    "import os\n",
    "import torch\n",
    "import torch.nn as nn\n",
    "import torchvision\n",
    "import torchvision.transforms as transforms\n",
    "from tqdm import tqdm\n",
    "from models_used import CIFAR10_Net\n",
    "from torchvision import models\n",
    "import json\n",
    "from voting_utils import WeightFinding"
   ]
  },
  {
   "cell_type": "code",
   "execution_count": 2,
   "metadata": {},
   "outputs": [
    {
     "name": "stdout",
     "output_type": "stream",
     "text": [
      "Using device: cuda\n"
     ]
    }
   ],
   "source": [
    "device = torch.device('cuda' if torch.cuda.is_available() else 'cpu')\n",
    "print(f'Using device: {device}')"
   ]
  },
  {
   "cell_type": "code",
   "execution_count": 3,
   "metadata": {},
   "outputs": [
    {
     "name": "stderr",
     "output_type": "stream",
     "text": [
      "  0%|          | 0/24 [00:00<?, ?it/s]/home/pratik/miniconda3/lib/python3.12/site-packages/torchvision/models/_utils.py:208: UserWarning: The parameter 'pretrained' is deprecated since 0.13 and may be removed in the future, please use 'weights' instead.\n",
      "  warnings.warn(\n",
      "/home/pratik/miniconda3/lib/python3.12/site-packages/torchvision/models/_utils.py:223: UserWarning: Arguments other than a weight enum or `None` for 'weights' are deprecated since 0.13 and may be removed in the future. The current behavior is equivalent to passing `weights=VGG16_Weights.IMAGENET1K_V1`. You can also use `weights=VGG16_Weights.DEFAULT` to get the most up-to-date weights.\n",
      "  warnings.warn(msg)\n",
      "100%|██████████| 24/24 [00:06<00:00,  3.43it/s]"
     ]
    },
    {
     "name": "stdout",
     "output_type": "stream",
     "text": [
      "Loaded model from file: vgg_cifar_fl_1.pt\n",
      "Loaded model from file: cifar10_net_imagenet_fl_2.pt\n",
      "Loaded model from file: vgg_imagenet_fl_0.pt\n",
      "Loaded model from file: vgg_cifar_fl_2.pt\n",
      "Loaded model from file: cifar10_net_cifar_fl_1.pt\n",
      "Loaded model from file: cifar10_net_imagenet_fl_0.pt\n",
      "Loaded model from file: cifar10_net_cifar_fl_2.pt\n",
      "Loaded model from file: cifar10_net_imagenet_fl_1.pt\n",
      "Loaded model from file: vgg_cifar_fl_0.pt\n",
      "Loaded model from file: vgg_imagenet_fl_2.pt\n",
      "Loaded model from file: cifar10_net_cifar_fl_0.pt\n",
      "Loaded model from file: vgg_imagenet_fl_1.pt\n"
     ]
    },
    {
     "name": "stderr",
     "output_type": "stream",
     "text": [
      "\n"
     ]
    }
   ],
   "source": [
    "# Define the directory containing the models\n",
    "model_directory = 'cinic_various_models/'\n",
    "\n",
    "# Function to load models with \"fl\" in their name\n",
    "def load_models(directory, noise_type = 'fl'):\n",
    "    models_loaded = []\n",
    "\n",
    "    # List all files in the directory\n",
    "    files = os.listdir(directory)\n",
    "    \n",
    "    for file in tqdm(files):\n",
    "        if noise_type in file:\n",
    "            # Load the model\n",
    "            if 'cifar10_net' in file:\n",
    "                model = CIFAR10_Net()\n",
    "            else:\n",
    "                model = models.vgg16(pretrained = True)\n",
    "                input_lastLayer = model.classifier[6].in_features\n",
    "                model.classifier[6] = nn.Linear(input_lastLayer,10)\n",
    "            model_path = os.path.join(directory, file)\n",
    "            model.load_state_dict(torch.load(model_path))\n",
    "            models_loaded.append((file, model))\n",
    "    \n",
    "    return models_loaded\n",
    "\n",
    "# Load the models\n",
    "fl_models = load_models(model_directory)\n",
    "\n",
    "# Example usage: Print the names of the loaded models\n",
    "for file_name, model in fl_models:\n",
    "    print(f\"Loaded model from file: {file_name}\")"
   ]
  },
  {
   "cell_type": "code",
   "execution_count": 4,
   "metadata": {},
   "outputs": [
    {
     "name": "stderr",
     "output_type": "stream",
     "text": [
      "100%|██████████| 24/24 [00:07<00:00,  3.32it/s]"
     ]
    },
    {
     "name": "stdout",
     "output_type": "stream",
     "text": [
      "Loaded model from file: cifar10_net_imagenet_di_0.pt\n",
      "Loaded model from file: cifar10_net_cifar_di_0.pt\n",
      "Loaded model from file: vgg_imagenet_di_1.pt\n",
      "Loaded model from file: cifar10_net_cifar_di_2.pt\n",
      "Loaded model from file: cifar10_net_imagenet_di_1.pt\n",
      "Loaded model from file: vgg_imagenet_di_2.pt\n",
      "Loaded model from file: vgg_cifar_di_2.pt\n",
      "Loaded model from file: vgg_cifar_di_1.pt\n",
      "Loaded model from file: vgg_imagenet_di_0.pt\n",
      "Loaded model from file: vgg_cifar_di_0.pt\n",
      "Loaded model from file: cifar10_net_cifar_di_1.pt\n",
      "Loaded model from file: cifar10_net_imagenet_di_2.pt\n"
     ]
    },
    {
     "name": "stderr",
     "output_type": "stream",
     "text": [
      "\n"
     ]
    }
   ],
   "source": [
    "di_models = load_models(model_directory, noise_type = 'di')\n",
    "\n",
    "# Example usage: Print the names of the loaded models\n",
    "for file_name, model in di_models:\n",
    "    print(f\"Loaded model from file: {file_name}\")\n",
    "    # You can also print the model structure if needed\n",
    "    # print(model)\n"
   ]
  },
  {
   "cell_type": "markdown",
   "metadata": {},
   "source": [
    "### Load validation dataloaders"
   ]
  },
  {
   "cell_type": "code",
   "execution_count": 5,
   "metadata": {},
   "outputs": [],
   "source": [
    "cinic_directory = 'cinic_10_data'\n",
    "cinic_mean = [0.47889522, 0.47227842, 0.43047404]\n",
    "cinic_std = [0.24205776, 0.23828046, 0.25874835]\n",
    "\n",
    "cifar_valid = torch.utils.data.DataLoader(\n",
    "    torchvision.datasets.ImageFolder(cinic_directory + '/valid2/cifar',\n",
    "    \ttransform=transforms.Compose([transforms.ToTensor(),\n",
    "        transforms.Normalize(mean=cinic_mean,std=cinic_std)])),\n",
    "    batch_size=512, shuffle=False)\n",
    "\n",
    "imagenet_valid = torch.utils.data.DataLoader(\n",
    "    torchvision.datasets.ImageFolder(cinic_directory + '/valid2/imagenet',\n",
    "    \ttransform=transforms.Compose([transforms.ToTensor(),\n",
    "        transforms.Normalize(mean=cinic_mean,std=cinic_std)])),\n",
    "    batch_size=512, shuffle=False)"
   ]
  },
  {
   "cell_type": "markdown",
   "metadata": {},
   "source": [
    "### Create weight finder objects"
   ]
  },
  {
   "cell_type": "code",
   "execution_count": 6,
   "metadata": {},
   "outputs": [],
   "source": [
    "fl_just_models = [model for file_name, model in fl_models]\n",
    "di_just_models = [model for file_name, model in di_models]\n",
    "\n",
    "fl_just_names = [file_name for file_name, model in fl_models]\n",
    "di_just_names = [file_name for file_name, model in di_models]"
   ]
  },
  {
   "cell_type": "code",
   "execution_count": 7,
   "metadata": {},
   "outputs": [],
   "source": [
    "ci_loaders = [cifar_valid, imagenet_valid]\n",
    "c_loader = [cifar_valid]\n",
    "i_loader = [imagenet_valid]"
   ]
  },
  {
   "cell_type": "markdown",
   "metadata": {},
   "source": [
    "#### Uncomment the cell below only if you're computing the weight finder objects for the first time"
   ]
  },
  {
   "cell_type": "code",
   "execution_count": 8,
   "metadata": {},
   "outputs": [
    {
     "name": "stderr",
     "output_type": "stream",
     "text": [
      "100%|██████████| 40/40 [00:05<00:00,  7.19it/s]\n",
      "100%|██████████| 137/137 [00:19<00:00,  7.09it/s]\n",
      "100%|██████████| 40/40 [00:04<00:00,  9.15it/s]\n",
      "100%|██████████| 137/137 [00:15<00:00,  8.76it/s]\n",
      "100%|██████████| 40/40 [00:05<00:00,  7.48it/s]\n",
      "100%|██████████| 137/137 [00:19<00:00,  7.16it/s]\n",
      "100%|██████████| 40/40 [00:05<00:00,  7.62it/s]\n",
      "100%|██████████| 137/137 [00:18<00:00,  7.24it/s]\n",
      "100%|██████████| 40/40 [00:04<00:00,  9.03it/s]\n",
      "100%|██████████| 137/137 [00:15<00:00,  8.57it/s]\n",
      "100%|██████████| 40/40 [00:04<00:00,  8.93it/s]\n",
      "100%|██████████| 137/137 [00:15<00:00,  8.60it/s]\n",
      "100%|██████████| 40/40 [00:04<00:00,  8.88it/s]\n",
      "100%|██████████| 137/137 [00:16<00:00,  8.55it/s]\n",
      "100%|██████████| 40/40 [00:04<00:00,  8.92it/s]\n",
      "100%|██████████| 137/137 [00:16<00:00,  8.56it/s]\n",
      "100%|██████████| 40/40 [00:05<00:00,  7.48it/s]\n",
      "100%|██████████| 137/137 [00:18<00:00,  7.32it/s]\n",
      "100%|██████████| 40/40 [00:05<00:00,  7.30it/s]\n",
      "100%|██████████| 137/137 [00:19<00:00,  7.06it/s]\n",
      "100%|██████████| 40/40 [00:04<00:00,  8.91it/s]\n",
      "100%|██████████| 137/137 [00:15<00:00,  8.62it/s]\n",
      "100%|██████████| 40/40 [00:05<00:00,  7.63it/s]\n",
      "100%|██████████| 137/137 [00:18<00:00,  7.28it/s]\n",
      "100%|██████████| 40/40 [00:04<00:00,  8.98it/s]\n",
      "100%|██████████| 137/137 [00:16<00:00,  8.53it/s]\n",
      "100%|██████████| 40/40 [00:04<00:00,  8.99it/s]\n",
      "100%|██████████| 137/137 [00:15<00:00,  8.58it/s]\n",
      "100%|██████████| 40/40 [00:05<00:00,  7.72it/s]\n",
      "100%|██████████| 137/137 [00:18<00:00,  7.45it/s]\n",
      "100%|██████████| 40/40 [00:04<00:00,  9.05it/s]\n",
      "100%|██████████| 137/137 [00:15<00:00,  8.59it/s]\n",
      "100%|██████████| 40/40 [00:04<00:00,  9.02it/s]\n",
      "100%|██████████| 137/137 [00:15<00:00,  8.64it/s]\n",
      "100%|██████████| 40/40 [00:05<00:00,  7.87it/s]\n",
      "100%|██████████| 137/137 [00:17<00:00,  7.61it/s]\n",
      "100%|██████████| 40/40 [00:05<00:00,  7.66it/s]\n",
      "100%|██████████| 137/137 [00:19<00:00,  7.16it/s]\n",
      "100%|██████████| 40/40 [00:05<00:00,  7.07it/s]\n",
      "100%|██████████| 137/137 [00:18<00:00,  7.57it/s]\n",
      "100%|██████████| 40/40 [00:05<00:00,  7.89it/s]\n",
      "100%|██████████| 137/137 [00:18<00:00,  7.44it/s]\n",
      "100%|██████████| 40/40 [00:05<00:00,  7.22it/s]\n",
      "100%|██████████| 137/137 [00:18<00:00,  7.49it/s]\n",
      "100%|██████████| 40/40 [00:04<00:00,  8.82it/s]\n",
      "100%|██████████| 137/137 [00:15<00:00,  8.61it/s]\n",
      "100%|██████████| 40/40 [00:04<00:00,  8.96it/s]\n",
      "100%|██████████| 137/137 [00:15<00:00,  8.60it/s]\n"
     ]
    }
   ],
   "source": [
    "wf_fl_ci = WeightFinding(fl_just_models, ci_loaders, device)\n",
    "wf_di_ci = WeightFinding(di_just_models, ci_loaders, device)\n",
    "\n",
    "wf_fl_c = WeightFinding(fl_just_models, c_loader, device)\n",
    "wf_di_c = WeightFinding(di_just_models, c_loader, device)\n",
    "\n",
    "wf_fl_i = WeightFinding(fl_just_models, i_loader, device)\n",
    "wf_di_i = WeightFinding(di_just_models, i_loader, device)\n",
    "\n",
    "# wf_fl_ci.models = []\n",
    "# wf_di_ci.models = []\n",
    "# wf_fl_c.models = []\n",
    "# wf_di_c.models = []\n",
    "# wf_fl_i.models = []\n",
    "# wf_di_i.models = []"
   ]
  },
  {
   "cell_type": "code",
   "execution_count": 10,
   "metadata": {},
   "outputs": [],
   "source": [
    "# Save these objects\n",
    "wf_fl_ci.save('weight_finders/wf_fl_ci.pkl')\n",
    "wf_di_ci.save('weight_finders/wf_di_ci.pkl')\n",
    "# wf_fl_c.save('weight_finders/wf_fl_c.pkl')\n",
    "# wf_di_c.save('weight_finders/wf_di_c.pkl')\n",
    "# wf_fl_i.save('weight_finders/wf_fl_i.pkl')\n",
    "# wf_di_i.save('weight_finders/wf_di_i.pkl')\n",
    "\n",
    "# Load the objects\n",
    "wf_fl_ci = WeightFinding.load('weight_finders/wf_fl_ci.pkl')\n",
    "wf_di_ci = WeightFinding.load('weight_finders/wf_di_ci.pkl')\n",
    "# wf_fl_c = WeightFinding.load('weight_finders/wf_fl_c.pkl')\n",
    "# wf_di_c = WeightFinding.load('weight_finders/wf_di_c.pkl')\n",
    "# wf_fl_i = WeightFinding.load('weight_finders/wf_fl_i.pkl')\n",
    "# wf_di_i = WeightFinding.load('weight_finders/wf_di_i.pkl')"
   ]
  },
  {
   "cell_type": "markdown",
   "metadata": {},
   "source": [
    "### LOO Weights"
   ]
  },
  {
   "cell_type": "code",
   "execution_count": 12,
   "metadata": {},
   "outputs": [
    {
     "name": "stdout",
     "output_type": "stream",
     "text": [
      "Calculating LOO values for 12 models\n",
      "Calculating LOO values for 12 models\n",
      "Calculating LOO values for 12 models\n",
      "Calculating LOO values for 12 models\n",
      "Calculating LOO values for 12 models\n",
      "Calculating LOO values for 12 models\n",
      "Calculating LOO values for 12 models\n",
      "Calculating LOO values for 12 models\n",
      "Calculating LOO values for 12 models\n",
      "Calculating LOO values for 12 models\n",
      "Calculating LOO values for 12 models\n",
      "Calculating LOO values for 12 models\n"
     ]
    }
   ],
   "source": [
    "fl_loo_weights_borda_ci = wf_fl_ci.loo_pytorch(method = 'borda')\n",
    "fl_loo_weights_borda_c = wf_fl_c.loo_pytorch(method = 'borda')\n",
    "fl_loo_weights_borda_i = wf_fl_i.loo_pytorch(method = 'borda')\n",
    "\n",
    "di_loo_weights_borda_ci = wf_di_ci.loo_pytorch(method = 'borda')\n",
    "di_loo_weights_borda_c = wf_di_c.loo_pytorch(method = 'borda')\n",
    "di_loo_weights_borda_i = wf_di_i.loo_pytorch(method = 'borda')\n",
    "\n",
    "fl_loo_weights_plurality_ci = wf_fl_ci.loo_pytorch(method = 'plurality')\n",
    "fl_loo_weights_plurality_c = wf_fl_c.loo_pytorch(method = 'plurality')\n",
    "fl_loo_weights_plurality_i = wf_fl_i.loo_pytorch(method = 'plurality')\n",
    "\n",
    "di_loo_weights_plurality_ci = wf_di_ci.loo_pytorch(method = 'plurality')\n",
    "di_loo_weights_plurality_c = wf_di_c.loo_pytorch(method = 'plurality')\n",
    "di_loo_weights_plurality_i = wf_di_i.loo_pytorch(method = 'plurality')"
   ]
  },
  {
   "cell_type": "code",
   "execution_count": 13,
   "metadata": {},
   "outputs": [],
   "source": [
    "# make dictionary of the weights with model names\n",
    "fl_loo_weights_borda_ci_dict = dict(zip(fl_just_names, fl_loo_weights_borda_ci))\n",
    "fl_loo_weights_borda_c_dict = dict(zip(fl_just_names, fl_loo_weights_borda_c))\n",
    "fl_loo_weights_borda_i_dict = dict(zip(fl_just_names, fl_loo_weights_borda_i))\n",
    "di_loo_weights_borda_ci_dict = dict(zip(di_just_names, di_loo_weights_borda_ci))\n",
    "di_loo_weights_borda_c_dict = dict(zip(di_just_names, di_loo_weights_borda_c))\n",
    "di_loo_weights_borda_i_dict = dict(zip(di_just_names, di_loo_weights_borda_i))\n",
    "\n",
    "fl_loo_weights_plurality_ci_dict = dict(zip(fl_just_names, fl_loo_weights_plurality_ci))\n",
    "fl_loo_weights_plurality_c_dict = dict(zip(fl_just_names, fl_loo_weights_plurality_c))\n",
    "fl_loo_weights_plurality_i_dict = dict(zip(fl_just_names, fl_loo_weights_plurality_i))\n",
    "di_loo_weights_plurality_ci_dict = dict(zip(di_just_names, di_loo_weights_plurality_ci))\n",
    "di_loo_weights_plurality_c_dict = dict(zip(di_just_names, di_loo_weights_plurality_c))\n",
    "di_loo_weights_plurality_i_dict = dict(zip(di_just_names, di_loo_weights_plurality_i))"
   ]
  },
  {
   "cell_type": "code",
   "execution_count": 14,
   "metadata": {},
   "outputs": [],
   "source": [
    "# Save the weights\n",
    "with open('weights/loo/fl_loo_weights_borda_ci.json', 'w') as f:\n",
    "    json.dump(fl_loo_weights_borda_ci_dict, f)\n",
    "\n",
    "with open('weights/loo/fl_loo_weights_borda_c.json', 'w') as f:\n",
    "    json.dump(fl_loo_weights_borda_c_dict, f)\n",
    "\n",
    "with open('weights/loo/fl_loo_weights_borda_i.json', 'w') as f:\n",
    "    json.dump(fl_loo_weights_borda_i_dict, f)\n",
    "\n",
    "with open('weights/loo/di_loo_weights_borda_ci.json', 'w') as f:\n",
    "    json.dump(di_loo_weights_borda_ci_dict, f)\n",
    "\n",
    "with open('weights/loo/di_loo_weights_borda_c.json', 'w') as f:\n",
    "    json.dump(di_loo_weights_borda_c_dict, f)\n",
    "\n",
    "with open('weights/loo/di_loo_weights_borda_i.json', 'w') as f:\n",
    "    json.dump(di_loo_weights_borda_i_dict, f)\n",
    "\n",
    "with open('weights/loo/fl_loo_weights_plurality_ci.json', 'w') as f:\n",
    "    json.dump(fl_loo_weights_plurality_ci_dict, f)\n",
    "\n",
    "with open('weights/loo/fl_loo_weights_plurality_c.json', 'w') as f:\n",
    "    json.dump(fl_loo_weights_plurality_c_dict, f)\n",
    "\n",
    "with open('weights/loo/fl_loo_weights_plurality_i.json', 'w') as f:\n",
    "    json.dump(fl_loo_weights_plurality_i_dict, f)\n",
    "\n",
    "with open('weights/loo/di_loo_weights_plurality_ci.json', 'w') as f:\n",
    "    json.dump(di_loo_weights_plurality_ci_dict, f)\n",
    "\n",
    "with open('weights/loo/di_loo_weights_plurality_c.json', 'w') as f:\n",
    "    json.dump(di_loo_weights_plurality_c_dict, f)\n",
    "\n",
    "with open('weights/loo/di_loo_weights_plurality_i.json', 'w') as f:\n",
    "    json.dump(di_loo_weights_plurality_i_dict, f)\n",
    "\n",
    "# Load the weights\n",
    "with open('weights/loo/fl_loo_weights_borda_ci.json', 'r') as f:\n",
    "    fl_loo_weights_borda_ci_dict = json.load(f)\n",
    "\n",
    "with open('weights/loo/fl_loo_weights_borda_c.json', 'r') as f:\n",
    "    fl_loo_weights_borda_c_dict = json.load(f)\n",
    "\n",
    "with open('weights/loo/fl_loo_weights_borda_i.json', 'r') as f:\n",
    "    fl_loo_weights_borda_i_dict = json.load(f)\n",
    "\n",
    "with open('weights/loo/di_loo_weights_borda_ci.json', 'r') as f:\n",
    "    di_loo_weights_borda_ci_dict = json.load(f)\n",
    "\n",
    "with open('weights/loo/di_loo_weights_borda_c.json', 'r') as f:\n",
    "    di_loo_weights_borda_c_dict = json.load(f)\n",
    "\n",
    "with open('weights/loo/di_loo_weights_borda_i.json', 'r') as f:\n",
    "    di_loo_weights_borda_i_dict = json.load(f)\n",
    "\n",
    "with open('weights/loo/fl_loo_weights_plurality_ci.json', 'r') as f:\n",
    "    fl_loo_weights_plurality_ci_dict = json.load(f)\n",
    "\n",
    "with open('weights/loo/fl_loo_weights_plurality_c.json', 'r') as f:\n",
    "    fl_loo_weights_plurality_c_dict = json.load(f)\n",
    "\n",
    "with open('weights/loo/fl_loo_weights_plurality_i.json', 'r') as f:\n",
    "    fl_loo_weights_plurality_i_dict = json.load(f)\n",
    "\n",
    "with open('weights/loo/di_loo_weights_plurality_ci.json', 'r') as f:\n",
    "    di_loo_weights_plurality_ci_dict = json.load(f)\n",
    "\n",
    "with open('weights/loo/di_loo_weights_plurality_c.json', 'r') as f:\n",
    "    di_loo_weights_plurality_c_dict = json.load(f)\n",
    "\n",
    "with open('weights/loo/di_loo_weights_plurality_i.json', 'r') as f:\n",
    "    di_loo_weights_plurality_i_dict = json.load(f)"
   ]
  },
  {
   "cell_type": "markdown",
   "metadata": {},
   "source": [
    "### CRH weights"
   ]
  },
  {
   "cell_type": "code",
   "execution_count": 15,
   "metadata": {},
   "outputs": [],
   "source": [
    "fl_crh_weights_ci = wf_fl_ci.crh_pytorch()\n",
    "fl_crh_weights_c = wf_fl_c.crh_pytorch()\n",
    "fl_crh_weights_i = wf_fl_i.crh_pytorch()\n",
    "\n",
    "di_crh_weights_ci = wf_di_ci.crh_pytorch()\n",
    "di_crh_weights_c = wf_di_c.crh_pytorch()\n",
    "di_crh_weights_i = wf_di_i.crh_pytorch()"
   ]
  },
  {
   "cell_type": "code",
   "execution_count": 16,
   "metadata": {},
   "outputs": [],
   "source": [
    "fl_crh_weights_ci_dict = dict(zip(fl_just_names, fl_crh_weights_ci))\n",
    "fl_crh_weights_c_dict = dict(zip(fl_just_names, fl_crh_weights_c))\n",
    "fl_crh_weights_i_dict = dict(zip(fl_just_names, fl_crh_weights_i))\n",
    "di_crh_weights_ci_dict = dict(zip(di_just_names, di_crh_weights_ci))\n",
    "di_crh_weights_c_dict = dict(zip(di_just_names, di_crh_weights_c))\n",
    "di_crh_weights_i_dict = dict(zip(di_just_names, di_crh_weights_i))"
   ]
  },
  {
   "cell_type": "code",
   "execution_count": 17,
   "metadata": {},
   "outputs": [],
   "source": [
    "# Save the CRH weights\n",
    "with open('weights/crh/fl_crh_weights_ci.json', 'w') as f:\n",
    "    json.dump(fl_crh_weights_ci_dict, f)\n",
    "\n",
    "with open('weights/crh/fl_crh_weights_c.json', 'w') as f:\n",
    "    json.dump(fl_crh_weights_c_dict, f)\n",
    "\n",
    "with open('weights/crh/fl_crh_weights_i.json', 'w') as f:\n",
    "    json.dump(fl_crh_weights_i_dict, f)\n",
    "\n",
    "with open('weights/crh/di_crh_weights_ci.json', 'w') as f:\n",
    "    json.dump(di_crh_weights_ci_dict, f)\n",
    "\n",
    "with open('weights/crh/di_crh_weights_c.json', 'w') as f:\n",
    "    json.dump(di_crh_weights_c_dict, f)\n",
    "\n",
    "with open('weights/crh/di_crh_weights_i.json', 'w') as f:\n",
    "    json.dump(di_crh_weights_i_dict, f)\n",
    "\n",
    "# Load the CRH weights\n",
    "with open('weights/crh/fl_crh_weights_ci.json', 'r') as f:\n",
    "    fl_crh_weights_ci_dict = json.load(f)\n",
    "\n",
    "with open('weights/crh/fl_crh_weights_c.json', 'r') as f:\n",
    "    fl_crh_weights_c_dict = json.load(f)\n",
    "\n",
    "with open('weights/crh/fl_crh_weights_i.json', 'r') as f:\n",
    "    fl_crh_weights_i_dict = json.load(f)\n",
    "\n",
    "with open('weights/crh/di_crh_weights_ci.json', 'r') as f:\n",
    "    di_crh_weights_ci_dict = json.load(f)\n",
    "\n",
    "with open('weights/crh/di_crh_weights_c.json', 'r') as f:\n",
    "    di_crh_weights_c_dict = json.load(f)\n",
    "\n",
    "with open('weights/crh/di_crh_weights_i.json', 'r') as f:\n",
    "    di_crh_weights_i_dict = json.load(f)"
   ]
  },
  {
   "cell_type": "markdown",
   "metadata": {},
   "source": [
    "### Entropy weights"
   ]
  },
  {
   "cell_type": "code",
   "execution_count": 18,
   "metadata": {},
   "outputs": [],
   "source": [
    "fl_entropy_weights_ci = wf_fl_ci.entropy_weights()\n",
    "fl_entropy_weights_c = wf_fl_c.entropy_weights()\n",
    "fl_entropy_weights_i = wf_fl_i.entropy_weights()\n",
    "\n",
    "di_entropy_weights_ci = wf_di_ci.entropy_weights()\n",
    "di_entropy_weights_c = wf_di_c.entropy_weights()\n",
    "di_entropy_weights_i = wf_di_i.entropy_weights()"
   ]
  },
  {
   "cell_type": "code",
   "execution_count": 19,
   "metadata": {},
   "outputs": [],
   "source": [
    "fl_entropy_weights_ci_dict = dict(zip(fl_just_names, fl_entropy_weights_ci))\n",
    "fl_entropy_weights_c_dict = dict(zip(fl_just_names, fl_entropy_weights_c))\n",
    "fl_entropy_weights_i_dict = dict(zip(fl_just_names, fl_entropy_weights_i))\n",
    "di_entropy_weights_ci_dict = dict(zip(di_just_names, di_entropy_weights_ci))\n",
    "di_entropy_weights_c_dict = dict(zip(di_just_names, di_entropy_weights_c))\n",
    "di_entropy_weights_i_dict = dict(zip(di_just_names, di_entropy_weights_i))"
   ]
  },
  {
   "cell_type": "code",
   "execution_count": 20,
   "metadata": {},
   "outputs": [],
   "source": [
    "# Save the Entropy weights\n",
    "with open('weights/entropy/fl_entropy_weights_ci.json', 'w') as f:\n",
    "    json.dump(fl_entropy_weights_ci_dict, f)\n",
    "\n",
    "with open('weights/entropy/fl_entropy_weights_c.json', 'w') as f:\n",
    "    json.dump(fl_entropy_weights_c_dict, f)\n",
    "\n",
    "with open('weights/entropy/fl_entropy_weights_i.json', 'w') as f:\n",
    "    json.dump(fl_entropy_weights_i_dict, f)\n",
    "\n",
    "with open('weights/entropy/di_entropy_weights_ci.json', 'w') as f:\n",
    "    json.dump(di_entropy_weights_ci_dict, f)\n",
    "\n",
    "with open('weights/entropy/di_entropy_weights_c.json', 'w') as f:\n",
    "    json.dump(di_entropy_weights_c_dict, f)\n",
    "\n",
    "with open('weights/entropy/di_entropy_weights_i.json', 'w') as f:\n",
    "    json.dump(di_entropy_weights_i_dict, f)\n",
    "\n",
    "# Load the entropy weights\n",
    "with open('weights/entropy/fl_entropy_weights_ci.json', 'r') as f:\n",
    "    fl_entropy_weights_ci_dict = json.load(f)\n",
    "\n",
    "with open('weights/entropy/fl_entropy_weights_c.json', 'r') as f:\n",
    "    fl_entropy_weights_c_dict = json.load(f)\n",
    "\n",
    "with open('weights/entropy/fl_entropy_weights_i.json', 'r') as f:\n",
    "    fl_entropy_weights_i_dict = json.load(f)\n",
    "\n",
    "with open('weights/entropy/di_entropy_weights_ci.json', 'r') as f:\n",
    "    di_entropy_weights_ci_dict = json.load(f)\n",
    "\n",
    "with open('weights/entropy/di_entropy_weights_c.json', 'r') as f:\n",
    "    di_entropy_weights_c_dict = json.load(f)\n",
    "\n",
    "with open('weights/entropy/di_entropy_weights_i.json', 'r') as f:\n",
    "    di_entropy_weights_i_dict = json.load(f)"
   ]
  },
  {
   "cell_type": "markdown",
   "metadata": {},
   "source": [
    "### Accuracy weights"
   ]
  },
  {
   "cell_type": "code",
   "execution_count": 21,
   "metadata": {},
   "outputs": [],
   "source": [
    "fl_accuracy_weights_ci = wf_fl_ci.accuracy_weights()\n",
    "fl_accuracy_weights_c = wf_fl_c.accuracy_weights()\n",
    "fl_accuracy_weights_i = wf_fl_i.accuracy_weights()\n",
    "\n",
    "di_accuracy_weights_ci = wf_di_ci.accuracy_weights()\n",
    "di_accuracy_weights_c = wf_di_c.accuracy_weights()\n",
    "di_accuracy_weights_i = wf_di_i.accuracy_weights()"
   ]
  },
  {
   "cell_type": "code",
   "execution_count": 22,
   "metadata": {},
   "outputs": [],
   "source": [
    "fl_accuracy_weights_ci_dict = dict(zip(fl_just_names, fl_accuracy_weights_ci))\n",
    "fl_accuracy_weights_c_dict = dict(zip(fl_just_names, fl_accuracy_weights_c))\n",
    "fl_accuracy_weights_i_dict = dict(zip(fl_just_names, fl_accuracy_weights_i))\n",
    "di_accuracy_weights_ci_dict = dict(zip(di_just_names, di_accuracy_weights_ci))\n",
    "di_accuracy_weights_c_dict = dict(zip(di_just_names, di_accuracy_weights_c))\n",
    "di_accuracy_weights_i_dict = dict(zip(di_just_names, di_accuracy_weights_i))"
   ]
  },
  {
   "cell_type": "code",
   "execution_count": 23,
   "metadata": {},
   "outputs": [],
   "source": [
    "# Save the accuracy weights\n",
    "with open('weights/accuracy/fl_accuracy_weights_ci.json', 'w') as f:\n",
    "    json.dump(fl_accuracy_weights_ci_dict, f)\n",
    "\n",
    "with open('weights/accuracy/fl_accuracy_weights_c.json', 'w') as f:\n",
    "    json.dump(fl_accuracy_weights_c_dict, f)\n",
    "\n",
    "with open('weights/accuracy/fl_accuracy_weights_i.json', 'w') as f:\n",
    "    json.dump(fl_accuracy_weights_i_dict, f)\n",
    "\n",
    "with open('weights/accuracy/di_accuracy_weights_ci.json', 'w') as f:\n",
    "    json.dump(di_accuracy_weights_ci_dict, f)\n",
    "\n",
    "with open('weights/accuracy/di_accuracy_weights_c.json', 'w') as f:\n",
    "    json.dump(di_accuracy_weights_c_dict, f)\n",
    "\n",
    "with open('weights/accuracy/di_accuracy_weights_i.json', 'w') as f:\n",
    "    json.dump(di_accuracy_weights_i_dict, f)\n",
    "\n",
    "# Load the accuracy weights\n",
    "with open('weights/accuracy/fl_accuracy_weights_ci.json', 'r') as f:\n",
    "    fl_accuracy_weights_ci_dict = json.load(f)\n",
    "\n",
    "with open('weights/accuracy/fl_accuracy_weights_c.json', 'r') as f:\n",
    "    fl_accuracy_weights_c_dict = json.load(f)\n",
    "\n",
    "with open('weights/accuracy/fl_accuracy_weights_i.json', 'r') as f:\n",
    "    fl_accuracy_weights_i_dict = json.load(f)\n",
    "\n",
    "with open('weights/accuracy/di_accuracy_weights_ci.json', 'r') as f:\n",
    "    di_accuracy_weights_ci_dict = json.load(f)\n",
    "\n",
    "with open('weights/accuracy/di_accuracy_weights_c.json', 'r') as f:\n",
    "    di_accuracy_weights_c_dict = json.load(f)\n",
    "\n",
    "with open('weights/accuracy/di_accuracy_weights_i.json', 'r') as f:\n",
    "    di_accuracy_weights_i_dict = json.load(f)"
   ]
  },
  {
   "cell_type": "markdown",
   "metadata": {},
   "source": [
    "### Shapley weights"
   ]
  },
  {
   "cell_type": "code",
   "execution_count": 26,
   "metadata": {},
   "outputs": [
    {
     "name": "stdout",
     "output_type": "stream",
     "text": [
      "Calculating Shapley values for 12 models\n"
     ]
    },
    {
     "name": "stderr",
     "output_type": "stream",
     "text": [
      "  0%|          | 0/13 [00:00<?, ?it/s]/home/pratik/miniconda3/lib/python3.12/site-packages/numpy/core/fromnumeric.py:3504: RuntimeWarning: Mean of empty slice.\n",
      "  return _methods._mean(a, axis=axis, dtype=dtype,\n",
      "/home/pratik/miniconda3/lib/python3.12/site-packages/numpy/core/_methods.py:121: RuntimeWarning: invalid value encountered in divide\n",
      "  ret = um.true_divide(\n",
      "100%|██████████| 13/13 [00:25<00:00,  1.97s/it]\n",
      "100%|██████████| 12/12 [00:00<00:00, 723.35it/s]\n"
     ]
    },
    {
     "name": "stdout",
     "output_type": "stream",
     "text": [
      "Calculating Shapley values for 12 models\n"
     ]
    },
    {
     "name": "stderr",
     "output_type": "stream",
     "text": [
      "  0%|          | 0/13 [00:00<?, ?it/s]/home/pratik/miniconda3/lib/python3.12/site-packages/numpy/core/fromnumeric.py:3504: RuntimeWarning: Mean of empty slice.\n",
      "  return _methods._mean(a, axis=axis, dtype=dtype,\n",
      "/home/pratik/miniconda3/lib/python3.12/site-packages/numpy/core/_methods.py:121: RuntimeWarning: invalid value encountered in divide\n",
      "  ret = um.true_divide(\n",
      "100%|██████████| 13/13 [00:05<00:00,  2.43it/s]\n",
      "100%|██████████| 12/12 [00:00<00:00, 711.52it/s]\n"
     ]
    },
    {
     "name": "stdout",
     "output_type": "stream",
     "text": [
      "Calculating Shapley values for 12 models\n"
     ]
    },
    {
     "name": "stderr",
     "output_type": "stream",
     "text": [
      "  0%|          | 0/13 [00:00<?, ?it/s]/home/pratik/miniconda3/lib/python3.12/site-packages/numpy/core/fromnumeric.py:3504: RuntimeWarning: Mean of empty slice.\n",
      "  return _methods._mean(a, axis=axis, dtype=dtype,\n",
      "/home/pratik/miniconda3/lib/python3.12/site-packages/numpy/core/_methods.py:121: RuntimeWarning: invalid value encountered in divide\n",
      "  ret = um.true_divide(\n",
      "100%|██████████| 13/13 [00:19<00:00,  1.52s/it]\n",
      "100%|██████████| 12/12 [00:00<00:00, 719.77it/s]\n"
     ]
    },
    {
     "name": "stdout",
     "output_type": "stream",
     "text": [
      "Calculating Shapley values for 12 models\n"
     ]
    },
    {
     "name": "stderr",
     "output_type": "stream",
     "text": [
      "  0%|          | 0/13 [00:00<?, ?it/s]/home/pratik/miniconda3/lib/python3.12/site-packages/numpy/core/fromnumeric.py:3504: RuntimeWarning: Mean of empty slice.\n",
      "  return _methods._mean(a, axis=axis, dtype=dtype,\n",
      "/home/pratik/miniconda3/lib/python3.12/site-packages/numpy/core/_methods.py:121: RuntimeWarning: invalid value encountered in divide\n",
      "  ret = um.true_divide(\n",
      "100%|██████████| 13/13 [00:23<00:00,  1.83s/it]\n",
      "100%|██████████| 12/12 [00:00<00:00, 713.44it/s]\n"
     ]
    },
    {
     "name": "stdout",
     "output_type": "stream",
     "text": [
      "Calculating Shapley values for 12 models\n"
     ]
    },
    {
     "name": "stderr",
     "output_type": "stream",
     "text": [
      "  0%|          | 0/13 [00:00<?, ?it/s]/home/pratik/miniconda3/lib/python3.12/site-packages/numpy/core/fromnumeric.py:3504: RuntimeWarning: Mean of empty slice.\n",
      "  return _methods._mean(a, axis=axis, dtype=dtype,\n",
      "/home/pratik/miniconda3/lib/python3.12/site-packages/numpy/core/_methods.py:121: RuntimeWarning: invalid value encountered in divide\n",
      "  ret = um.true_divide(\n",
      "100%|██████████| 13/13 [00:04<00:00,  2.71it/s]\n",
      "100%|██████████| 12/12 [00:00<00:00, 734.18it/s]\n"
     ]
    },
    {
     "name": "stdout",
     "output_type": "stream",
     "text": [
      "Calculating Shapley values for 12 models\n"
     ]
    },
    {
     "name": "stderr",
     "output_type": "stream",
     "text": [
      "  0%|          | 0/13 [00:00<?, ?it/s]/home/pratik/miniconda3/lib/python3.12/site-packages/numpy/core/fromnumeric.py:3504: RuntimeWarning: Mean of empty slice.\n",
      "  return _methods._mean(a, axis=axis, dtype=dtype,\n",
      "/home/pratik/miniconda3/lib/python3.12/site-packages/numpy/core/_methods.py:121: RuntimeWarning: invalid value encountered in divide\n",
      "  ret = um.true_divide(\n",
      "100%|██████████| 13/13 [00:17<00:00,  1.37s/it]\n",
      "100%|██████████| 12/12 [00:00<00:00, 715.75it/s]\n"
     ]
    },
    {
     "name": "stdout",
     "output_type": "stream",
     "text": [
      "Calculating Shapley values for 12 models\n"
     ]
    },
    {
     "name": "stderr",
     "output_type": "stream",
     "text": [
      "100%|██████████| 13/13 [2:12:36<00:00, 612.00s/it]  \n",
      "100%|██████████| 12/12 [00:00<00:00, 726.85it/s]\n"
     ]
    },
    {
     "name": "stdout",
     "output_type": "stream",
     "text": [
      "Calculating Shapley values for 12 models\n"
     ]
    },
    {
     "name": "stderr",
     "output_type": "stream",
     "text": [
      "100%|██████████| 13/13 [29:23<00:00, 135.64s/it]\n",
      "100%|██████████| 12/12 [00:00<00:00, 708.40it/s]\n"
     ]
    },
    {
     "name": "stdout",
     "output_type": "stream",
     "text": [
      "Calculating Shapley values for 12 models\n"
     ]
    },
    {
     "name": "stderr",
     "output_type": "stream",
     "text": [
      "100%|██████████| 13/13 [1:42:53<00:00, 474.91s/it] \n",
      "100%|██████████| 12/12 [00:00<00:00, 709.88it/s]\n"
     ]
    },
    {
     "name": "stdout",
     "output_type": "stream",
     "text": [
      "Calculating Shapley values for 12 models\n"
     ]
    },
    {
     "name": "stderr",
     "output_type": "stream",
     "text": [
      "100%|██████████| 13/13 [2:12:39<00:00, 612.30s/it]  \n",
      "100%|██████████| 12/12 [00:00<00:00, 710.61it/s]\n"
     ]
    },
    {
     "name": "stdout",
     "output_type": "stream",
     "text": [
      "Calculating Shapley values for 12 models\n"
     ]
    },
    {
     "name": "stderr",
     "output_type": "stream",
     "text": [
      "100%|██████████| 13/13 [29:21<00:00, 135.48s/it]\n",
      "100%|██████████| 12/12 [00:00<00:00, 695.74it/s]\n"
     ]
    },
    {
     "name": "stdout",
     "output_type": "stream",
     "text": [
      "Calculating Shapley values for 12 models\n"
     ]
    },
    {
     "name": "stderr",
     "output_type": "stream",
     "text": [
      "100%|██████████| 13/13 [1:42:36<00:00, 473.60s/it] \n",
      "100%|██████████| 12/12 [00:00<00:00, 707.37it/s]\n"
     ]
    }
   ],
   "source": [
    "fl_shapley_weights_borda_ci = wf_fl_ci.shapley_pytorch(method = 'borda')\n",
    "fl_shapley_weights_borda_c = wf_fl_c.shapley_pytorch(method = 'borda')\n",
    "fl_shapley_weights_borda_i = wf_fl_i.shapley_pytorch(method = 'borda')\n",
    "\n",
    "di_shapley_weights_borda_ci = wf_di_ci.shapley_pytorch(method = 'borda')\n",
    "di_shapley_weights_borda_c = wf_di_c.shapley_pytorch(method = 'borda')\n",
    "di_shapley_weights_borda_i = wf_di_i.shapley_pytorch(method = 'borda')\n",
    "\n",
    "fl_shapley_weights_plurality_ci = wf_fl_ci.shapley_pytorch(method = 'plurality')\n",
    "fl_shapley_weights_plurality_c = wf_fl_c.shapley_pytorch(method = 'plurality')\n",
    "fl_shapley_weights_plurality_i = wf_fl_i.shapley_pytorch(method = 'plurality')\n",
    "\n",
    "di_shapley_weights_plurality_ci = wf_di_ci.shapley_pytorch(method = 'plurality')\n",
    "di_shapley_weights_plurality_c = wf_di_c.shapley_pytorch(method = 'plurality')\n",
    "di_shapley_weights_plurality_i = wf_di_i.shapley_pytorch(method = 'plurality')"
   ]
  },
  {
   "cell_type": "code",
   "execution_count": 27,
   "metadata": {},
   "outputs": [],
   "source": [
    "fl_shapley_weights_borda_ci_dict = dict(zip(fl_just_names, fl_shapley_weights_borda_ci))\n",
    "fl_shapley_weights_borda_c_dict = dict(zip(fl_just_names, fl_shapley_weights_borda_c))\n",
    "fl_shapley_weights_borda_i_dict = dict(zip(fl_just_names, fl_shapley_weights_borda_i))\n",
    "di_shapley_weights_borda_ci_dict = dict(zip(di_just_names, di_shapley_weights_borda_ci))\n",
    "di_shapley_weights_borda_c_dict = dict(zip(di_just_names, di_shapley_weights_borda_c))\n",
    "di_shapley_weights_borda_i_dict = dict(zip(di_just_names, di_shapley_weights_borda_i))\n",
    "\n",
    "fl_shapley_weights_plurality_ci_dict = dict(zip(fl_just_names, fl_shapley_weights_plurality_ci))\n",
    "fl_shapley_weights_plurality_c_dict = dict(zip(fl_just_names, fl_shapley_weights_plurality_c))\n",
    "fl_shapley_weights_plurality_i_dict = dict(zip(fl_just_names, fl_shapley_weights_plurality_i))\n",
    "di_shapley_weights_plurality_ci_dict = dict(zip(di_just_names, di_shapley_weights_plurality_ci))\n",
    "di_shapley_weights_plurality_c_dict = dict(zip(di_just_names, di_shapley_weights_plurality_c))\n",
    "di_shapley_weights_plurality_i_dict = dict(zip(di_just_names, di_shapley_weights_plurality_i))"
   ]
  },
  {
   "cell_type": "code",
   "execution_count": 28,
   "metadata": {},
   "outputs": [],
   "source": [
    "# Save the weights\n",
    "with open('weights/shapley/fl_shapley_weights_borda_ci.json', 'w') as f:\n",
    "    json.dump(fl_shapley_weights_borda_ci_dict, f)\n",
    "\n",
    "with open('weights/shapley/fl_shapley_weights_borda_c.json', 'w') as f:\n",
    "    json.dump(fl_shapley_weights_borda_c_dict, f)\n",
    "\n",
    "with open('weights/shapley/fl_shapley_weights_borda_i.json', 'w') as f:\n",
    "    json.dump(fl_shapley_weights_borda_i_dict, f)\n",
    "\n",
    "with open('weights/shapley/di_shapley_weights_borda_ci.json', 'w') as f:\n",
    "    json.dump(di_shapley_weights_borda_ci_dict, f)\n",
    "\n",
    "with open('weights/shapley/di_shapley_weights_borda_c.json', 'w') as f:\n",
    "    json.dump(di_shapley_weights_borda_c_dict, f)\n",
    "\n",
    "with open('weights/shapley/di_shapley_weights_borda_i.json', 'w') as f:\n",
    "    json.dump(di_shapley_weights_borda_i_dict, f)\n",
    "\n",
    "with open('weights/shapley/fl_shapley_weights_plurality_ci.json', 'w') as f:\n",
    "    json.dump(fl_shapley_weights_plurality_ci_dict, f)\n",
    "\n",
    "with open('weights/shapley/fl_shapley_weights_plurality_c.json', 'w') as f:\n",
    "    json.dump(fl_shapley_weights_plurality_c_dict, f)\n",
    "\n",
    "with open('weights/shapley/fl_shapley_weights_plurality_i.json', 'w') as f:\n",
    "    json.dump(fl_shapley_weights_plurality_i_dict, f)\n",
    "\n",
    "with open('weights/shapley/di_shapley_weights_plurality_ci.json', 'w') as f:\n",
    "    json.dump(di_shapley_weights_plurality_ci_dict, f)\n",
    "\n",
    "with open('weights/shapley/di_shapley_weights_plurality_c.json', 'w') as f:\n",
    "    json.dump(di_shapley_weights_plurality_c_dict, f)\n",
    "\n",
    "with open('weights/shapley/di_shapley_weights_plurality_i.json', 'w') as f:\n",
    "    json.dump(di_shapley_weights_plurality_i_dict, f)\n",
    "\n",
    "# Load the weights\n",
    "# with open('weights/shapley/fl_shapley_weights_borda_ci.json', 'r') as f:\n",
    "#     fl_shapley_weights_borda_ci_dict = json.load(f)\n",
    "\n",
    "# with open('weights/shapley/fl_shapley_weights_borda_c.json', 'r') as f:\n",
    "#     fl_shapley_weights_borda_c_dict = json.load(f)\n",
    "\n",
    "# with open('weights/shapley/fl_shapley_weights_borda_i.json', 'r') as f:\n",
    "#     fl_shapley_weights_borda_i_dict = json.load(f)\n",
    "\n",
    "# with open('weights/shapley/di_shapley_weights_borda_ci.json', 'r') as f:\n",
    "#     di_shapley_weights_borda_ci_dict = json.load(f)\n",
    "\n",
    "# with open('weights/shapley/di_shapley_weights_borda_c.json', 'r') as f:\n",
    "#     di_shapley_weights_borda_c_dict = json.load(f)\n",
    "\n",
    "# with open('weights/shapley/di_shapley_weights_borda_i.json', 'r') as f:\n",
    "#     di_shapley_weights_borda_i_dict = json.load(f)\n",
    "\n",
    "# with open('weights/shapley/fl_shapley_weights_plurality_ci.json', 'r') as f:\n",
    "#     fl_shapley_weights_plurality_ci_dict = json.load(f)\n",
    "\n",
    "# with open('weights/shapley/fl_shapley_weights_plurality_c.json', 'r') as f:\n",
    "#     fl_shapley_weights_plurality_c_dict = json.load(f)\n",
    "\n",
    "# with open('weights/shapley/fl_shapley_weights_plurality_i.json', 'r') as f:\n",
    "#     fl_shapley_weights_plurality_i_dict = json.load(f)\n",
    "\n",
    "# with open('weights/shapley/di_shapley_weights_plurality_ci.json', 'r') as f:\n",
    "#     di_shapley_weights_plurality_ci_dict = json.load(f)\n",
    "\n",
    "# with open('weights/shapley/di_shapley_weights_plurality_c.json', 'r') as f:\n",
    "#     di_shapley_weights_plurality_c_dict = json.load(f)\n",
    "\n",
    "# with open('weights/shapley/di_shapley_weights_plurality_i.json', 'r') as f:\n",
    "#     di_shapley_weights_plurality_i_dict = json.load(f)"
   ]
  },
  {
   "cell_type": "markdown",
   "metadata": {},
   "source": [
    "### Regression weights"
   ]
  },
  {
   "cell_type": "code",
   "execution_count": 11,
   "metadata": {},
   "outputs": [
    {
     "name": "stdout",
     "output_type": "stream",
     "text": [
      "Calculating Regression weights for 12 models\n",
      "Calculating Regression weights for 12 models\n"
     ]
    }
   ],
   "source": [
    "fl_regression_weights_ci = wf_fl_ci.regression_pytorch()\n",
    "# fl_regression_weights_c = wf_fl_c.regression_pytorch()\n",
    "# fl_regression_weights_i = wf_fl_i.regression_pytorch()\n",
    "\n",
    "di_regression_weights_ci = wf_di_ci.regression_pytorch()\n",
    "# di_regression_weights_c = wf_di_c.regression_pytorch()\n",
    "# di_regression_weights_i = wf_di_i.regression_pytorch()"
   ]
  },
  {
   "cell_type": "code",
   "execution_count": 12,
   "metadata": {},
   "outputs": [],
   "source": [
    "fl_regression_weights_ci_dict = dict(zip(fl_just_names, fl_regression_weights_ci))\n",
    "# fl_regression_weights_c_dict = dict(zip(fl_just_names, fl_regression_weights_c))\n",
    "# fl_regression_weights_i_dict = dict(zip(fl_just_names, fl_regression_weights_i))\n",
    "di_regression_weights_ci_dict = dict(zip(di_just_names, di_regression_weights_ci))\n",
    "# di_regression_weights_c_dict = dict(zip(di_just_names, di_regression_weights_c))\n",
    "# di_regression_weights_i_dict = dict(zip(di_just_names, di_regression_weights_i))"
   ]
  },
  {
   "cell_type": "code",
   "execution_count": 13,
   "metadata": {},
   "outputs": [],
   "source": [
    "# Save the weights\n",
    "with open('weights/regression/fl_regression_weights_ci.json', 'w') as f:\n",
    "    json.dump(fl_regression_weights_ci_dict, f)\n",
    "\n",
    "# with open('weights/regression/fl_regression_weights_c.json', 'w') as f:\n",
    "#     json.dump(fl_regression_weights_c_dict, f)\n",
    "\n",
    "# with open('weights/regression/fl_regression_weights_i.json', 'w') as f:\n",
    "#     json.dump(fl_regression_weights_i_dict, f)\n",
    "\n",
    "with open('weights/regression/di_regression_weights_ci.json', 'w') as f:\n",
    "    json.dump(di_regression_weights_ci_dict, f)\n",
    "\n",
    "# with open('weights/regression/di_regression_weights_c.json', 'w') as f:\n",
    "#     json.dump(di_regression_weights_c_dict, f)\n",
    "\n",
    "# with open('weights/regression/di_regression_weights_i.json', 'w') as f:\n",
    "#     json.dump(di_regression_weights_i_dict, f)\n",
    "\n",
    "# Load the weights\n",
    "# with open('weights/regression/fl_regression_weights_ci.json', 'r') as f:\n",
    "#     fl_regression_weights_ci_dict = json.load(f)\n",
    "\n",
    "# with open('weights/regression/fl_regression_weights_c.json', 'r') as f:\n",
    "#     fl_regression_weights_c_dict = json.load(f)\n",
    "\n",
    "# with open('weights/regression/fl_regression_weights_i.json', 'r') as f:\n",
    "#     fl_regression_weights_i_dict = json.load(f)\n",
    "\n",
    "# with open('weights/regression/di_regression_weights_ci.json', 'r') as f:\n",
    "#     di_regression_weights_ci_dict = json.load(f)\n",
    "\n",
    "# with open('weights/regression/di_regression_weights_c.json', 'r') as f:\n",
    "#     di_regression_weights_c_dict = json.load(f)\n",
    "\n",
    "# with open('weights/regression/di_regression_weights_i.json', 'r') as f:\n",
    "#     di_regression_weights_i_dict = json.load(f)"
   ]
  },
  {
   "cell_type": "code",
   "execution_count": null,
   "metadata": {},
   "outputs": [],
   "source": []
  }
 ],
 "metadata": {
  "kernelspec": {
   "display_name": "base",
   "language": "python",
   "name": "python3"
  },
  "language_info": {
   "codemirror_mode": {
    "name": "ipython",
    "version": 3
   },
   "file_extension": ".py",
   "mimetype": "text/x-python",
   "name": "python",
   "nbconvert_exporter": "python",
   "pygments_lexer": "ipython3",
   "version": "3.12.2"
  }
 },
 "nbformat": 4,
 "nbformat_minor": 2
}
